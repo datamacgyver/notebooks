{
  "nbformat": 4,
  "nbformat_minor": 0,
  "metadata": {
    "colab": {
      "name": "NeuralNetworksEmbedding.ipynb",
      "provenance": [],
      "collapsed_sections": [],
      "toc_visible": true,
      "authorship_tag": "ABX9TyPTjcOW547Lio/QkCS4C60n",
      "include_colab_link": true
    },
    "kernelspec": {
      "name": "python3",
      "display_name": "Python 3"
    },
    "accelerator": "GPU"
  },
  "cells": [
    {
      "cell_type": "markdown",
      "metadata": {
        "id": "view-in-github",
        "colab_type": "text"
      },
      "source": [
        "<a href=\"https://colab.research.google.com/github/swilsonmfc/notebooks/blob/master/NeuralNetworksEmbedding.ipynb\" target=\"_parent\"><img src=\"https://colab.research.google.com/assets/colab-badge.svg\" alt=\"Open In Colab\"/></a>"
      ]
    },
    {
      "cell_type": "markdown",
      "metadata": {
        "id": "feNAdaGV9ycP",
        "colab_type": "text"
      },
      "source": [
        "# Neural Networks & Embeddings"
      ]
    },
    {
      "cell_type": "markdown",
      "metadata": {
        "id": "KpvHm_fz91SU",
        "colab_type": "text"
      },
      "source": [
        "# Setup"
      ]
    },
    {
      "cell_type": "code",
      "metadata": {
        "id": "7i2yVZE2GgOp",
        "colab_type": "code",
        "outputId": "6df07601-1d83-4e4a-cfb6-06f97160f69a",
        "colab": {
          "base_uri": "https://localhost:8080/",
          "height": 326
        }
      },
      "source": [
        "pip install gensim"
      ],
      "execution_count": 1,
      "outputs": [
        {
          "output_type": "stream",
          "text": [
            "Requirement already satisfied: gensim in /usr/local/lib/python3.6/dist-packages (3.6.0)\n",
            "Requirement already satisfied: scipy>=0.18.1 in /usr/local/lib/python3.6/dist-packages (from gensim) (1.4.1)\n",
            "Requirement already satisfied: smart-open>=1.2.1 in /usr/local/lib/python3.6/dist-packages (from gensim) (2.0.0)\n",
            "Requirement already satisfied: six>=1.5.0 in /usr/local/lib/python3.6/dist-packages (from gensim) (1.12.0)\n",
            "Requirement already satisfied: numpy>=1.11.3 in /usr/local/lib/python3.6/dist-packages (from gensim) (1.18.4)\n",
            "Requirement already satisfied: boto in /usr/local/lib/python3.6/dist-packages (from smart-open>=1.2.1->gensim) (2.49.0)\n",
            "Requirement already satisfied: boto3 in /usr/local/lib/python3.6/dist-packages (from smart-open>=1.2.1->gensim) (1.13.19)\n",
            "Requirement already satisfied: requests in /usr/local/lib/python3.6/dist-packages (from smart-open>=1.2.1->gensim) (2.23.0)\n",
            "Requirement already satisfied: jmespath<1.0.0,>=0.7.1 in /usr/local/lib/python3.6/dist-packages (from boto3->smart-open>=1.2.1->gensim) (0.10.0)\n",
            "Requirement already satisfied: botocore<1.17.0,>=1.16.19 in /usr/local/lib/python3.6/dist-packages (from boto3->smart-open>=1.2.1->gensim) (1.16.19)\n",
            "Requirement already satisfied: s3transfer<0.4.0,>=0.3.0 in /usr/local/lib/python3.6/dist-packages (from boto3->smart-open>=1.2.1->gensim) (0.3.3)\n",
            "Requirement already satisfied: chardet<4,>=3.0.2 in /usr/local/lib/python3.6/dist-packages (from requests->smart-open>=1.2.1->gensim) (3.0.4)\n",
            "Requirement already satisfied: certifi>=2017.4.17 in /usr/local/lib/python3.6/dist-packages (from requests->smart-open>=1.2.1->gensim) (2020.4.5.1)\n",
            "Requirement already satisfied: urllib3!=1.25.0,!=1.25.1,<1.26,>=1.21.1 in /usr/local/lib/python3.6/dist-packages (from requests->smart-open>=1.2.1->gensim) (1.24.3)\n",
            "Requirement already satisfied: idna<3,>=2.5 in /usr/local/lib/python3.6/dist-packages (from requests->smart-open>=1.2.1->gensim) (2.9)\n",
            "Requirement already satisfied: python-dateutil<3.0.0,>=2.1 in /usr/local/lib/python3.6/dist-packages (from botocore<1.17.0,>=1.16.19->boto3->smart-open>=1.2.1->gensim) (2.8.1)\n",
            "Requirement already satisfied: docutils<0.16,>=0.10 in /usr/local/lib/python3.6/dist-packages (from botocore<1.17.0,>=1.16.19->boto3->smart-open>=1.2.1->gensim) (0.15.2)\n"
          ],
          "name": "stdout"
        }
      ]
    },
    {
      "cell_type": "code",
      "metadata": {
        "id": "mMqgP8JAoHED",
        "colab_type": "code",
        "colab": {}
      },
      "source": [
        "import pandas as pd\n",
        "import numpy as np\n",
        "import matplotlib.pyplot as plt\n",
        "import seaborn as sns\n",
        "import matplotlib.cm as cm\n",
        "import math\n",
        "\n",
        "from gensim.models.word2vec import Word2Vec\n",
        "import gensim.downloader as api\n",
        "\n",
        "import tensorflow as tf\n",
        "import tensorflow.keras as keras\n",
        "\n",
        "from tensorflow.keras import Sequential\n",
        "from tensorflow.keras import Model\n",
        "from tensorflow.keras.layers import Concatenate\n",
        "from tensorflow.keras.layers import Dense\n",
        "from tensorflow.keras.layers import Input\n",
        "from tensorflow.keras.layers import Embedding\n",
        "from tensorflow.keras.layers import Flatten\n",
        "from tensorflow.keras.layers import Dropout\n",
        "from tensorflow.keras.layers import Softmax\n",
        "from tensorflow.keras.layers import BatchNormalization\n",
        "from tensorflow.keras.layers import Activation\n",
        "from tensorflow.keras.callbacks import Callback\n",
        "from tensorflow.keras.optimizers import Adam\n",
        "\n",
        "from sklearn.model_selection import train_test_split\n",
        "from sklearn.preprocessing import LabelEncoder\n",
        "from sklearn.metrics import mean_absolute_error\n",
        "from sklearn.metrics import mean_squared_error"
      ],
      "execution_count": 0,
      "outputs": []
    },
    {
      "cell_type": "code",
      "metadata": {
        "id": "rjBSlL0f--l2",
        "colab_type": "code",
        "outputId": "5448b13d-cb23-4067-ef7f-0331467ec16b",
        "colab": {
          "base_uri": "https://localhost:8080/",
          "height": 34
        }
      },
      "source": [
        "tf.__version__"
      ],
      "execution_count": 3,
      "outputs": [
        {
          "output_type": "execute_result",
          "data": {
            "text/plain": [
              "'2.2.0'"
            ]
          },
          "metadata": {
            "tags": []
          },
          "execution_count": 3
        }
      ]
    },
    {
      "cell_type": "markdown",
      "metadata": {
        "id": "V0q6fLmy-IVe",
        "colab_type": "text"
      },
      "source": [
        "# Kaggle"
      ]
    },
    {
      "cell_type": "code",
      "metadata": {
        "id": "mBLLqOIf-pBY",
        "colab_type": "code",
        "outputId": "ea191e48-843e-48d6-ae81-145c73844108",
        "colab": {
          "base_uri": "https://localhost:8080/",
          "height": 224
        }
      },
      "source": [
        "!pip install kaggle\n",
        "!mkdir -p ~/.kaggle"
      ],
      "execution_count": 4,
      "outputs": [
        {
          "output_type": "stream",
          "text": [
            "Requirement already satisfied: kaggle in /usr/local/lib/python3.6/dist-packages (1.5.6)\n",
            "Requirement already satisfied: python-dateutil in /usr/local/lib/python3.6/dist-packages (from kaggle) (2.8.1)\n",
            "Requirement already satisfied: python-slugify in /usr/local/lib/python3.6/dist-packages (from kaggle) (4.0.0)\n",
            "Requirement already satisfied: requests in /usr/local/lib/python3.6/dist-packages (from kaggle) (2.23.0)\n",
            "Requirement already satisfied: six>=1.10 in /usr/local/lib/python3.6/dist-packages (from kaggle) (1.12.0)\n",
            "Requirement already satisfied: tqdm in /usr/local/lib/python3.6/dist-packages (from kaggle) (4.41.1)\n",
            "Requirement already satisfied: certifi in /usr/local/lib/python3.6/dist-packages (from kaggle) (2020.4.5.1)\n",
            "Requirement already satisfied: urllib3<1.25,>=1.21.1 in /usr/local/lib/python3.6/dist-packages (from kaggle) (1.24.3)\n",
            "Requirement already satisfied: text-unidecode>=1.3 in /usr/local/lib/python3.6/dist-packages (from python-slugify->kaggle) (1.3)\n",
            "Requirement already satisfied: chardet<4,>=3.0.2 in /usr/local/lib/python3.6/dist-packages (from requests->kaggle) (3.0.4)\n",
            "Requirement already satisfied: idna<3,>=2.5 in /usr/local/lib/python3.6/dist-packages (from requests->kaggle) (2.9)\n"
          ],
          "name": "stdout"
        }
      ]
    },
    {
      "cell_type": "code",
      "metadata": {
        "id": "cwDxGjaJ-pEm",
        "colab_type": "code",
        "colab": {}
      },
      "source": [
        "from google.colab import files\n",
        "files.upload()"
      ],
      "execution_count": 0,
      "outputs": []
    },
    {
      "cell_type": "code",
      "metadata": {
        "id": "DfM8ZMS5-JzK",
        "colab_type": "code",
        "colab": {}
      },
      "source": [
        "!mv kaggle.json ~/.kaggle\n",
        "!chmod 600 ~/.kaggle/kaggle.json"
      ],
      "execution_count": 0,
      "outputs": []
    },
    {
      "cell_type": "markdown",
      "metadata": {
        "id": "OMFFmi_U_M9_",
        "colab_type": "text"
      },
      "source": [
        "# Data"
      ]
    },
    {
      "cell_type": "code",
      "metadata": {
        "id": "flxuhJO6_JyA",
        "colab_type": "code",
        "outputId": "d2cd5700-01ca-4606-c21d-9076cb2eba97",
        "colab": {
          "base_uri": "https://localhost:8080/",
          "height": 68
        }
      },
      "source": [
        "!kaggle datasets download -d jpayne/852k-used-car-listings"
      ],
      "execution_count": 7,
      "outputs": [
        {
          "output_type": "stream",
          "text": [
            "Downloading 852k-used-car-listings.zip to /content\n",
            " 91% 41.0M/45.2M [00:00<00:00, 33.6MB/s]\n",
            "100% 45.2M/45.2M [00:00<00:00, 49.0MB/s]\n"
          ],
          "name": "stdout"
        }
      ]
    },
    {
      "cell_type": "code",
      "metadata": {
        "id": "055sNkGK_mCb",
        "colab_type": "code",
        "colab": {}
      },
      "source": [
        "# Unzip quietly\n",
        "!unzip -q /content/852k-used-car-listings.zip"
      ],
      "execution_count": 0,
      "outputs": []
    },
    {
      "cell_type": "code",
      "metadata": {
        "id": "HsUiMiZQCCz7",
        "colab_type": "code",
        "outputId": "20c1ae34-d117-4b93-954b-78298b333803",
        "colab": {
          "base_uri": "https://localhost:8080/",
          "height": 153
        }
      },
      "source": [
        "ls -al /content"
      ],
      "execution_count": 9,
      "outputs": [
        {
          "output_type": "stream",
          "text": [
            "total 189560\n",
            "drwxr-xr-x 1 root root     4096 Jun  4 00:16 \u001b[0m\u001b[01;34m.\u001b[0m/\n",
            "drwxr-xr-x 1 root root     4096 Jun  4 00:11 \u001b[01;34m..\u001b[0m/\n",
            "-rw-r--r-- 1 root root 47402340 Jun  4 00:16 852k-used-car-listings.zip\n",
            "drwxr-xr-x 1 root root     4096 Jun  2 16:14 \u001b[01;34m.config\u001b[0m/\n",
            "drwxr-xr-x 1 root root     4096 May 29 18:19 \u001b[01;34msample_data\u001b[0m/\n",
            "-rw-r--r-- 1 root root 90391630 Sep 21  2019 tc20171021.csv\n",
            "-rw-r--r-- 1 root root 56287873 Sep 21  2019 true_car_listings.csv\n"
          ],
          "name": "stdout"
        }
      ]
    },
    {
      "cell_type": "code",
      "metadata": {
        "id": "P2tsf1R0K2i5",
        "colab_type": "code",
        "outputId": "450839a0-2b42-4214-95d8-fbe5f2170d8f",
        "colab": {
          "base_uri": "https://localhost:8080/",
          "height": 34
        }
      },
      "source": [
        "df = pd.read_csv('/content/true_car_listings.csv')\n",
        "df.shape"
      ],
      "execution_count": 10,
      "outputs": [
        {
          "output_type": "execute_result",
          "data": {
            "text/plain": [
              "(852122, 8)"
            ]
          },
          "metadata": {
            "tags": []
          },
          "execution_count": 10
        }
      ]
    },
    {
      "cell_type": "markdown",
      "metadata": {
        "id": "jagCDMYwKydr",
        "colab_type": "text"
      },
      "source": [
        "# EDA"
      ]
    },
    {
      "cell_type": "code",
      "metadata": {
        "id": "_X-jjov4LCay",
        "colab_type": "code",
        "outputId": "70b28d53-a23f-4868-d128-4d26eefeb928",
        "colab": {
          "base_uri": "https://localhost:8080/",
          "height": 204
        }
      },
      "source": [
        "df.head()"
      ],
      "execution_count": 11,
      "outputs": [
        {
          "output_type": "execute_result",
          "data": {
            "text/html": [
              "<div>\n",
              "<style scoped>\n",
              "    .dataframe tbody tr th:only-of-type {\n",
              "        vertical-align: middle;\n",
              "    }\n",
              "\n",
              "    .dataframe tbody tr th {\n",
              "        vertical-align: top;\n",
              "    }\n",
              "\n",
              "    .dataframe thead th {\n",
              "        text-align: right;\n",
              "    }\n",
              "</style>\n",
              "<table border=\"1\" class=\"dataframe\">\n",
              "  <thead>\n",
              "    <tr style=\"text-align: right;\">\n",
              "      <th></th>\n",
              "      <th>Price</th>\n",
              "      <th>Year</th>\n",
              "      <th>Mileage</th>\n",
              "      <th>City</th>\n",
              "      <th>State</th>\n",
              "      <th>Vin</th>\n",
              "      <th>Make</th>\n",
              "      <th>Model</th>\n",
              "    </tr>\n",
              "  </thead>\n",
              "  <tbody>\n",
              "    <tr>\n",
              "      <th>0</th>\n",
              "      <td>8995</td>\n",
              "      <td>2014</td>\n",
              "      <td>35725</td>\n",
              "      <td>El Paso</td>\n",
              "      <td>TX</td>\n",
              "      <td>19VDE2E53EE000083</td>\n",
              "      <td>Acura</td>\n",
              "      <td>ILX6-Speed</td>\n",
              "    </tr>\n",
              "    <tr>\n",
              "      <th>1</th>\n",
              "      <td>10888</td>\n",
              "      <td>2013</td>\n",
              "      <td>19606</td>\n",
              "      <td>Long Island City</td>\n",
              "      <td>NY</td>\n",
              "      <td>19VDE1F52DE012636</td>\n",
              "      <td>Acura</td>\n",
              "      <td>ILX5-Speed</td>\n",
              "    </tr>\n",
              "    <tr>\n",
              "      <th>2</th>\n",
              "      <td>8995</td>\n",
              "      <td>2013</td>\n",
              "      <td>48851</td>\n",
              "      <td>El Paso</td>\n",
              "      <td>TX</td>\n",
              "      <td>19VDE2E52DE000025</td>\n",
              "      <td>Acura</td>\n",
              "      <td>ILX6-Speed</td>\n",
              "    </tr>\n",
              "    <tr>\n",
              "      <th>3</th>\n",
              "      <td>10999</td>\n",
              "      <td>2014</td>\n",
              "      <td>39922</td>\n",
              "      <td>Windsor</td>\n",
              "      <td>CO</td>\n",
              "      <td>19VDE1F71EE003817</td>\n",
              "      <td>Acura</td>\n",
              "      <td>ILX5-Speed</td>\n",
              "    </tr>\n",
              "    <tr>\n",
              "      <th>4</th>\n",
              "      <td>14799</td>\n",
              "      <td>2016</td>\n",
              "      <td>22142</td>\n",
              "      <td>Lindon</td>\n",
              "      <td>UT</td>\n",
              "      <td>19UDE2F32GA001284</td>\n",
              "      <td>Acura</td>\n",
              "      <td>ILXAutomatic</td>\n",
              "    </tr>\n",
              "  </tbody>\n",
              "</table>\n",
              "</div>"
            ],
            "text/plain": [
              "   Price  Year  Mileage  ...                Vin   Make         Model\n",
              "0   8995  2014    35725  ...  19VDE2E53EE000083  Acura    ILX6-Speed\n",
              "1  10888  2013    19606  ...  19VDE1F52DE012636  Acura    ILX5-Speed\n",
              "2   8995  2013    48851  ...  19VDE2E52DE000025  Acura    ILX6-Speed\n",
              "3  10999  2014    39922  ...  19VDE1F71EE003817  Acura    ILX5-Speed\n",
              "4  14799  2016    22142  ...  19UDE2F32GA001284  Acura  ILXAutomatic\n",
              "\n",
              "[5 rows x 8 columns]"
            ]
          },
          "metadata": {
            "tags": []
          },
          "execution_count": 11
        }
      ]
    },
    {
      "cell_type": "markdown",
      "metadata": {
        "id": "zJFEQHiTMb94",
        "colab_type": "text"
      },
      "source": [
        "## Missing\n",
        "* No missing data"
      ]
    },
    {
      "cell_type": "code",
      "metadata": {
        "id": "FJFkn0mxMgsD",
        "colab_type": "code",
        "outputId": "524c261d-3739-4b9d-abff-7bdeb2dd3a3c",
        "colab": {
          "base_uri": "https://localhost:8080/",
          "height": 170
        }
      },
      "source": [
        "df.isna().sum(axis=0)"
      ],
      "execution_count": 12,
      "outputs": [
        {
          "output_type": "execute_result",
          "data": {
            "text/plain": [
              "Price      0\n",
              "Year       0\n",
              "Mileage    0\n",
              "City       0\n",
              "State      0\n",
              "Vin        0\n",
              "Make       0\n",
              "Model      0\n",
              "dtype: int64"
            ]
          },
          "metadata": {
            "tags": []
          },
          "execution_count": 12
        }
      ]
    },
    {
      "cell_type": "markdown",
      "metadata": {
        "id": "lWDrPWgiLZnV",
        "colab_type": "text"
      },
      "source": [
        "## Price\n",
        "* A few expensive cars in the dataset"
      ]
    },
    {
      "cell_type": "code",
      "metadata": {
        "id": "9Jn0TPWfHwvr",
        "colab_type": "code",
        "outputId": "505eb0ee-4c50-4ae3-f521-abbd05d6f732",
        "colab": {
          "base_uri": "https://localhost:8080/",
          "height": 533
        }
      },
      "source": [
        "df.hist('Price', bins=25, figsize=(10,8))"
      ],
      "execution_count": 13,
      "outputs": [
        {
          "output_type": "execute_result",
          "data": {
            "text/plain": [
              "array([[<matplotlib.axes._subplots.AxesSubplot object at 0x7f7d541cbf60>]],\n",
              "      dtype=object)"
            ]
          },
          "metadata": {
            "tags": []
          },
          "execution_count": 13
        },
        {
          "output_type": "display_data",
          "data": {
            "image/png": "[encoded data removed]",
            "text/plain": [
              "<Figure size 720x576 with 1 Axes>"
            ]
          },
          "metadata": {
            "tags": [],
            "needs_background": "light"
          }
        }
      ]
    },
    {
      "cell_type": "code",
      "metadata": {
        "id": "UzFO7lvVH-NK",
        "colab_type": "code",
        "outputId": "815d4ac0-0528-4f22-caca-c2eeeb20e1e7",
        "colab": {
          "base_uri": "https://localhost:8080/",
          "height": 419
        }
      },
      "source": [
        "df[df.Price > 100000].sort_values('Price', ascending=False)"
      ],
      "execution_count": 14,
      "outputs": [
        {
          "output_type": "execute_result",
          "data": {
            "text/html": [
              "<div>\n",
              "<style scoped>\n",
              "    .dataframe tbody tr th:only-of-type {\n",
              "        vertical-align: middle;\n",
              "    }\n",
              "\n",
              "    .dataframe tbody tr th {\n",
              "        vertical-align: top;\n",
              "    }\n",
              "\n",
              "    .dataframe thead th {\n",
              "        text-align: right;\n",
              "    }\n",
              "</style>\n",
              "<table border=\"1\" class=\"dataframe\">\n",
              "  <thead>\n",
              "    <tr style=\"text-align: right;\">\n",
              "      <th></th>\n",
              "      <th>Price</th>\n",
              "      <th>Year</th>\n",
              "      <th>Mileage</th>\n",
              "      <th>City</th>\n",
              "      <th>State</th>\n",
              "      <th>Vin</th>\n",
              "      <th>Make</th>\n",
              "      <th>Model</th>\n",
              "    </tr>\n",
              "  </thead>\n",
              "  <tbody>\n",
              "    <tr>\n",
              "      <th>622265</th>\n",
              "      <td>499500</td>\n",
              "      <td>2014</td>\n",
              "      <td>3260</td>\n",
              "      <td>Westville</td>\n",
              "      <td>NJ</td>\n",
              "      <td>WDDRJ7HA4EA010693</td>\n",
              "      <td>Mercedes-Benz</td>\n",
              "      <td>SLS</td>\n",
              "    </tr>\n",
              "    <tr>\n",
              "      <th>622264</th>\n",
              "      <td>490000</td>\n",
              "      <td>2008</td>\n",
              "      <td>3307</td>\n",
              "      <td>Encino</td>\n",
              "      <td>CA</td>\n",
              "      <td>WDDAK76F78M001594</td>\n",
              "      <td>Mercedes-Benz</td>\n",
              "      <td>SLR</td>\n",
              "    </tr>\n",
              "    <tr>\n",
              "      <th>549574</th>\n",
              "      <td>469991</td>\n",
              "      <td>2016</td>\n",
              "      <td>312</td>\n",
              "      <td>Saint James</td>\n",
              "      <td>NY</td>\n",
              "      <td>ZHWUR1ZD5GLA05118</td>\n",
              "      <td>Lamborghini</td>\n",
              "      <td>Aventador2dr</td>\n",
              "    </tr>\n",
              "    <tr>\n",
              "      <th>480444</th>\n",
              "      <td>469973</td>\n",
              "      <td>2016</td>\n",
              "      <td>6525</td>\n",
              "      <td>Kirkland</td>\n",
              "      <td>WA</td>\n",
              "      <td>SAJBK4BV2GCY19895</td>\n",
              "      <td>Jaguar</td>\n",
              "      <td>XF35t</td>\n",
              "    </tr>\n",
              "    <tr>\n",
              "      <th>549573</th>\n",
              "      <td>462000</td>\n",
              "      <td>2017</td>\n",
              "      <td>261</td>\n",
              "      <td>Davie</td>\n",
              "      <td>FL</td>\n",
              "      <td>ZHWUC1ZD4HLA05825</td>\n",
              "      <td>Lamborghini</td>\n",
              "      <td>AventadorCoupe</td>\n",
              "    </tr>\n",
              "    <tr>\n",
              "      <th>...</th>\n",
              "      <td>...</td>\n",
              "      <td>...</td>\n",
              "      <td>...</td>\n",
              "      <td>...</td>\n",
              "      <td>...</td>\n",
              "      <td>...</td>\n",
              "      <td>...</td>\n",
              "      <td>...</td>\n",
              "    </tr>\n",
              "    <tr>\n",
              "      <th>703751</th>\n",
              "      <td>100900</td>\n",
              "      <td>2015</td>\n",
              "      <td>10951</td>\n",
              "      <td>West Palm Beach</td>\n",
              "      <td>FL</td>\n",
              "      <td>WP0CB2A99FS143302</td>\n",
              "      <td>Porsche</td>\n",
              "      <td>911Cabriolet</td>\n",
              "    </tr>\n",
              "    <tr>\n",
              "      <th>621927</th>\n",
              "      <td>100880</td>\n",
              "      <td>2016</td>\n",
              "      <td>4887</td>\n",
              "      <td>Silver Spring</td>\n",
              "      <td>MD</td>\n",
              "      <td>WDDXJ8FB6GA012974</td>\n",
              "      <td>Mercedes-Benz</td>\n",
              "      <td>S-ClassS550</td>\n",
              "    </tr>\n",
              "    <tr>\n",
              "      <th>621920</th>\n",
              "      <td>100855</td>\n",
              "      <td>2017</td>\n",
              "      <td>12</td>\n",
              "      <td>Hagerstown</td>\n",
              "      <td>MD</td>\n",
              "      <td>WDDUG8FB0HA321455</td>\n",
              "      <td>Mercedes-Benz</td>\n",
              "      <td>S-ClassS</td>\n",
              "    </tr>\n",
              "    <tr>\n",
              "      <th>553583</th>\n",
              "      <td>100777</td>\n",
              "      <td>2016</td>\n",
              "      <td>11665</td>\n",
              "      <td>Houston</td>\n",
              "      <td>TX</td>\n",
              "      <td>SALWZ2EF0GA589511</td>\n",
              "      <td>Land</td>\n",
              "      <td>Rover</td>\n",
              "    </tr>\n",
              "    <tr>\n",
              "      <th>621957</th>\n",
              "      <td>100753</td>\n",
              "      <td>2016</td>\n",
              "      <td>17612</td>\n",
              "      <td>TYLER</td>\n",
              "      <td>TX</td>\n",
              "      <td>WDCYC3KF4GX257901</td>\n",
              "      <td>Mercedes-Benz</td>\n",
              "      <td>G-ClassG550</td>\n",
              "    </tr>\n",
              "  </tbody>\n",
              "</table>\n",
              "<p>1755 rows × 8 columns</p>\n",
              "</div>"
            ],
            "text/plain": [
              "         Price  Year  Mileage  ...                Vin           Make           Model\n",
              "622265  499500  2014     3260  ...  WDDRJ7HA4EA010693  Mercedes-Benz             SLS\n",
              "622264  490000  2008     3307  ...  WDDAK76F78M001594  Mercedes-Benz             SLR\n",
              "549574  469991  2016      312  ...  ZHWUR1ZD5GLA05118    Lamborghini    Aventador2dr\n",
              "480444  469973  2016     6525  ...  SAJBK4BV2GCY19895         Jaguar           XF35t\n",
              "549573  462000  2017      261  ...  ZHWUC1ZD4HLA05825    Lamborghini  AventadorCoupe\n",
              "...        ...   ...      ...  ...                ...            ...             ...\n",
              "703751  100900  2015    10951  ...  WP0CB2A99FS143302        Porsche    911Cabriolet\n",
              "621927  100880  2016     4887  ...  WDDXJ8FB6GA012974  Mercedes-Benz     S-ClassS550\n",
              "621920  100855  2017       12  ...  WDDUG8FB0HA321455  Mercedes-Benz        S-ClassS\n",
              "553583  100777  2016    11665  ...  SALWZ2EF0GA589511           Land           Rover\n",
              "621957  100753  2016    17612  ...  WDCYC3KF4GX257901  Mercedes-Benz     G-ClassG550\n",
              "\n",
              "[1755 rows x 8 columns]"
            ]
          },
          "metadata": {
            "tags": []
          },
          "execution_count": 14
        }
      ]
    },
    {
      "cell_type": "markdown",
      "metadata": {
        "id": "bfZo0XbHOdaY",
        "colab_type": "text"
      },
      "source": [
        "https://www.auto.com/cars/mercedes_benz-sls_amg_black_series-base-2014-wddrj7ha4ea010693"
      ]
    },
    {
      "cell_type": "markdown",
      "metadata": {
        "id": "6CXbLjvQFs8u",
        "colab_type": "text"
      },
      "source": [
        "## Mileage"
      ]
    },
    {
      "cell_type": "code",
      "metadata": {
        "id": "n57FHZcBFvRG",
        "colab_type": "code",
        "colab": {
          "base_uri": "https://localhost:8080/",
          "height": 546
        },
        "outputId": "fc88c740-70cb-4383-9883-2bcb3ab5f24b"
      },
      "source": [
        "df.hist('Mileage', bins=25, figsize=(10,8))"
      ],
      "execution_count": 15,
      "outputs": [
        {
          "output_type": "execute_result",
          "data": {
            "text/plain": [
              "array([[<matplotlib.axes._subplots.AxesSubplot object at 0x7f7d54068710>]],\n",
              "      dtype=object)"
            ]
          },
          "metadata": {
            "tags": []
          },
          "execution_count": 15
        },
        {
          "output_type": "display_data",
          "data": {
            "image/png": "[encoded data removed]",
            "text/plain": [
              "<Figure size 720x576 with 1 Axes>"
            ]
          },
          "metadata": {
            "tags": [],
            "needs_background": "light"
          }
        }
      ]
    },
    {
      "cell_type": "code",
      "metadata": {
        "id": "K9NKG_CnF1eD",
        "colab_type": "code",
        "colab": {
          "base_uri": "https://localhost:8080/",
          "height": 419
        },
        "outputId": "b333db46-4a80-4e78-c9b8-81848704dfc9"
      },
      "source": [
        "df[df.Mileage > 100000].sort_values('Mileage', ascending=False)"
      ],
      "execution_count": 16,
      "outputs": [
        {
          "output_type": "execute_result",
          "data": {
            "text/html": [
              "<div>\n",
              "<style scoped>\n",
              "    .dataframe tbody tr th:only-of-type {\n",
              "        vertical-align: middle;\n",
              "    }\n",
              "\n",
              "    .dataframe tbody tr th {\n",
              "        vertical-align: top;\n",
              "    }\n",
              "\n",
              "    .dataframe thead th {\n",
              "        text-align: right;\n",
              "    }\n",
              "</style>\n",
              "<table border=\"1\" class=\"dataframe\">\n",
              "  <thead>\n",
              "    <tr style=\"text-align: right;\">\n",
              "      <th></th>\n",
              "      <th>Price</th>\n",
              "      <th>Year</th>\n",
              "      <th>Mileage</th>\n",
              "      <th>City</th>\n",
              "      <th>State</th>\n",
              "      <th>Vin</th>\n",
              "      <th>Make</th>\n",
              "      <th>Model</th>\n",
              "    </tr>\n",
              "  </thead>\n",
              "  <tbody>\n",
              "    <tr>\n",
              "      <th>186465</th>\n",
              "      <td>4933</td>\n",
              "      <td>2002</td>\n",
              "      <td>2856196</td>\n",
              "      <td>Hayward</td>\n",
              "      <td>CA</td>\n",
              "      <td>3GNFK16T32G206964</td>\n",
              "      <td>Chevrolet</td>\n",
              "      <td>Suburban4dr</td>\n",
              "    </tr>\n",
              "    <tr>\n",
              "      <th>186464</th>\n",
              "      <td>13686</td>\n",
              "      <td>2013</td>\n",
              "      <td>2457832</td>\n",
              "      <td>Columbus</td>\n",
              "      <td>GA</td>\n",
              "      <td>1GCNCPEX1DZ185639</td>\n",
              "      <td>Chevrolet</td>\n",
              "      <td>Silverado</td>\n",
              "    </tr>\n",
              "    <tr>\n",
              "      <th>478168</th>\n",
              "      <td>4990</td>\n",
              "      <td>2005</td>\n",
              "      <td>2137327</td>\n",
              "      <td>Schaumburg</td>\n",
              "      <td>IL</td>\n",
              "      <td>JNRAS08W85X203448</td>\n",
              "      <td>INFINITI</td>\n",
              "      <td>FX35AWD</td>\n",
              "    </tr>\n",
              "    <tr>\n",
              "      <th>429123</th>\n",
              "      <td>4995</td>\n",
              "      <td>2006</td>\n",
              "      <td>1814638</td>\n",
              "      <td>Philadelphia</td>\n",
              "      <td>PA</td>\n",
              "      <td>1HGFA16826L131367</td>\n",
              "      <td>Honda</td>\n",
              "      <td>Civic</td>\n",
              "    </tr>\n",
              "    <tr>\n",
              "      <th>349757</th>\n",
              "      <td>5991</td>\n",
              "      <td>2010</td>\n",
              "      <td>1650780</td>\n",
              "      <td>Fort Lauderdale</td>\n",
              "      <td>FL</td>\n",
              "      <td>1FMEU6EE5AUA07808</td>\n",
              "      <td>Ford</td>\n",
              "      <td>ExplorerRWD</td>\n",
              "    </tr>\n",
              "    <tr>\n",
              "      <th>...</th>\n",
              "      <td>...</td>\n",
              "      <td>...</td>\n",
              "      <td>...</td>\n",
              "      <td>...</td>\n",
              "      <td>...</td>\n",
              "      <td>...</td>\n",
              "      <td>...</td>\n",
              "      <td>...</td>\n",
              "    </tr>\n",
              "    <tr>\n",
              "      <th>444279</th>\n",
              "      <td>9495</td>\n",
              "      <td>2012</td>\n",
              "      <td>100001</td>\n",
              "      <td>Arlington</td>\n",
              "      <td>TX</td>\n",
              "      <td>KMHEC4A49CA057345</td>\n",
              "      <td>Hyundai</td>\n",
              "      <td>Sonata4dr</td>\n",
              "    </tr>\n",
              "    <tr>\n",
              "      <th>828544</th>\n",
              "      <td>6499</td>\n",
              "      <td>2013</td>\n",
              "      <td>100001</td>\n",
              "      <td>Vienna</td>\n",
              "      <td>VA</td>\n",
              "      <td>3VW2K7AJ1DM317823</td>\n",
              "      <td>Volkswagen</td>\n",
              "      <td>Jetta</td>\n",
              "    </tr>\n",
              "    <tr>\n",
              "      <th>275776</th>\n",
              "      <td>5988</td>\n",
              "      <td>2003</td>\n",
              "      <td>100001</td>\n",
              "      <td>Boise</td>\n",
              "      <td>ID</td>\n",
              "      <td>1FMYU93193KE17086</td>\n",
              "      <td>Ford</td>\n",
              "      <td>Escape4dr</td>\n",
              "    </tr>\n",
              "    <tr>\n",
              "      <th>354845</th>\n",
              "      <td>13385</td>\n",
              "      <td>2012</td>\n",
              "      <td>100001</td>\n",
              "      <td>Alachua</td>\n",
              "      <td>FL</td>\n",
              "      <td>1GKKRRED5CJ116425</td>\n",
              "      <td>GMC</td>\n",
              "      <td>AcadiaFWD</td>\n",
              "    </tr>\n",
              "    <tr>\n",
              "      <th>721744</th>\n",
              "      <td>42000</td>\n",
              "      <td>2014</td>\n",
              "      <td>100001</td>\n",
              "      <td>Cullman</td>\n",
              "      <td>AL</td>\n",
              "      <td>3C6UR5PJ0EG114738</td>\n",
              "      <td>Ram</td>\n",
              "      <td>2500Longhorn,</td>\n",
              "    </tr>\n",
              "  </tbody>\n",
              "</table>\n",
              "<p>109291 rows × 8 columns</p>\n",
              "</div>"
            ],
            "text/plain": [
              "        Price  Year  Mileage  ...                Vin        Make          Model\n",
              "186465   4933  2002  2856196  ...  3GNFK16T32G206964   Chevrolet    Suburban4dr\n",
              "186464  13686  2013  2457832  ...  1GCNCPEX1DZ185639   Chevrolet      Silverado\n",
              "478168   4990  2005  2137327  ...  JNRAS08W85X203448    INFINITI        FX35AWD\n",
              "429123   4995  2006  1814638  ...  1HGFA16826L131367       Honda          Civic\n",
              "349757   5991  2010  1650780  ...  1FMEU6EE5AUA07808        Ford    ExplorerRWD\n",
              "...       ...   ...      ...  ...                ...         ...            ...\n",
              "444279   9495  2012   100001  ...  KMHEC4A49CA057345     Hyundai      Sonata4dr\n",
              "828544   6499  2013   100001  ...  3VW2K7AJ1DM317823  Volkswagen          Jetta\n",
              "275776   5988  2003   100001  ...  1FMYU93193KE17086        Ford      Escape4dr\n",
              "354845  13385  2012   100001  ...  1GKKRRED5CJ116425         GMC      AcadiaFWD\n",
              "721744  42000  2014   100001  ...  3C6UR5PJ0EG114738         Ram  2500Longhorn,\n",
              "\n",
              "[109291 rows x 8 columns]"
            ]
          },
          "metadata": {
            "tags": []
          },
          "execution_count": 16
        }
      ]
    },
    {
      "cell_type": "markdown",
      "metadata": {
        "id": "D2v2BnafGBq6",
        "colab_type": "text"
      },
      "source": [
        "https://www.carstory.com/detail/2002-chevrolet-suburban_1500-hayward_ca-3GNFK16T32G206964"
      ]
    },
    {
      "cell_type": "code",
      "metadata": {
        "id": "kfRghiesl0C_",
        "colab_type": "code",
        "colab": {}
      },
      "source": [
        "# Scatter"
      ],
      "execution_count": 0,
      "outputs": []
    },
    {
      "cell_type": "markdown",
      "metadata": {
        "id": "6nuTkqPhLX6U",
        "colab_type": "text"
      },
      "source": [
        "## Year"
      ]
    },
    {
      "cell_type": "code",
      "metadata": {
        "id": "yJUpFBdWMrbD",
        "colab_type": "code",
        "outputId": "0a935196-feec-45b4-993b-75c5a399ea27",
        "colab": {
          "base_uri": "https://localhost:8080/",
          "height": 529
        }
      },
      "source": [
        "df.groupby('Year').size().plot(kind='bar', figsize=(10,8))"
      ],
      "execution_count": 18,
      "outputs": [
        {
          "output_type": "execute_result",
          "data": {
            "text/plain": [
              "<matplotlib.axes._subplots.AxesSubplot at 0x7f7d53b58898>"
            ]
          },
          "metadata": {
            "tags": []
          },
          "execution_count": 18
        },
        {
          "output_type": "display_data",
          "data": {
            "image/png": "[encoded data removed]",
            "text/plain": [
              "<Figure size 720x576 with 1 Axes>"
            ]
          },
          "metadata": {
            "tags": [],
            "needs_background": "light"
          }
        }
      ]
    },
    {
      "cell_type": "markdown",
      "metadata": {
        "id": "UnCbKOV5Zh6-",
        "colab_type": "text"
      },
      "source": [
        "## City"
      ]
    },
    {
      "cell_type": "code",
      "metadata": {
        "id": "3HnpO3-hZiSg",
        "colab_type": "code",
        "colab": {
          "base_uri": "https://localhost:8080/",
          "height": 34
        },
        "outputId": "56bdd3d6-cc75-472a-85a2-66f16fb842fc"
      },
      "source": [
        "len(df.City.unique())"
      ],
      "execution_count": 19,
      "outputs": [
        {
          "output_type": "execute_result",
          "data": {
            "text/plain": [
              "2553"
            ]
          },
          "metadata": {
            "tags": []
          },
          "execution_count": 19
        }
      ]
    },
    {
      "cell_type": "markdown",
      "metadata": {
        "id": "aV5Ji70-Zif2",
        "colab_type": "text"
      },
      "source": [
        "## State\n",
        "* Mixed cases on states result in duplicates"
      ]
    },
    {
      "cell_type": "code",
      "metadata": {
        "id": "q8IerCSXZiyA",
        "colab_type": "code",
        "colab": {
          "base_uri": "https://localhost:8080/",
          "height": 34
        },
        "outputId": "14fdc25f-06d8-4e11-9aca-42f69af51eff"
      },
      "source": [
        "len(df.State.unique())"
      ],
      "execution_count": 20,
      "outputs": [
        {
          "output_type": "execute_result",
          "data": {
            "text/plain": [
              "59"
            ]
          },
          "metadata": {
            "tags": []
          },
          "execution_count": 20
        }
      ]
    },
    {
      "cell_type": "code",
      "metadata": {
        "id": "u4oKllhyXldH",
        "colab_type": "code",
        "colab": {
          "base_uri": "https://localhost:8080/",
          "height": 136
        },
        "outputId": "dbbc5ed5-0f66-4c73-b055-e7efb6140682"
      },
      "source": [
        "df.State.unique()"
      ],
      "execution_count": 21,
      "outputs": [
        {
          "output_type": "execute_result",
          "data": {
            "text/plain": [
              "array([' TX', ' NY', ' CO', ' UT', ' FL', ' CT', ' ID', ' ND', ' CA',\n",
              "       ' NJ', ' OH', ' VA', ' IN', ' AZ', ' OR', ' KS', ' NE', ' MA',\n",
              "       ' MD', ' GA', ' MN', ' HI', ' LA', ' NM', ' IL', ' AL', ' PA',\n",
              "       ' SC', ' NC', ' WA', ' WI', ' OK', ' KY', ' MS', ' MO', ' ME',\n",
              "       ' AR', ' MI', ' NV', ' TN', ' Fl', ' NH', ' DE', ' WV', ' Az',\n",
              "       ' VT', ' SD', ' IA', ' RI', ' ga', ' Oh', ' MT', ' DC', ' AK',\n",
              "       ' Va', ' WY', ' Md', ' Ca', ' Ga'], dtype=object)"
            ]
          },
          "metadata": {
            "tags": []
          },
          "execution_count": 21
        }
      ]
    },
    {
      "cell_type": "code",
      "metadata": {
        "id": "0Nma-SEcnEUT",
        "colab_type": "code",
        "colab": {
          "base_uri": "https://localhost:8080/",
          "height": 523
        },
        "outputId": "5a0a16ad-6b35-4cb1-8036-ed4b07cc8280"
      },
      "source": [
        "df.groupby('State') \\\n",
        ".size() \\\n",
        ".sort_values(ascending=False) \\\n",
        ".plot(kind='bar', figsize=(12,8))\n",
        "plt.title('State');"
      ],
      "execution_count": 22,
      "outputs": [
        {
          "output_type": "display_data",
          "data": {
            "image/png": "[encoded data removed]",
            "text/plain": [
              "<Figure size 864x576 with 1 Axes>"
            ]
          },
          "metadata": {
            "tags": [],
            "needs_background": "light"
          }
        }
      ]
    },
    {
      "cell_type": "markdown",
      "metadata": {
        "id": "aWoSmFtBLIlZ",
        "colab_type": "text"
      },
      "source": [
        "## VIN\n",
        "* Vehicle identification number\n",
        "* Unique per vehicle"
      ]
    },
    {
      "cell_type": "code",
      "metadata": {
        "id": "jmjqindlLG6M",
        "colab_type": "code",
        "outputId": "d6df6e7f-8093-40fa-fdef-2486294d0b0c",
        "colab": {
          "base_uri": "https://localhost:8080/",
          "height": 34
        }
      },
      "source": [
        "len(df.Vin.unique())"
      ],
      "execution_count": 23,
      "outputs": [
        {
          "output_type": "execute_result",
          "data": {
            "text/plain": [
              "852075"
            ]
          },
          "metadata": {
            "tags": []
          },
          "execution_count": 23
        }
      ]
    },
    {
      "cell_type": "markdown",
      "metadata": {
        "id": "sHTTGW0fLib-",
        "colab_type": "text"
      },
      "source": [
        "## Make"
      ]
    },
    {
      "cell_type": "code",
      "metadata": {
        "id": "h9gqUVaaLhvH",
        "colab_type": "code",
        "colab": {}
      },
      "source": [
        "df['Make'] = df['Make'].astype('category')"
      ],
      "execution_count": 0,
      "outputs": []
    },
    {
      "cell_type": "code",
      "metadata": {
        "id": "UrpDf_kwLuw_",
        "colab_type": "code",
        "outputId": "3a24f061-0775-4761-858e-c56622a9fb3f",
        "colab": {
          "base_uri": "https://localhost:8080/",
          "height": 68
        }
      },
      "source": [
        "df.Make.unique()"
      ],
      "execution_count": 25,
      "outputs": [
        {
          "output_type": "execute_result",
          "data": {
            "text/plain": [
              "[Acura, Alfa, AM, Aston, Audi, ..., Suzuki, Tesla, Toyota, Volkswagen, Volvo]\n",
              "Length: 58\n",
              "Categories (58, object): [Acura, Alfa, AM, Aston, ..., Tesla, Toyota, Volkswagen, Volvo]"
            ]
          },
          "metadata": {
            "tags": []
          },
          "execution_count": 25
        }
      ]
    },
    {
      "cell_type": "code",
      "metadata": {
        "id": "pUVJTrcLL0RT",
        "colab_type": "code",
        "outputId": "356fba73-5a84-45ab-c349-793b1b7d2374",
        "colab": {
          "base_uri": "https://localhost:8080/",
          "height": 579
        }
      },
      "source": [
        "df.groupby('Make') \\\n",
        ".size() \\\n",
        ".sort_values(ascending=False) \\\n",
        ".plot(kind='bar', figsize=(12,8))\n",
        "plt.title('Car Makes');"
      ],
      "execution_count": 26,
      "outputs": [
        {
          "output_type": "display_data",
          "data": {
            "image/png": "[encoded data removed]",
            "text/plain": [
              "<Figure size 864x576 with 1 Axes>"
            ]
          },
          "metadata": {
            "tags": [],
            "needs_background": "light"
          }
        }
      ]
    },
    {
      "cell_type": "code",
      "metadata": {
        "id": "Soqft8yolc1U",
        "colab_type": "code",
        "colab": {}
      },
      "source": [
        "# BOXPLOT"
      ],
      "execution_count": 0,
      "outputs": []
    },
    {
      "cell_type": "markdown",
      "metadata": {
        "id": "9u-aDKXrLOtA",
        "colab_type": "text"
      },
      "source": [
        "## Model"
      ]
    },
    {
      "cell_type": "code",
      "metadata": {
        "id": "hW62hAxNLQRI",
        "colab_type": "code",
        "outputId": "3165c72f-a42f-4f01-dab6-30d14537fb0f",
        "colab": {
          "base_uri": "https://localhost:8080/",
          "height": 238
        }
      },
      "source": [
        "df.groupby('Model').size().sort_values()"
      ],
      "execution_count": 28,
      "outputs": [
        {
          "output_type": "execute_result",
          "data": {
            "text/plain": [
              "Model\n",
              "S4Prestige           1\n",
              "CenturyCustom        1\n",
              "CenturyCUSTOM        1\n",
              "Celica2dr            1\n",
              "S60Sedan             1\n",
              "                 ...  \n",
              "Altima2.5        11288\n",
              "F-1504WD         14177\n",
              "Accord           14502\n",
              "Grand            17321\n",
              "Silverado        24932\n",
              "Length: 2736, dtype: int64"
            ]
          },
          "metadata": {
            "tags": []
          },
          "execution_count": 28
        }
      ]
    },
    {
      "cell_type": "markdown",
      "metadata": {
        "id": "65e9d3wFpw_y",
        "colab_type": "text"
      },
      "source": [
        "# Helpers"
      ]
    },
    {
      "cell_type": "code",
      "metadata": {
        "id": "UvRKPgbVdzkV",
        "colab_type": "code",
        "colab": {}
      },
      "source": [
        "def plot_performance(history, color_train='blue', color_val='red'):\n",
        "    fig, ax = plt.subplots(figsize=(12,10))\n",
        "    \n",
        "    acc = history.history['mae']\n",
        "    val_acc = history.history['val_mae']\n",
        "    epochs = range(1, len(acc) + 1)\n",
        "    ax = plt.subplot(2, 1, 1)\n",
        "    plt.plot(epochs, acc, 'bo', color=color_train, label='Train')\n",
        "    plt.plot(epochs, val_acc, 'b', color=color_val, label='Validation')\n",
        "    plt.title('Training & Validation MAE')\n",
        "    plt.ylabel('MAE')\n",
        "    ax.legend()\n",
        "    \n",
        "    ax = plt.subplot(2, 1, 2)\n",
        "    loss = history.history['loss']\n",
        "    val_loss = history.history['val_loss']\n",
        "    epochs = range(1, len(loss) + 1)    \n",
        "    plt.plot(epochs, loss, 'bo', color=color_train, label='Train')\n",
        "    plt.plot(epochs, val_loss, 'b', color=color_val, label='Validation')\n",
        "    plt.title('Training & Validation Loss')\n",
        "    plt.xlabel('Epochs')\n",
        "    plt.ylabel('Loss')\n",
        "    plt.legend()"
      ],
      "execution_count": 0,
      "outputs": []
    },
    {
      "cell_type": "markdown",
      "metadata": {
        "id": "svy6PDbwpwxW",
        "colab_type": "text"
      },
      "source": [
        "# Comparison"
      ]
    },
    {
      "cell_type": "code",
      "metadata": {
        "id": "t2zyi7hRklv1",
        "colab_type": "code",
        "colab": {}
      },
      "source": [
        "results_df = pd.DataFrame(columns=['MAE', 'RMSE'])"
      ],
      "execution_count": 0,
      "outputs": []
    },
    {
      "cell_type": "markdown",
      "metadata": {
        "id": "kxjddppoGLRV",
        "colab_type": "text"
      },
      "source": [
        "# Parameters"
      ]
    },
    {
      "cell_type": "code",
      "metadata": {
        "id": "dUVt64xCGIoX",
        "colab_type": "code",
        "colab": {}
      },
      "source": [
        "batch_size = 1024\n",
        "epochs = 50"
      ],
      "execution_count": 0,
      "outputs": []
    },
    {
      "cell_type": "markdown",
      "metadata": {
        "id": "4i2YIh5gXAVQ",
        "colab_type": "text"
      },
      "source": [
        "# Shallow"
      ]
    },
    {
      "cell_type": "markdown",
      "metadata": {
        "id": "0CYnn-JfXQf1",
        "colab_type": "text"
      },
      "source": [
        "## Features"
      ]
    },
    {
      "cell_type": "code",
      "metadata": {
        "colab_type": "code",
        "id": "YIpmA90UXBTV",
        "colab": {}
      },
      "source": [
        "X = df.copy()\n",
        "y = X['Price']\n",
        "X['Age'] = 2017 - X.Year\n",
        "X['State'] = X.State.str.upper()"
      ],
      "execution_count": 0,
      "outputs": []
    },
    {
      "cell_type": "code",
      "metadata": {
        "colab_type": "code",
        "id": "wBCpeHMfXBTb",
        "colab": {}
      },
      "source": [
        "X = pd.concat([X, pd.get_dummies(X.Make, prefix='Make')], axis=1)\n",
        "X = pd.concat([X, pd.get_dummies(X.State, prefix='State')], axis=1)"
      ],
      "execution_count": 0,
      "outputs": []
    },
    {
      "cell_type": "code",
      "metadata": {
        "colab_type": "code",
        "id": "mrtO75c4XBTf",
        "colab": {}
      },
      "source": [
        "X = X.drop('Price', axis=1)\n",
        "X = X.drop('Vin', axis=1)\n",
        "X = X.drop('Make', axis=1)\n",
        "X = X.drop('Model', axis=1)\n",
        "X = X.drop('State', axis=1)\n",
        "X = X.drop('City', axis=1)"
      ],
      "execution_count": 0,
      "outputs": []
    },
    {
      "cell_type": "code",
      "metadata": {
        "colab_type": "code",
        "outputId": "c2aa4673-393a-48c9-ad7c-dbfc4f073f2e",
        "id": "vWBwzjnVXBTi",
        "colab": {
          "base_uri": "https://localhost:8080/",
          "height": 270
        }
      },
      "source": [
        "X.head()"
      ],
      "execution_count": 260,
      "outputs": [
        {
          "output_type": "execute_result",
          "data": {
            "text/html": [
              "<div>\n",
              "<style scoped>\n",
              "    .dataframe tbody tr th:only-of-type {\n",
              "        vertical-align: middle;\n",
              "    }\n",
              "\n",
              "    .dataframe tbody tr th {\n",
              "        vertical-align: top;\n",
              "    }\n",
              "\n",
              "    .dataframe thead th {\n",
              "        text-align: right;\n",
              "    }\n",
              "</style>\n",
              "<table border=\"1\" class=\"dataframe\">\n",
              "  <thead>\n",
              "    <tr style=\"text-align: right;\">\n",
              "      <th></th>\n",
              "      <th>Year</th>\n",
              "      <th>Mileage</th>\n",
              "      <th>Age</th>\n",
              "      <th>Make_AM</th>\n",
              "      <th>Make_Acura</th>\n",
              "      <th>Make_Alfa</th>\n",
              "      <th>Make_Aston</th>\n",
              "      <th>Make_Audi</th>\n",
              "      <th>Make_BMW</th>\n",
              "      <th>Make_Bentley</th>\n",
              "      <th>Make_Buick</th>\n",
              "      <th>Make_Cadillac</th>\n",
              "      <th>Make_Chevrolet</th>\n",
              "      <th>Make_Chrysler</th>\n",
              "      <th>Make_Dodge</th>\n",
              "      <th>Make_FIAT</th>\n",
              "      <th>Make_Ferrari</th>\n",
              "      <th>Make_Fisker</th>\n",
              "      <th>Make_Ford</th>\n",
              "      <th>Make_Freightliner</th>\n",
              "      <th>Make_GMC</th>\n",
              "      <th>Make_Genesis</th>\n",
              "      <th>Make_Geo</th>\n",
              "      <th>Make_HUMMER</th>\n",
              "      <th>Make_Honda</th>\n",
              "      <th>Make_Hyundai</th>\n",
              "      <th>Make_INFINITI</th>\n",
              "      <th>Make_Isuzu</th>\n",
              "      <th>Make_Jaguar</th>\n",
              "      <th>Make_Jeep</th>\n",
              "      <th>Make_Kia</th>\n",
              "      <th>Make_Lamborghini</th>\n",
              "      <th>Make_Land</th>\n",
              "      <th>Make_Lexus</th>\n",
              "      <th>Make_Lincoln</th>\n",
              "      <th>Make_Lotus</th>\n",
              "      <th>Make_MINI</th>\n",
              "      <th>Make_Maserati</th>\n",
              "      <th>Make_Maybach</th>\n",
              "      <th>Make_Mazda</th>\n",
              "      <th>...</th>\n",
              "      <th>State_ HI</th>\n",
              "      <th>State_ IA</th>\n",
              "      <th>State_ ID</th>\n",
              "      <th>State_ IL</th>\n",
              "      <th>State_ IN</th>\n",
              "      <th>State_ KS</th>\n",
              "      <th>State_ KY</th>\n",
              "      <th>State_ LA</th>\n",
              "      <th>State_ MA</th>\n",
              "      <th>State_ MD</th>\n",
              "      <th>State_ ME</th>\n",
              "      <th>State_ MI</th>\n",
              "      <th>State_ MN</th>\n",
              "      <th>State_ MO</th>\n",
              "      <th>State_ MS</th>\n",
              "      <th>State_ MT</th>\n",
              "      <th>State_ NC</th>\n",
              "      <th>State_ ND</th>\n",
              "      <th>State_ NE</th>\n",
              "      <th>State_ NH</th>\n",
              "      <th>State_ NJ</th>\n",
              "      <th>State_ NM</th>\n",
              "      <th>State_ NV</th>\n",
              "      <th>State_ NY</th>\n",
              "      <th>State_ OH</th>\n",
              "      <th>State_ OK</th>\n",
              "      <th>State_ OR</th>\n",
              "      <th>State_ PA</th>\n",
              "      <th>State_ RI</th>\n",
              "      <th>State_ SC</th>\n",
              "      <th>State_ SD</th>\n",
              "      <th>State_ TN</th>\n",
              "      <th>State_ TX</th>\n",
              "      <th>State_ UT</th>\n",
              "      <th>State_ VA</th>\n",
              "      <th>State_ VT</th>\n",
              "      <th>State_ WA</th>\n",
              "      <th>State_ WI</th>\n",
              "      <th>State_ WV</th>\n",
              "      <th>State_ WY</th>\n",
              "    </tr>\n",
              "  </thead>\n",
              "  <tbody>\n",
              "    <tr>\n",
              "      <th>0</th>\n",
              "      <td>2014</td>\n",
              "      <td>35725</td>\n",
              "      <td>3</td>\n",
              "      <td>0</td>\n",
              "      <td>1</td>\n",
              "      <td>0</td>\n",
              "      <td>0</td>\n",
              "      <td>0</td>\n",
              "      <td>0</td>\n",
              "      <td>0</td>\n",
              "      <td>0</td>\n",
              "      <td>0</td>\n",
              "      <td>0</td>\n",
              "      <td>0</td>\n",
              "      <td>0</td>\n",
              "      <td>0</td>\n",
              "      <td>0</td>\n",
              "      <td>0</td>\n",
              "      <td>0</td>\n",
              "      <td>0</td>\n",
              "      <td>0</td>\n",
              "      <td>0</td>\n",
              "      <td>0</td>\n",
              "      <td>0</td>\n",
              "      <td>0</td>\n",
              "      <td>0</td>\n",
              "      <td>0</td>\n",
              "      <td>0</td>\n",
              "      <td>0</td>\n",
              "      <td>0</td>\n",
              "      <td>0</td>\n",
              "      <td>0</td>\n",
              "      <td>0</td>\n",
              "      <td>0</td>\n",
              "      <td>0</td>\n",
              "      <td>0</td>\n",
              "      <td>0</td>\n",
              "      <td>0</td>\n",
              "      <td>0</td>\n",
              "      <td>0</td>\n",
              "      <td>...</td>\n",
              "      <td>0</td>\n",
              "      <td>0</td>\n",
              "      <td>0</td>\n",
              "      <td>0</td>\n",
              "      <td>0</td>\n",
              "      <td>0</td>\n",
              "      <td>0</td>\n",
              "      <td>0</td>\n",
              "      <td>0</td>\n",
              "      <td>0</td>\n",
              "      <td>0</td>\n",
              "      <td>0</td>\n",
              "      <td>0</td>\n",
              "      <td>0</td>\n",
              "      <td>0</td>\n",
              "      <td>0</td>\n",
              "      <td>0</td>\n",
              "      <td>0</td>\n",
              "      <td>0</td>\n",
              "      <td>0</td>\n",
              "      <td>0</td>\n",
              "      <td>0</td>\n",
              "      <td>0</td>\n",
              "      <td>0</td>\n",
              "      <td>0</td>\n",
              "      <td>0</td>\n",
              "      <td>0</td>\n",
              "      <td>0</td>\n",
              "      <td>0</td>\n",
              "      <td>0</td>\n",
              "      <td>0</td>\n",
              "      <td>0</td>\n",
              "      <td>1</td>\n",
              "      <td>0</td>\n",
              "      <td>0</td>\n",
              "      <td>0</td>\n",
              "      <td>0</td>\n",
              "      <td>0</td>\n",
              "      <td>0</td>\n",
              "      <td>0</td>\n",
              "    </tr>\n",
              "    <tr>\n",
              "      <th>1</th>\n",
              "      <td>2013</td>\n",
              "      <td>19606</td>\n",
              "      <td>4</td>\n",
              "      <td>0</td>\n",
              "      <td>1</td>\n",
              "      <td>0</td>\n",
              "      <td>0</td>\n",
              "      <td>0</td>\n",
              "      <td>0</td>\n",
              "      <td>0</td>\n",
              "      <td>0</td>\n",
              "      <td>0</td>\n",
              "      <td>0</td>\n",
              "      <td>0</td>\n",
              "      <td>0</td>\n",
              "      <td>0</td>\n",
              "      <td>0</td>\n",
              "      <td>0</td>\n",
              "      <td>0</td>\n",
              "      <td>0</td>\n",
              "      <td>0</td>\n",
              "      <td>0</td>\n",
              "      <td>0</td>\n",
              "      <td>0</td>\n",
              "      <td>0</td>\n",
              "      <td>0</td>\n",
              "      <td>0</td>\n",
              "      <td>0</td>\n",
              "      <td>0</td>\n",
              "      <td>0</td>\n",
              "      <td>0</td>\n",
              "      <td>0</td>\n",
              "      <td>0</td>\n",
              "      <td>0</td>\n",
              "      <td>0</td>\n",
              "      <td>0</td>\n",
              "      <td>0</td>\n",
              "      <td>0</td>\n",
              "      <td>0</td>\n",
              "      <td>0</td>\n",
              "      <td>...</td>\n",
              "      <td>0</td>\n",
              "      <td>0</td>\n",
              "      <td>0</td>\n",
              "      <td>0</td>\n",
              "      <td>0</td>\n",
              "      <td>0</td>\n",
              "      <td>0</td>\n",
              "      <td>0</td>\n",
              "      <td>0</td>\n",
              "      <td>0</td>\n",
              "      <td>0</td>\n",
              "      <td>0</td>\n",
              "      <td>0</td>\n",
              "      <td>0</td>\n",
              "      <td>0</td>\n",
              "      <td>0</td>\n",
              "      <td>0</td>\n",
              "      <td>0</td>\n",
              "      <td>0</td>\n",
              "      <td>0</td>\n",
              "      <td>0</td>\n",
              "      <td>0</td>\n",
              "      <td>0</td>\n",
              "      <td>1</td>\n",
              "      <td>0</td>\n",
              "      <td>0</td>\n",
              "      <td>0</td>\n",
              "      <td>0</td>\n",
              "      <td>0</td>\n",
              "      <td>0</td>\n",
              "      <td>0</td>\n",
              "      <td>0</td>\n",
              "      <td>0</td>\n",
              "      <td>0</td>\n",
              "      <td>0</td>\n",
              "      <td>0</td>\n",
              "      <td>0</td>\n",
              "      <td>0</td>\n",
              "      <td>0</td>\n",
              "      <td>0</td>\n",
              "    </tr>\n",
              "    <tr>\n",
              "      <th>2</th>\n",
              "      <td>2013</td>\n",
              "      <td>48851</td>\n",
              "      <td>4</td>\n",
              "      <td>0</td>\n",
              "      <td>1</td>\n",
              "      <td>0</td>\n",
              "      <td>0</td>\n",
              "      <td>0</td>\n",
              "      <td>0</td>\n",
              "      <td>0</td>\n",
              "      <td>0</td>\n",
              "      <td>0</td>\n",
              "      <td>0</td>\n",
              "      <td>0</td>\n",
              "      <td>0</td>\n",
              "      <td>0</td>\n",
              "      <td>0</td>\n",
              "      <td>0</td>\n",
              "      <td>0</td>\n",
              "      <td>0</td>\n",
              "      <td>0</td>\n",
              "      <td>0</td>\n",
              "      <td>0</td>\n",
              "      <td>0</td>\n",
              "      <td>0</td>\n",
              "      <td>0</td>\n",
              "      <td>0</td>\n",
              "      <td>0</td>\n",
              "      <td>0</td>\n",
              "      <td>0</td>\n",
              "      <td>0</td>\n",
              "      <td>0</td>\n",
              "      <td>0</td>\n",
              "      <td>0</td>\n",
              "      <td>0</td>\n",
              "      <td>0</td>\n",
              "      <td>0</td>\n",
              "      <td>0</td>\n",
              "      <td>0</td>\n",
              "      <td>0</td>\n",
              "      <td>...</td>\n",
              "      <td>0</td>\n",
              "      <td>0</td>\n",
              "      <td>0</td>\n",
              "      <td>0</td>\n",
              "      <td>0</td>\n",
              "      <td>0</td>\n",
              "      <td>0</td>\n",
              "      <td>0</td>\n",
              "      <td>0</td>\n",
              "      <td>0</td>\n",
              "      <td>0</td>\n",
              "      <td>0</td>\n",
              "      <td>0</td>\n",
              "      <td>0</td>\n",
              "      <td>0</td>\n",
              "      <td>0</td>\n",
              "      <td>0</td>\n",
              "      <td>0</td>\n",
              "      <td>0</td>\n",
              "      <td>0</td>\n",
              "      <td>0</td>\n",
              "      <td>0</td>\n",
              "      <td>0</td>\n",
              "      <td>0</td>\n",
              "      <td>0</td>\n",
              "      <td>0</td>\n",
              "      <td>0</td>\n",
              "      <td>0</td>\n",
              "      <td>0</td>\n",
              "      <td>0</td>\n",
              "      <td>0</td>\n",
              "      <td>0</td>\n",
              "      <td>1</td>\n",
              "      <td>0</td>\n",
              "      <td>0</td>\n",
              "      <td>0</td>\n",
              "      <td>0</td>\n",
              "      <td>0</td>\n",
              "      <td>0</td>\n",
              "      <td>0</td>\n",
              "    </tr>\n",
              "    <tr>\n",
              "      <th>3</th>\n",
              "      <td>2014</td>\n",
              "      <td>39922</td>\n",
              "      <td>3</td>\n",
              "      <td>0</td>\n",
              "      <td>1</td>\n",
              "      <td>0</td>\n",
              "      <td>0</td>\n",
              "      <td>0</td>\n",
              "      <td>0</td>\n",
              "      <td>0</td>\n",
              "      <td>0</td>\n",
              "      <td>0</td>\n",
              "      <td>0</td>\n",
              "      <td>0</td>\n",
              "      <td>0</td>\n",
              "      <td>0</td>\n",
              "      <td>0</td>\n",
              "      <td>0</td>\n",
              "      <td>0</td>\n",
              "      <td>0</td>\n",
              "      <td>0</td>\n",
              "      <td>0</td>\n",
              "      <td>0</td>\n",
              "      <td>0</td>\n",
              "      <td>0</td>\n",
              "      <td>0</td>\n",
              "      <td>0</td>\n",
              "      <td>0</td>\n",
              "      <td>0</td>\n",
              "      <td>0</td>\n",
              "      <td>0</td>\n",
              "      <td>0</td>\n",
              "      <td>0</td>\n",
              "      <td>0</td>\n",
              "      <td>0</td>\n",
              "      <td>0</td>\n",
              "      <td>0</td>\n",
              "      <td>0</td>\n",
              "      <td>0</td>\n",
              "      <td>0</td>\n",
              "      <td>...</td>\n",
              "      <td>0</td>\n",
              "      <td>0</td>\n",
              "      <td>0</td>\n",
              "      <td>0</td>\n",
              "      <td>0</td>\n",
              "      <td>0</td>\n",
              "      <td>0</td>\n",
              "      <td>0</td>\n",
              "      <td>0</td>\n",
              "      <td>0</td>\n",
              "      <td>0</td>\n",
              "      <td>0</td>\n",
              "      <td>0</td>\n",
              "      <td>0</td>\n",
              "      <td>0</td>\n",
              "      <td>0</td>\n",
              "      <td>0</td>\n",
              "      <td>0</td>\n",
              "      <td>0</td>\n",
              "      <td>0</td>\n",
              "      <td>0</td>\n",
              "      <td>0</td>\n",
              "      <td>0</td>\n",
              "      <td>0</td>\n",
              "      <td>0</td>\n",
              "      <td>0</td>\n",
              "      <td>0</td>\n",
              "      <td>0</td>\n",
              "      <td>0</td>\n",
              "      <td>0</td>\n",
              "      <td>0</td>\n",
              "      <td>0</td>\n",
              "      <td>0</td>\n",
              "      <td>0</td>\n",
              "      <td>0</td>\n",
              "      <td>0</td>\n",
              "      <td>0</td>\n",
              "      <td>0</td>\n",
              "      <td>0</td>\n",
              "      <td>0</td>\n",
              "    </tr>\n",
              "    <tr>\n",
              "      <th>4</th>\n",
              "      <td>2016</td>\n",
              "      <td>22142</td>\n",
              "      <td>1</td>\n",
              "      <td>0</td>\n",
              "      <td>1</td>\n",
              "      <td>0</td>\n",
              "      <td>0</td>\n",
              "      <td>0</td>\n",
              "      <td>0</td>\n",
              "      <td>0</td>\n",
              "      <td>0</td>\n",
              "      <td>0</td>\n",
              "      <td>0</td>\n",
              "      <td>0</td>\n",
              "      <td>0</td>\n",
              "      <td>0</td>\n",
              "      <td>0</td>\n",
              "      <td>0</td>\n",
              "      <td>0</td>\n",
              "      <td>0</td>\n",
              "      <td>0</td>\n",
              "      <td>0</td>\n",
              "      <td>0</td>\n",
              "      <td>0</td>\n",
              "      <td>0</td>\n",
              "      <td>0</td>\n",
              "      <td>0</td>\n",
              "      <td>0</td>\n",
              "      <td>0</td>\n",
              "      <td>0</td>\n",
              "      <td>0</td>\n",
              "      <td>0</td>\n",
              "      <td>0</td>\n",
              "      <td>0</td>\n",
              "      <td>0</td>\n",
              "      <td>0</td>\n",
              "      <td>0</td>\n",
              "      <td>0</td>\n",
              "      <td>0</td>\n",
              "      <td>0</td>\n",
              "      <td>...</td>\n",
              "      <td>0</td>\n",
              "      <td>0</td>\n",
              "      <td>0</td>\n",
              "      <td>0</td>\n",
              "      <td>0</td>\n",
              "      <td>0</td>\n",
              "      <td>0</td>\n",
              "      <td>0</td>\n",
              "      <td>0</td>\n",
              "      <td>0</td>\n",
              "      <td>0</td>\n",
              "      <td>0</td>\n",
              "      <td>0</td>\n",
              "      <td>0</td>\n",
              "      <td>0</td>\n",
              "      <td>0</td>\n",
              "      <td>0</td>\n",
              "      <td>0</td>\n",
              "      <td>0</td>\n",
              "      <td>0</td>\n",
              "      <td>0</td>\n",
              "      <td>0</td>\n",
              "      <td>0</td>\n",
              "      <td>0</td>\n",
              "      <td>0</td>\n",
              "      <td>0</td>\n",
              "      <td>0</td>\n",
              "      <td>0</td>\n",
              "      <td>0</td>\n",
              "      <td>0</td>\n",
              "      <td>0</td>\n",
              "      <td>0</td>\n",
              "      <td>0</td>\n",
              "      <td>1</td>\n",
              "      <td>0</td>\n",
              "      <td>0</td>\n",
              "      <td>0</td>\n",
              "      <td>0</td>\n",
              "      <td>0</td>\n",
              "      <td>0</td>\n",
              "    </tr>\n",
              "  </tbody>\n",
              "</table>\n",
              "<p>5 rows × 112 columns</p>\n",
              "</div>"
            ],
            "text/plain": [
              "   Year  Mileage  Age  Make_AM  ...  State_ WA  State_ WI  State_ WV  State_ WY\n",
              "0  2014    35725    3        0  ...          0          0          0          0\n",
              "1  2013    19606    4        0  ...          0          0          0          0\n",
              "2  2013    48851    4        0  ...          0          0          0          0\n",
              "3  2014    39922    3        0  ...          0          0          0          0\n",
              "4  2016    22142    1        0  ...          0          0          0          0\n",
              "\n",
              "[5 rows x 112 columns]"
            ]
          },
          "metadata": {
            "tags": []
          },
          "execution_count": 260
        }
      ]
    },
    {
      "cell_type": "markdown",
      "metadata": {
        "colab_type": "text",
        "id": "CysJuATpXBTm"
      },
      "source": [
        "## Train / Test"
      ]
    },
    {
      "cell_type": "code",
      "metadata": {
        "colab_type": "code",
        "id": "2GqWyEhOXBTn",
        "colab": {}
      },
      "source": [
        "X_train, X_test, y_train, y_test = train_test_split(X, y, train_size=0.9, random_state=8877)\n",
        "input_shape = (X.shape[1], )"
      ],
      "execution_count": 0,
      "outputs": []
    },
    {
      "cell_type": "markdown",
      "metadata": {
        "colab_type": "text",
        "id": "yJpjl9aJXBTq"
      },
      "source": [
        "## Model"
      ]
    },
    {
      "cell_type": "code",
      "metadata": {
        "colab_type": "code",
        "id": "QjDDeBxMXBTq",
        "colab": {}
      },
      "source": [
        "model = Sequential()\n",
        "model.add(Dense(256, activation='relu', input_shape=(input_shape)))\n",
        "model.add(Dropout(0.2))\n",
        "model.add(Dense(1, activation='linear'))"
      ],
      "execution_count": 0,
      "outputs": []
    },
    {
      "cell_type": "code",
      "metadata": {
        "colab_type": "code",
        "outputId": "d32bd3e6-37a3-4d87-a761-7d19b86d3a29",
        "id": "9wKR5WgCXBTu",
        "colab": {
          "base_uri": "https://localhost:8080/",
          "height": 255
        }
      },
      "source": [
        "model.summary()"
      ],
      "execution_count": 263,
      "outputs": [
        {
          "output_type": "stream",
          "text": [
            "Model: \"sequential_6\"\n",
            "_________________________________________________________________\n",
            "Layer (type)                 Output Shape              Param #   \n",
            "=================================================================\n",
            "dense_63 (Dense)             (None, 256)               28928     \n",
            "_________________________________________________________________\n",
            "dropout_46 (Dropout)         (None, 256)               0         \n",
            "_________________________________________________________________\n",
            "dense_64 (Dense)             (None, 1)                 257       \n",
            "=================================================================\n",
            "Total params: 29,185\n",
            "Trainable params: 29,185\n",
            "Non-trainable params: 0\n",
            "_________________________________________________________________\n"
          ],
          "name": "stdout"
        }
      ]
    },
    {
      "cell_type": "code",
      "metadata": {
        "id": "1E45p6lDYHKl",
        "colab_type": "code",
        "colab": {}
      },
      "source": [
        ""
      ],
      "execution_count": 0,
      "outputs": []
    },
    {
      "cell_type": "code",
      "metadata": {
        "colab_type": "code",
        "id": "XRyzXMy9XBTz",
        "colab": {}
      },
      "source": [
        "model.compile(loss='mean_squared_error',\n",
        "              optimizer=Adam(lr=3e-4),\n",
        "              metrics=['mae', 'mse'])"
      ],
      "execution_count": 0,
      "outputs": []
    },
    {
      "cell_type": "markdown",
      "metadata": {
        "colab_type": "text",
        "id": "eJW1qEysXBT2"
      },
      "source": [
        "## Train"
      ]
    },
    {
      "cell_type": "code",
      "metadata": {
        "colab_type": "code",
        "outputId": "d89db3dc-f053-46ea-abec-6afdd82554a7",
        "id": "U4x-hvz2XBT3",
        "colab": {
          "base_uri": "https://localhost:8080/",
          "height": 1000
        }
      },
      "source": [
        "history_shallow = model.fit(X_train, y_train,\n",
        "                             batch_size=batch_size,\n",
        "                             epochs=epochs,\n",
        "                             validation_split=0.1)"
      ],
      "execution_count": 265,
      "outputs": [
        {
          "output_type": "stream",
          "text": [
            "Epoch 1/50\n",
            "675/675 [==============================] - 2s 3ms/step - loss: 393718080.0000 - mae: 14347.4072 - mse: 393718080.0000 - val_loss: 257417248.0000 - val_mae: 10328.9473 - val_mse: 257417248.0000\n",
            "Epoch 2/50\n",
            "675/675 [==============================] - 2s 3ms/step - loss: 191051696.0000 - mae: 8642.6074 - mse: 191051696.0000 - val_loss: 156880736.0000 - val_mae: 7729.4385 - val_mse: 156880736.0000\n",
            "Epoch 3/50\n",
            "675/675 [==============================] - 2s 3ms/step - loss: 155037312.0000 - mae: 7970.8608 - mse: 155037312.0000 - val_loss: 150615680.0000 - val_mae: 7782.6948 - val_mse: 150615680.0000\n",
            "Epoch 4/50\n",
            "675/675 [==============================] - 2s 3ms/step - loss: 150675248.0000 - mae: 7887.6460 - mse: 150675248.0000 - val_loss: 148927232.0000 - val_mae: 7739.8257 - val_mse: 148927232.0000\n",
            "Epoch 5/50\n",
            "675/675 [==============================] - 2s 4ms/step - loss: 148873408.0000 - mae: 7841.2007 - mse: 148873408.0000 - val_loss: 148176864.0000 - val_mae: 7709.5728 - val_mse: 148176864.0000\n",
            "Epoch 6/50\n",
            "675/675 [==============================] - 2s 3ms/step - loss: 147880720.0000 - mae: 7813.7842 - mse: 147880720.0000 - val_loss: 147826016.0000 - val_mae: 7763.9658 - val_mse: 147826016.0000\n",
            "Epoch 7/50\n",
            "675/675 [==============================] - 2s 3ms/step - loss: 147551104.0000 - mae: 7805.9688 - mse: 147551104.0000 - val_loss: 147778560.0000 - val_mae: 7686.4248 - val_mse: 147778560.0000\n",
            "Epoch 8/50\n",
            "675/675 [==============================] - 2s 3ms/step - loss: 147367136.0000 - mae: 7800.7788 - mse: 147367136.0000 - val_loss: 147532576.0000 - val_mae: 7729.6655 - val_mse: 147532576.0000\n",
            "Epoch 9/50\n",
            "675/675 [==============================] - 2s 3ms/step - loss: 147276800.0000 - mae: 7799.8730 - mse: 147276800.0000 - val_loss: 147512400.0000 - val_mae: 7769.3345 - val_mse: 147512400.0000\n",
            "Epoch 10/50\n",
            "675/675 [==============================] - 2s 3ms/step - loss: 147062944.0000 - mae: 7792.9736 - mse: 147062944.0000 - val_loss: 147562160.0000 - val_mae: 7660.4507 - val_mse: 147562160.0000\n",
            "Epoch 11/50\n",
            "675/675 [==============================] - 2s 3ms/step - loss: 147011680.0000 - mae: 7790.5220 - mse: 147011680.0000 - val_loss: 147367072.0000 - val_mae: 7747.5269 - val_mse: 147367072.0000\n",
            "Epoch 12/50\n",
            "675/675 [==============================] - 2s 3ms/step - loss: 146772048.0000 - mae: 7783.9482 - mse: 146772048.0000 - val_loss: 147240400.0000 - val_mae: 7743.0513 - val_mse: 147240400.0000\n",
            "Epoch 13/50\n",
            "675/675 [==============================] - 2s 3ms/step - loss: 146650032.0000 - mae: 7778.3018 - mse: 146650032.0000 - val_loss: 147221776.0000 - val_mae: 7794.3950 - val_mse: 147221776.0000\n",
            "Epoch 14/50\n",
            "675/675 [==============================] - 2s 3ms/step - loss: 146602512.0000 - mae: 7776.2168 - mse: 146602512.0000 - val_loss: 147034784.0000 - val_mae: 7706.1235 - val_mse: 147034784.0000\n",
            "Epoch 15/50\n",
            "675/675 [==============================] - 2s 3ms/step - loss: 146395808.0000 - mae: 7773.5034 - mse: 146395808.0000 - val_loss: 147075728.0000 - val_mae: 7659.9814 - val_mse: 147075728.0000\n",
            "Epoch 16/50\n",
            "675/675 [==============================] - 2s 3ms/step - loss: 146335312.0000 - mae: 7765.7930 - mse: 146335312.0000 - val_loss: 146934912.0000 - val_mae: 7706.7314 - val_mse: 146934912.0000\n",
            "Epoch 17/50\n",
            "675/675 [==============================] - 2s 3ms/step - loss: 146256432.0000 - mae: 7761.9351 - mse: 146256432.0000 - val_loss: 147098240.0000 - val_mae: 7625.8257 - val_mse: 147098240.0000\n",
            "Epoch 18/50\n",
            "675/675 [==============================] - 2s 3ms/step - loss: 146065520.0000 - mae: 7758.8105 - mse: 146065520.0000 - val_loss: 146710448.0000 - val_mae: 7686.9673 - val_mse: 146710448.0000\n",
            "Epoch 19/50\n",
            "675/675 [==============================] - 2s 3ms/step - loss: 145991248.0000 - mae: 7753.4941 - mse: 145991248.0000 - val_loss: 146597024.0000 - val_mae: 7725.1426 - val_mse: 146597024.0000\n",
            "Epoch 20/50\n",
            "675/675 [==============================] - 2s 3ms/step - loss: 145878800.0000 - mae: 7748.1992 - mse: 145878800.0000 - val_loss: 146646560.0000 - val_mae: 7638.8550 - val_mse: 146646560.0000\n",
            "Epoch 21/50\n",
            "675/675 [==============================] - 2s 3ms/step - loss: 145766912.0000 - mae: 7743.8242 - mse: 145766912.0000 - val_loss: 146675360.0000 - val_mae: 7784.1611 - val_mse: 146675360.0000\n",
            "Epoch 22/50\n",
            "675/675 [==============================] - 2s 3ms/step - loss: 145620672.0000 - mae: 7736.6279 - mse: 145620672.0000 - val_loss: 146425968.0000 - val_mae: 7657.9019 - val_mse: 146425968.0000\n",
            "Epoch 23/50\n",
            "675/675 [==============================] - 2s 3ms/step - loss: 145478000.0000 - mae: 7731.9331 - mse: 145478000.0000 - val_loss: 146223344.0000 - val_mae: 7632.7095 - val_mse: 146223344.0000\n",
            "Epoch 24/50\n",
            "675/675 [==============================] - 2s 3ms/step - loss: 145211360.0000 - mae: 7719.9331 - mse: 145211360.0000 - val_loss: 146340016.0000 - val_mae: 7800.7378 - val_mse: 146340016.0000\n",
            "Epoch 25/50\n",
            "675/675 [==============================] - 2s 3ms/step - loss: 145224352.0000 - mae: 7719.2832 - mse: 145224352.0000 - val_loss: 145819504.0000 - val_mae: 7650.0459 - val_mse: 145819504.0000\n",
            "Epoch 26/50\n",
            "675/675 [==============================] - 2s 3ms/step - loss: 144886752.0000 - mae: 7700.5791 - mse: 144886752.0000 - val_loss: 145628592.0000 - val_mae: 7715.8169 - val_mse: 145628592.0000\n",
            "Epoch 27/50\n",
            "675/675 [==============================] - 2s 3ms/step - loss: 144622048.0000 - mae: 7691.0566 - mse: 144622048.0000 - val_loss: 145360240.0000 - val_mae: 7595.1689 - val_mse: 145360240.0000\n",
            "Epoch 28/50\n",
            "675/675 [==============================] - 2s 3ms/step - loss: 144280240.0000 - mae: 7676.3335 - mse: 144280240.0000 - val_loss: 145053968.0000 - val_mae: 7655.0464 - val_mse: 145053968.0000\n",
            "Epoch 29/50\n",
            "675/675 [==============================] - 2s 3ms/step - loss: 144116464.0000 - mae: 7662.9292 - mse: 144116464.0000 - val_loss: 144733776.0000 - val_mae: 7561.2290 - val_mse: 144733776.0000\n",
            "Epoch 30/50\n",
            "675/675 [==============================] - 2s 3ms/step - loss: 143698752.0000 - mae: 7642.0625 - mse: 143698752.0000 - val_loss: 144675408.0000 - val_mae: 7726.5103 - val_mse: 144675408.0000\n",
            "Epoch 31/50\n",
            "675/675 [==============================] - 2s 3ms/step - loss: 143326576.0000 - mae: 7627.1152 - mse: 143326576.0000 - val_loss: 144197248.0000 - val_mae: 7481.9546 - val_mse: 144197248.0000\n",
            "Epoch 32/50\n",
            "675/675 [==============================] - 2s 3ms/step - loss: 142853552.0000 - mae: 7601.0806 - mse: 142853552.0000 - val_loss: 143477008.0000 - val_mae: 7526.2427 - val_mse: 143477008.0000\n",
            "Epoch 33/50\n",
            "675/675 [==============================] - 2s 3ms/step - loss: 142410096.0000 - mae: 7576.6392 - mse: 142410096.0000 - val_loss: 143128592.0000 - val_mae: 7463.2314 - val_mse: 143128592.0000\n",
            "Epoch 34/50\n",
            "675/675 [==============================] - 2s 3ms/step - loss: 142017648.0000 - mae: 7555.7065 - mse: 142017648.0000 - val_loss: 142563408.0000 - val_mae: 7479.2778 - val_mse: 142563408.0000\n",
            "Epoch 35/50\n",
            "675/675 [==============================] - 2s 3ms/step - loss: 141463424.0000 - mae: 7528.4536 - mse: 141463424.0000 - val_loss: 142059824.0000 - val_mae: 7469.7549 - val_mse: 142059824.0000\n",
            "Epoch 36/50\n",
            "675/675 [==============================] - 2s 3ms/step - loss: 141035392.0000 - mae: 7503.2676 - mse: 141035392.0000 - val_loss: 141553504.0000 - val_mae: 7451.2046 - val_mse: 141553504.0000\n",
            "Epoch 37/50\n",
            "675/675 [==============================] - 2s 3ms/step - loss: 140613648.0000 - mae: 7481.4395 - mse: 140613648.0000 - val_loss: 141114592.0000 - val_mae: 7366.1372 - val_mse: 141114592.0000\n",
            "Epoch 38/50\n",
            "675/675 [==============================] - 2s 3ms/step - loss: 140039696.0000 - mae: 7449.1016 - mse: 140039696.0000 - val_loss: 140518480.0000 - val_mae: 7407.5093 - val_mse: 140518480.0000\n",
            "Epoch 39/50\n",
            "675/675 [==============================] - 2s 3ms/step - loss: 139498000.0000 - mae: 7423.6372 - mse: 139498000.0000 - val_loss: 140195648.0000 - val_mae: 7421.4814 - val_mse: 140195648.0000\n",
            "Epoch 40/50\n",
            "675/675 [==============================] - 2s 3ms/step - loss: 138915792.0000 - mae: 7397.1670 - mse: 138915792.0000 - val_loss: 139575216.0000 - val_mae: 7316.5674 - val_mse: 139575216.0000\n",
            "Epoch 41/50\n",
            "675/675 [==============================] - 2s 3ms/step - loss: 138492416.0000 - mae: 7368.4180 - mse: 138492416.0000 - val_loss: 139256048.0000 - val_mae: 7404.4849 - val_mse: 139256048.0000\n",
            "Epoch 42/50\n",
            "675/675 [==============================] - 2s 3ms/step - loss: 138160016.0000 - mae: 7348.8931 - mse: 138160016.0000 - val_loss: 140335504.0000 - val_mae: 7608.3975 - val_mse: 140335504.0000\n",
            "Epoch 43/50\n",
            "675/675 [==============================] - 2s 3ms/step - loss: 137494960.0000 - mae: 7319.4277 - mse: 137494960.0000 - val_loss: 138039360.0000 - val_mae: 7231.4478 - val_mse: 138039360.0000\n",
            "Epoch 44/50\n",
            "675/675 [==============================] - 2s 3ms/step - loss: 137050048.0000 - mae: 7294.3574 - mse: 137050048.0000 - val_loss: 137720240.0000 - val_mae: 7162.9028 - val_mse: 137720240.0000\n",
            "Epoch 45/50\n",
            "675/675 [==============================] - 2s 3ms/step - loss: 136651216.0000 - mae: 7273.4248 - mse: 136651216.0000 - val_loss: 137331328.0000 - val_mae: 7319.2222 - val_mse: 137331328.0000\n",
            "Epoch 46/50\n",
            "675/675 [==============================] - 2s 3ms/step - loss: 136149264.0000 - mae: 7248.3984 - mse: 136149264.0000 - val_loss: 137834224.0000 - val_mae: 7399.6973 - val_mse: 137834224.0000\n",
            "Epoch 47/50\n",
            "675/675 [==============================] - 2s 3ms/step - loss: 135540672.0000 - mae: 7218.0854 - mse: 135540672.0000 - val_loss: 136387872.0000 - val_mae: 7056.5420 - val_mse: 136387872.0000\n",
            "Epoch 48/50\n",
            "675/675 [==============================] - 2s 3ms/step - loss: 135177728.0000 - mae: 7197.8462 - mse: 135177728.0000 - val_loss: 135876208.0000 - val_mae: 7040.6719 - val_mse: 135876208.0000\n",
            "Epoch 49/50\n",
            "675/675 [==============================] - 2s 3ms/step - loss: 134667040.0000 - mae: 7170.9922 - mse: 134667040.0000 - val_loss: 135648224.0000 - val_mae: 7250.9287 - val_mse: 135648224.0000\n",
            "Epoch 50/50\n",
            "675/675 [==============================] - 2s 3ms/step - loss: 134040808.0000 - mae: 7143.7769 - mse: 134040808.0000 - val_loss: 134689184.0000 - val_mae: 7144.1011 - val_mse: 134689184.0000\n"
          ],
          "name": "stdout"
        }
      ]
    },
    {
      "cell_type": "markdown",
      "metadata": {
        "colab_type": "text",
        "id": "8KtmBr7UXBT6"
      },
      "source": [
        "## Test"
      ]
    },
    {
      "cell_type": "code",
      "metadata": {
        "colab_type": "code",
        "outputId": "ebcff100-c7e0-458d-b887-57d5fce8fb09",
        "id": "aqVrNiqkXBT7",
        "colab": {
          "base_uri": "https://localhost:8080/",
          "height": 51
        }
      },
      "source": [
        "pred = model.predict(X_test)\n",
        "mae  = mean_absolute_error(y_test, pred)\n",
        "mse  = mean_squared_error(y_test, pred)\n",
        "rmse = math.sqrt(mse)\n",
        "\n",
        "print(f'MAE  : {mae:,.2f}')\n",
        "print(f'RMSE : {rmse:,.2f}')\n",
        "\n",
        "results_df.loc['Shallow'] = [mae, rmse]"
      ],
      "execution_count": 266,
      "outputs": [
        {
          "output_type": "stream",
          "text": [
            "MAE  : 7,099.89\n",
            "RMSE : 11,343.47\n"
          ],
          "name": "stdout"
        }
      ]
    },
    {
      "cell_type": "markdown",
      "metadata": {
        "colab_type": "text",
        "id": "8EprHe72XBT-"
      },
      "source": [
        "## Plots"
      ]
    },
    {
      "cell_type": "code",
      "metadata": {
        "colab_type": "code",
        "outputId": "cc0c77f5-22ad-4a22-bb68-2ca095c5041c",
        "id": "agj6I3VoXBT-",
        "colab": {
          "base_uri": "https://localhost:8080/",
          "height": 621
        }
      },
      "source": [
        "plot_performance(history_shallow)"
      ],
      "execution_count": 267,
      "outputs": [
        {
          "output_type": "display_data",
          "data": {
            "image/png": "[encoded data removed]",
            "text/plain": [
              "<Figure size 864x720 with 2 Axes>"
            ]
          },
          "metadata": {
            "tags": [],
            "needs_background": "light"
          }
        }
      ]
    },
    {
      "cell_type": "markdown",
      "metadata": {
        "id": "3omAQhJMpFzy",
        "colab_type": "text"
      },
      "source": [
        "# Deep"
      ]
    },
    {
      "cell_type": "markdown",
      "metadata": {
        "id": "g4DJMtlxE49h",
        "colab_type": "text"
      },
      "source": [
        "## Features\n",
        "* Drop VIN\n",
        "* One Hot Categorical\n",
        "* Year -> Age"
      ]
    },
    {
      "cell_type": "code",
      "metadata": {
        "id": "9JcPwfuhE_aP",
        "colab_type": "code",
        "colab": {}
      },
      "source": [
        "X = df.copy()\n",
        "y = X['Price']\n",
        "X['Age'] = 2017 - X.Year\n",
        "X['State'] = X.State.str.upper()"
      ],
      "execution_count": 0,
      "outputs": []
    },
    {
      "cell_type": "code",
      "metadata": {
        "id": "QMtuh5cGZCen",
        "colab_type": "code",
        "colab": {}
      },
      "source": [
        "X = pd.concat([X, pd.get_dummies(X.Make, prefix='Make')], axis=1)\n",
        "X = pd.concat([X, pd.get_dummies(X.State, prefix='State')], axis=1)"
      ],
      "execution_count": 0,
      "outputs": []
    },
    {
      "cell_type": "code",
      "metadata": {
        "id": "XsGgLrE1ZFX1",
        "colab_type": "code",
        "colab": {}
      },
      "source": [
        "X = X.drop('Price', axis=1)\n",
        "X = X.drop('Vin', axis=1)\n",
        "X = X.drop('Make', axis=1)\n",
        "X = X.drop('Model', axis=1)\n",
        "X = X.drop('State', axis=1)\n",
        "X = X.drop('City', axis=1)"
      ],
      "execution_count": 0,
      "outputs": []
    },
    {
      "cell_type": "code",
      "metadata": {
        "id": "pwGy0OqzZYTb",
        "colab_type": "code",
        "colab": {
          "base_uri": "https://localhost:8080/",
          "height": 270
        },
        "outputId": "df17e979-a016-4a0a-821d-9af383d08241"
      },
      "source": [
        "X.head()"
      ],
      "execution_count": 271,
      "outputs": [
        {
          "output_type": "execute_result",
          "data": {
            "text/html": [
              "<div>\n",
              "<style scoped>\n",
              "    .dataframe tbody tr th:only-of-type {\n",
              "        vertical-align: middle;\n",
              "    }\n",
              "\n",
              "    .dataframe tbody tr th {\n",
              "        vertical-align: top;\n",
              "    }\n",
              "\n",
              "    .dataframe thead th {\n",
              "        text-align: right;\n",
              "    }\n",
              "</style>\n",
              "<table border=\"1\" class=\"dataframe\">\n",
              "  <thead>\n",
              "    <tr style=\"text-align: right;\">\n",
              "      <th></th>\n",
              "      <th>Year</th>\n",
              "      <th>Mileage</th>\n",
              "      <th>Age</th>\n",
              "      <th>Make_AM</th>\n",
              "      <th>Make_Acura</th>\n",
              "      <th>Make_Alfa</th>\n",
              "      <th>Make_Aston</th>\n",
              "      <th>Make_Audi</th>\n",
              "      <th>Make_BMW</th>\n",
              "      <th>Make_Bentley</th>\n",
              "      <th>Make_Buick</th>\n",
              "      <th>Make_Cadillac</th>\n",
              "      <th>Make_Chevrolet</th>\n",
              "      <th>Make_Chrysler</th>\n",
              "      <th>Make_Dodge</th>\n",
              "      <th>Make_FIAT</th>\n",
              "      <th>Make_Ferrari</th>\n",
              "      <th>Make_Fisker</th>\n",
              "      <th>Make_Ford</th>\n",
              "      <th>Make_Freightliner</th>\n",
              "      <th>Make_GMC</th>\n",
              "      <th>Make_Genesis</th>\n",
              "      <th>Make_Geo</th>\n",
              "      <th>Make_HUMMER</th>\n",
              "      <th>Make_Honda</th>\n",
              "      <th>Make_Hyundai</th>\n",
              "      <th>Make_INFINITI</th>\n",
              "      <th>Make_Isuzu</th>\n",
              "      <th>Make_Jaguar</th>\n",
              "      <th>Make_Jeep</th>\n",
              "      <th>Make_Kia</th>\n",
              "      <th>Make_Lamborghini</th>\n",
              "      <th>Make_Land</th>\n",
              "      <th>Make_Lexus</th>\n",
              "      <th>Make_Lincoln</th>\n",
              "      <th>Make_Lotus</th>\n",
              "      <th>Make_MINI</th>\n",
              "      <th>Make_Maserati</th>\n",
              "      <th>Make_Maybach</th>\n",
              "      <th>Make_Mazda</th>\n",
              "      <th>...</th>\n",
              "      <th>State_ HI</th>\n",
              "      <th>State_ IA</th>\n",
              "      <th>State_ ID</th>\n",
              "      <th>State_ IL</th>\n",
              "      <th>State_ IN</th>\n",
              "      <th>State_ KS</th>\n",
              "      <th>State_ KY</th>\n",
              "      <th>State_ LA</th>\n",
              "      <th>State_ MA</th>\n",
              "      <th>State_ MD</th>\n",
              "      <th>State_ ME</th>\n",
              "      <th>State_ MI</th>\n",
              "      <th>State_ MN</th>\n",
              "      <th>State_ MO</th>\n",
              "      <th>State_ MS</th>\n",
              "      <th>State_ MT</th>\n",
              "      <th>State_ NC</th>\n",
              "      <th>State_ ND</th>\n",
              "      <th>State_ NE</th>\n",
              "      <th>State_ NH</th>\n",
              "      <th>State_ NJ</th>\n",
              "      <th>State_ NM</th>\n",
              "      <th>State_ NV</th>\n",
              "      <th>State_ NY</th>\n",
              "      <th>State_ OH</th>\n",
              "      <th>State_ OK</th>\n",
              "      <th>State_ OR</th>\n",
              "      <th>State_ PA</th>\n",
              "      <th>State_ RI</th>\n",
              "      <th>State_ SC</th>\n",
              "      <th>State_ SD</th>\n",
              "      <th>State_ TN</th>\n",
              "      <th>State_ TX</th>\n",
              "      <th>State_ UT</th>\n",
              "      <th>State_ VA</th>\n",
              "      <th>State_ VT</th>\n",
              "      <th>State_ WA</th>\n",
              "      <th>State_ WI</th>\n",
              "      <th>State_ WV</th>\n",
              "      <th>State_ WY</th>\n",
              "    </tr>\n",
              "  </thead>\n",
              "  <tbody>\n",
              "    <tr>\n",
              "      <th>0</th>\n",
              "      <td>2014</td>\n",
              "      <td>35725</td>\n",
              "      <td>3</td>\n",
              "      <td>0</td>\n",
              "      <td>1</td>\n",
              "      <td>0</td>\n",
              "      <td>0</td>\n",
              "      <td>0</td>\n",
              "      <td>0</td>\n",
              "      <td>0</td>\n",
              "      <td>0</td>\n",
              "      <td>0</td>\n",
              "      <td>0</td>\n",
              "      <td>0</td>\n",
              "      <td>0</td>\n",
              "      <td>0</td>\n",
              "      <td>0</td>\n",
              "      <td>0</td>\n",
              "      <td>0</td>\n",
              "      <td>0</td>\n",
              "      <td>0</td>\n",
              "      <td>0</td>\n",
              "      <td>0</td>\n",
              "      <td>0</td>\n",
              "      <td>0</td>\n",
              "      <td>0</td>\n",
              "      <td>0</td>\n",
              "      <td>0</td>\n",
              "      <td>0</td>\n",
              "      <td>0</td>\n",
              "      <td>0</td>\n",
              "      <td>0</td>\n",
              "      <td>0</td>\n",
              "      <td>0</td>\n",
              "      <td>0</td>\n",
              "      <td>0</td>\n",
              "      <td>0</td>\n",
              "      <td>0</td>\n",
              "      <td>0</td>\n",
              "      <td>0</td>\n",
              "      <td>...</td>\n",
              "      <td>0</td>\n",
              "      <td>0</td>\n",
              "      <td>0</td>\n",
              "      <td>0</td>\n",
              "      <td>0</td>\n",
              "      <td>0</td>\n",
              "      <td>0</td>\n",
              "      <td>0</td>\n",
              "      <td>0</td>\n",
              "      <td>0</td>\n",
              "      <td>0</td>\n",
              "      <td>0</td>\n",
              "      <td>0</td>\n",
              "      <td>0</td>\n",
              "      <td>0</td>\n",
              "      <td>0</td>\n",
              "      <td>0</td>\n",
              "      <td>0</td>\n",
              "      <td>0</td>\n",
              "      <td>0</td>\n",
              "      <td>0</td>\n",
              "      <td>0</td>\n",
              "      <td>0</td>\n",
              "      <td>0</td>\n",
              "      <td>0</td>\n",
              "      <td>0</td>\n",
              "      <td>0</td>\n",
              "      <td>0</td>\n",
              "      <td>0</td>\n",
              "      <td>0</td>\n",
              "      <td>0</td>\n",
              "      <td>0</td>\n",
              "      <td>1</td>\n",
              "      <td>0</td>\n",
              "      <td>0</td>\n",
              "      <td>0</td>\n",
              "      <td>0</td>\n",
              "      <td>0</td>\n",
              "      <td>0</td>\n",
              "      <td>0</td>\n",
              "    </tr>\n",
              "    <tr>\n",
              "      <th>1</th>\n",
              "      <td>2013</td>\n",
              "      <td>19606</td>\n",
              "      <td>4</td>\n",
              "      <td>0</td>\n",
              "      <td>1</td>\n",
              "      <td>0</td>\n",
              "      <td>0</td>\n",
              "      <td>0</td>\n",
              "      <td>0</td>\n",
              "      <td>0</td>\n",
              "      <td>0</td>\n",
              "      <td>0</td>\n",
              "      <td>0</td>\n",
              "      <td>0</td>\n",
              "      <td>0</td>\n",
              "      <td>0</td>\n",
              "      <td>0</td>\n",
              "      <td>0</td>\n",
              "      <td>0</td>\n",
              "      <td>0</td>\n",
              "      <td>0</td>\n",
              "      <td>0</td>\n",
              "      <td>0</td>\n",
              "      <td>0</td>\n",
              "      <td>0</td>\n",
              "      <td>0</td>\n",
              "      <td>0</td>\n",
              "      <td>0</td>\n",
              "      <td>0</td>\n",
              "      <td>0</td>\n",
              "      <td>0</td>\n",
              "      <td>0</td>\n",
              "      <td>0</td>\n",
              "      <td>0</td>\n",
              "      <td>0</td>\n",
              "      <td>0</td>\n",
              "      <td>0</td>\n",
              "      <td>0</td>\n",
              "      <td>0</td>\n",
              "      <td>0</td>\n",
              "      <td>...</td>\n",
              "      <td>0</td>\n",
              "      <td>0</td>\n",
              "      <td>0</td>\n",
              "      <td>0</td>\n",
              "      <td>0</td>\n",
              "      <td>0</td>\n",
              "      <td>0</td>\n",
              "      <td>0</td>\n",
              "      <td>0</td>\n",
              "      <td>0</td>\n",
              "      <td>0</td>\n",
              "      <td>0</td>\n",
              "      <td>0</td>\n",
              "      <td>0</td>\n",
              "      <td>0</td>\n",
              "      <td>0</td>\n",
              "      <td>0</td>\n",
              "      <td>0</td>\n",
              "      <td>0</td>\n",
              "      <td>0</td>\n",
              "      <td>0</td>\n",
              "      <td>0</td>\n",
              "      <td>0</td>\n",
              "      <td>1</td>\n",
              "      <td>0</td>\n",
              "      <td>0</td>\n",
              "      <td>0</td>\n",
              "      <td>0</td>\n",
              "      <td>0</td>\n",
              "      <td>0</td>\n",
              "      <td>0</td>\n",
              "      <td>0</td>\n",
              "      <td>0</td>\n",
              "      <td>0</td>\n",
              "      <td>0</td>\n",
              "      <td>0</td>\n",
              "      <td>0</td>\n",
              "      <td>0</td>\n",
              "      <td>0</td>\n",
              "      <td>0</td>\n",
              "    </tr>\n",
              "    <tr>\n",
              "      <th>2</th>\n",
              "      <td>2013</td>\n",
              "      <td>48851</td>\n",
              "      <td>4</td>\n",
              "      <td>0</td>\n",
              "      <td>1</td>\n",
              "      <td>0</td>\n",
              "      <td>0</td>\n",
              "      <td>0</td>\n",
              "      <td>0</td>\n",
              "      <td>0</td>\n",
              "      <td>0</td>\n",
              "      <td>0</td>\n",
              "      <td>0</td>\n",
              "      <td>0</td>\n",
              "      <td>0</td>\n",
              "      <td>0</td>\n",
              "      <td>0</td>\n",
              "      <td>0</td>\n",
              "      <td>0</td>\n",
              "      <td>0</td>\n",
              "      <td>0</td>\n",
              "      <td>0</td>\n",
              "      <td>0</td>\n",
              "      <td>0</td>\n",
              "      <td>0</td>\n",
              "      <td>0</td>\n",
              "      <td>0</td>\n",
              "      <td>0</td>\n",
              "      <td>0</td>\n",
              "      <td>0</td>\n",
              "      <td>0</td>\n",
              "      <td>0</td>\n",
              "      <td>0</td>\n",
              "      <td>0</td>\n",
              "      <td>0</td>\n",
              "      <td>0</td>\n",
              "      <td>0</td>\n",
              "      <td>0</td>\n",
              "      <td>0</td>\n",
              "      <td>0</td>\n",
              "      <td>...</td>\n",
              "      <td>0</td>\n",
              "      <td>0</td>\n",
              "      <td>0</td>\n",
              "      <td>0</td>\n",
              "      <td>0</td>\n",
              "      <td>0</td>\n",
              "      <td>0</td>\n",
              "      <td>0</td>\n",
              "      <td>0</td>\n",
              "      <td>0</td>\n",
              "      <td>0</td>\n",
              "      <td>0</td>\n",
              "      <td>0</td>\n",
              "      <td>0</td>\n",
              "      <td>0</td>\n",
              "      <td>0</td>\n",
              "      <td>0</td>\n",
              "      <td>0</td>\n",
              "      <td>0</td>\n",
              "      <td>0</td>\n",
              "      <td>0</td>\n",
              "      <td>0</td>\n",
              "      <td>0</td>\n",
              "      <td>0</td>\n",
              "      <td>0</td>\n",
              "      <td>0</td>\n",
              "      <td>0</td>\n",
              "      <td>0</td>\n",
              "      <td>0</td>\n",
              "      <td>0</td>\n",
              "      <td>0</td>\n",
              "      <td>0</td>\n",
              "      <td>1</td>\n",
              "      <td>0</td>\n",
              "      <td>0</td>\n",
              "      <td>0</td>\n",
              "      <td>0</td>\n",
              "      <td>0</td>\n",
              "      <td>0</td>\n",
              "      <td>0</td>\n",
              "    </tr>\n",
              "    <tr>\n",
              "      <th>3</th>\n",
              "      <td>2014</td>\n",
              "      <td>39922</td>\n",
              "      <td>3</td>\n",
              "      <td>0</td>\n",
              "      <td>1</td>\n",
              "      <td>0</td>\n",
              "      <td>0</td>\n",
              "      <td>0</td>\n",
              "      <td>0</td>\n",
              "      <td>0</td>\n",
              "      <td>0</td>\n",
              "      <td>0</td>\n",
              "      <td>0</td>\n",
              "      <td>0</td>\n",
              "      <td>0</td>\n",
              "      <td>0</td>\n",
              "      <td>0</td>\n",
              "      <td>0</td>\n",
              "      <td>0</td>\n",
              "      <td>0</td>\n",
              "      <td>0</td>\n",
              "      <td>0</td>\n",
              "      <td>0</td>\n",
              "      <td>0</td>\n",
              "      <td>0</td>\n",
              "      <td>0</td>\n",
              "      <td>0</td>\n",
              "      <td>0</td>\n",
              "      <td>0</td>\n",
              "      <td>0</td>\n",
              "      <td>0</td>\n",
              "      <td>0</td>\n",
              "      <td>0</td>\n",
              "      <td>0</td>\n",
              "      <td>0</td>\n",
              "      <td>0</td>\n",
              "      <td>0</td>\n",
              "      <td>0</td>\n",
              "      <td>0</td>\n",
              "      <td>0</td>\n",
              "      <td>...</td>\n",
              "      <td>0</td>\n",
              "      <td>0</td>\n",
              "      <td>0</td>\n",
              "      <td>0</td>\n",
              "      <td>0</td>\n",
              "      <td>0</td>\n",
              "      <td>0</td>\n",
              "      <td>0</td>\n",
              "      <td>0</td>\n",
              "      <td>0</td>\n",
              "      <td>0</td>\n",
              "      <td>0</td>\n",
              "      <td>0</td>\n",
              "      <td>0</td>\n",
              "      <td>0</td>\n",
              "      <td>0</td>\n",
              "      <td>0</td>\n",
              "      <td>0</td>\n",
              "      <td>0</td>\n",
              "      <td>0</td>\n",
              "      <td>0</td>\n",
              "      <td>0</td>\n",
              "      <td>0</td>\n",
              "      <td>0</td>\n",
              "      <td>0</td>\n",
              "      <td>0</td>\n",
              "      <td>0</td>\n",
              "      <td>0</td>\n",
              "      <td>0</td>\n",
              "      <td>0</td>\n",
              "      <td>0</td>\n",
              "      <td>0</td>\n",
              "      <td>0</td>\n",
              "      <td>0</td>\n",
              "      <td>0</td>\n",
              "      <td>0</td>\n",
              "      <td>0</td>\n",
              "      <td>0</td>\n",
              "      <td>0</td>\n",
              "      <td>0</td>\n",
              "    </tr>\n",
              "    <tr>\n",
              "      <th>4</th>\n",
              "      <td>2016</td>\n",
              "      <td>22142</td>\n",
              "      <td>1</td>\n",
              "      <td>0</td>\n",
              "      <td>1</td>\n",
              "      <td>0</td>\n",
              "      <td>0</td>\n",
              "      <td>0</td>\n",
              "      <td>0</td>\n",
              "      <td>0</td>\n",
              "      <td>0</td>\n",
              "      <td>0</td>\n",
              "      <td>0</td>\n",
              "      <td>0</td>\n",
              "      <td>0</td>\n",
              "      <td>0</td>\n",
              "      <td>0</td>\n",
              "      <td>0</td>\n",
              "      <td>0</td>\n",
              "      <td>0</td>\n",
              "      <td>0</td>\n",
              "      <td>0</td>\n",
              "      <td>0</td>\n",
              "      <td>0</td>\n",
              "      <td>0</td>\n",
              "      <td>0</td>\n",
              "      <td>0</td>\n",
              "      <td>0</td>\n",
              "      <td>0</td>\n",
              "      <td>0</td>\n",
              "      <td>0</td>\n",
              "      <td>0</td>\n",
              "      <td>0</td>\n",
              "      <td>0</td>\n",
              "      <td>0</td>\n",
              "      <td>0</td>\n",
              "      <td>0</td>\n",
              "      <td>0</td>\n",
              "      <td>0</td>\n",
              "      <td>0</td>\n",
              "      <td>...</td>\n",
              "      <td>0</td>\n",
              "      <td>0</td>\n",
              "      <td>0</td>\n",
              "      <td>0</td>\n",
              "      <td>0</td>\n",
              "      <td>0</td>\n",
              "      <td>0</td>\n",
              "      <td>0</td>\n",
              "      <td>0</td>\n",
              "      <td>0</td>\n",
              "      <td>0</td>\n",
              "      <td>0</td>\n",
              "      <td>0</td>\n",
              "      <td>0</td>\n",
              "      <td>0</td>\n",
              "      <td>0</td>\n",
              "      <td>0</td>\n",
              "      <td>0</td>\n",
              "      <td>0</td>\n",
              "      <td>0</td>\n",
              "      <td>0</td>\n",
              "      <td>0</td>\n",
              "      <td>0</td>\n",
              "      <td>0</td>\n",
              "      <td>0</td>\n",
              "      <td>0</td>\n",
              "      <td>0</td>\n",
              "      <td>0</td>\n",
              "      <td>0</td>\n",
              "      <td>0</td>\n",
              "      <td>0</td>\n",
              "      <td>0</td>\n",
              "      <td>0</td>\n",
              "      <td>1</td>\n",
              "      <td>0</td>\n",
              "      <td>0</td>\n",
              "      <td>0</td>\n",
              "      <td>0</td>\n",
              "      <td>0</td>\n",
              "      <td>0</td>\n",
              "    </tr>\n",
              "  </tbody>\n",
              "</table>\n",
              "<p>5 rows × 112 columns</p>\n",
              "</div>"
            ],
            "text/plain": [
              "   Year  Mileage  Age  Make_AM  ...  State_ WA  State_ WI  State_ WV  State_ WY\n",
              "0  2014    35725    3        0  ...          0          0          0          0\n",
              "1  2013    19606    4        0  ...          0          0          0          0\n",
              "2  2013    48851    4        0  ...          0          0          0          0\n",
              "3  2014    39922    3        0  ...          0          0          0          0\n",
              "4  2016    22142    1        0  ...          0          0          0          0\n",
              "\n",
              "[5 rows x 112 columns]"
            ]
          },
          "metadata": {
            "tags": []
          },
          "execution_count": 271
        }
      ]
    },
    {
      "cell_type": "markdown",
      "metadata": {
        "id": "pqh0XT3urdD6",
        "colab_type": "text"
      },
      "source": [
        "## Train / Test"
      ]
    },
    {
      "cell_type": "code",
      "metadata": {
        "id": "G_j6YYs6rdhQ",
        "colab_type": "code",
        "colab": {}
      },
      "source": [
        "X_train, X_test, y_train, y_test = train_test_split(X, y, train_size=0.9, random_state=8877)\n",
        "input_shape = (X.shape[1], )"
      ],
      "execution_count": 0,
      "outputs": []
    },
    {
      "cell_type": "markdown",
      "metadata": {
        "id": "ULcMF1UBbGbo",
        "colab_type": "text"
      },
      "source": [
        "## Model"
      ]
    },
    {
      "cell_type": "code",
      "metadata": {
        "id": "EBynj0DJbDep",
        "colab_type": "code",
        "colab": {}
      },
      "source": [
        "model = Sequential()\n",
        "model.add(Dense(256, activation='relu', input_shape=(input_shape)))\n",
        "model.add(Dropout(0.2))\n",
        "model.add(Dense(128, activation='relu'))\n",
        "model.add(Dropout(0.2))\n",
        "model.add(Dense(64, activation='relu'))\n",
        "model.add(Dropout(0.2))\n",
        "model.add(Dense(1, activation='linear'))"
      ],
      "execution_count": 0,
      "outputs": []
    },
    {
      "cell_type": "code",
      "metadata": {
        "id": "tj7oYdmzbkYU",
        "colab_type": "code",
        "colab": {
          "base_uri": "https://localhost:8080/",
          "height": 391
        },
        "outputId": "5e090192-0783-4762-eaff-a13b4e8c9098"
      },
      "source": [
        "model.summary()"
      ],
      "execution_count": 274,
      "outputs": [
        {
          "output_type": "stream",
          "text": [
            "Model: \"sequential_7\"\n",
            "_________________________________________________________________\n",
            "Layer (type)                 Output Shape              Param #   \n",
            "=================================================================\n",
            "dense_65 (Dense)             (None, 256)               28928     \n",
            "_________________________________________________________________\n",
            "dropout_47 (Dropout)         (None, 256)               0         \n",
            "_________________________________________________________________\n",
            "dense_66 (Dense)             (None, 128)               32896     \n",
            "_________________________________________________________________\n",
            "dropout_48 (Dropout)         (None, 128)               0         \n",
            "_________________________________________________________________\n",
            "dense_67 (Dense)             (None, 64)                8256      \n",
            "_________________________________________________________________\n",
            "dropout_49 (Dropout)         (None, 64)                0         \n",
            "_________________________________________________________________\n",
            "dense_68 (Dense)             (None, 1)                 65        \n",
            "=================================================================\n",
            "Total params: 70,145\n",
            "Trainable params: 70,145\n",
            "Non-trainable params: 0\n",
            "_________________________________________________________________\n"
          ],
          "name": "stdout"
        }
      ]
    },
    {
      "cell_type": "code",
      "metadata": {
        "id": "qeKfUMoybuYI",
        "colab_type": "code",
        "colab": {}
      },
      "source": [
        "model.compile(loss='mean_squared_error',\n",
        "              optimizer=Adam(lr=3e-4),\n",
        "              metrics=['mae', 'mse'])"
      ],
      "execution_count": 0,
      "outputs": []
    },
    {
      "cell_type": "markdown",
      "metadata": {
        "id": "e--GBhT_cRM3",
        "colab_type": "text"
      },
      "source": [
        "## Train"
      ]
    },
    {
      "cell_type": "code",
      "metadata": {
        "id": "vsS8_vN3cSK-",
        "colab_type": "code",
        "colab": {
          "base_uri": "https://localhost:8080/",
          "height": 1000
        },
        "outputId": "dc9ef297-b540-4e84-9b6e-40faa8b8dafe"
      },
      "source": [
        "history_baseline = model.fit(X_train, y_train,\n",
        "                             batch_size=batch_size,\n",
        "                             epochs=epochs,\n",
        "                             validation_split=0.1)"
      ],
      "execution_count": 276,
      "outputs": [
        {
          "output_type": "stream",
          "text": [
            "Epoch 1/50\n",
            "675/675 [==============================] - 2s 3ms/step - loss: 217435248.0000 - mae: 9735.5420 - mse: 217435248.0000 - val_loss: 152879264.0000 - val_mae: 7845.2910 - val_mse: 152879264.0000\n",
            "Epoch 2/50\n",
            "675/675 [==============================] - 2s 3ms/step - loss: 154272048.0000 - mae: 8011.0913 - mse: 154272048.0000 - val_loss: 152453600.0000 - val_mae: 7701.3735 - val_mse: 152453600.0000\n",
            "Epoch 3/50\n",
            "675/675 [==============================] - 2s 3ms/step - loss: 152526496.0000 - mae: 7946.6694 - mse: 152526496.0000 - val_loss: 147544080.0000 - val_mae: 7776.4194 - val_mse: 147544080.0000\n",
            "Epoch 4/50\n",
            "675/675 [==============================] - 2s 3ms/step - loss: 151565440.0000 - mae: 7916.7437 - mse: 151565440.0000 - val_loss: 147591360.0000 - val_mae: 7640.2534 - val_mse: 147591360.0000\n",
            "Epoch 5/50\n",
            "675/675 [==============================] - 2s 3ms/step - loss: 151346208.0000 - mae: 7901.2861 - mse: 151346208.0000 - val_loss: 147570480.0000 - val_mae: 7850.2251 - val_mse: 147570480.0000\n",
            "Epoch 6/50\n",
            "675/675 [==============================] - 2s 3ms/step - loss: 150583088.0000 - mae: 7875.5845 - mse: 150583088.0000 - val_loss: 147070992.0000 - val_mae: 7589.5459 - val_mse: 147070992.0000\n",
            "Epoch 7/50\n",
            "675/675 [==============================] - 2s 3ms/step - loss: 150396544.0000 - mae: 7867.2422 - mse: 150396544.0000 - val_loss: 146459072.0000 - val_mae: 7607.6172 - val_mse: 146459072.0000\n",
            "Epoch 8/50\n",
            "675/675 [==============================] - 2s 3ms/step - loss: 149715568.0000 - mae: 7843.2139 - mse: 149715568.0000 - val_loss: 145916608.0000 - val_mae: 7639.2905 - val_mse: 145916608.0000\n",
            "Epoch 9/50\n",
            "675/675 [==============================] - 2s 3ms/step - loss: 149460528.0000 - mae: 7828.0488 - mse: 149460528.0000 - val_loss: 147177552.0000 - val_mae: 7482.2817 - val_mse: 147177552.0000\n",
            "Epoch 10/50\n",
            "675/675 [==============================] - 2s 3ms/step - loss: 148782096.0000 - mae: 7798.4897 - mse: 148782096.0000 - val_loss: 145393152.0000 - val_mae: 7503.3101 - val_mse: 145393152.0000\n",
            "Epoch 11/50\n",
            "675/675 [==============================] - 2s 3ms/step - loss: 148061648.0000 - mae: 7765.0532 - mse: 148061648.0000 - val_loss: 145253088.0000 - val_mae: 7842.9531 - val_mse: 145253088.0000\n",
            "Epoch 12/50\n",
            "675/675 [==============================] - 2s 3ms/step - loss: 146755168.0000 - mae: 7704.0869 - mse: 146755168.0000 - val_loss: 142995824.0000 - val_mae: 7649.8633 - val_mse: 142995824.0000\n",
            "Epoch 13/50\n",
            "675/675 [==============================] - 2s 3ms/step - loss: 144073968.0000 - mae: 7584.4399 - mse: 144073968.0000 - val_loss: 140577872.0000 - val_mae: 7682.5977 - val_mse: 140577872.0000\n",
            "Epoch 14/50\n",
            "675/675 [==============================] - 2s 3ms/step - loss: 140299024.0000 - mae: 7397.7554 - mse: 140299024.0000 - val_loss: 153388912.0000 - val_mae: 7572.1846 - val_mse: 153388912.0000\n",
            "Epoch 15/50\n",
            "675/675 [==============================] - 2s 3ms/step - loss: 135364944.0000 - mae: 7162.2139 - mse: 135364944.0000 - val_loss: 128447136.0000 - val_mae: 6788.8374 - val_mse: 128447136.0000\n",
            "Epoch 16/50\n",
            "675/675 [==============================] - 2s 3ms/step - loss: 130962360.0000 - mae: 6954.9961 - mse: 130962360.0000 - val_loss: 124378744.0000 - val_mae: 6656.8379 - val_mse: 124378744.0000\n",
            "Epoch 17/50\n",
            "675/675 [==============================] - 2s 3ms/step - loss: 127444520.0000 - mae: 6814.7515 - mse: 127444520.0000 - val_loss: 127795448.0000 - val_mae: 6432.1196 - val_mse: 127795448.0000\n",
            "Epoch 18/50\n",
            "675/675 [==============================] - 2s 3ms/step - loss: 126032848.0000 - mae: 6774.3940 - mse: 126032848.0000 - val_loss: 122552296.0000 - val_mae: 6841.8623 - val_mse: 122552296.0000\n",
            "Epoch 19/50\n",
            "675/675 [==============================] - 2s 3ms/step - loss: 123759600.0000 - mae: 6699.0825 - mse: 123759600.0000 - val_loss: 122558096.0000 - val_mae: 6231.9634 - val_mse: 122558096.0000\n",
            "Epoch 20/50\n",
            "675/675 [==============================] - 2s 3ms/step - loss: 122221592.0000 - mae: 6651.1870 - mse: 122221592.0000 - val_loss: 118249640.0000 - val_mae: 6206.0938 - val_mse: 118249640.0000\n",
            "Epoch 21/50\n",
            "675/675 [==============================] - 2s 3ms/step - loss: 121013552.0000 - mae: 6635.6831 - mse: 121013552.0000 - val_loss: 116766528.0000 - val_mae: 6175.4946 - val_mse: 116766528.0000\n",
            "Epoch 22/50\n",
            "675/675 [==============================] - 2s 3ms/step - loss: 119744576.0000 - mae: 6603.1685 - mse: 119744576.0000 - val_loss: 113840952.0000 - val_mae: 6263.5820 - val_mse: 113840952.0000\n",
            "Epoch 23/50\n",
            "675/675 [==============================] - 2s 3ms/step - loss: 119390720.0000 - mae: 6614.9893 - mse: 119390720.0000 - val_loss: 113651024.0000 - val_mae: 6221.4180 - val_mse: 113651024.0000\n",
            "Epoch 24/50\n",
            "675/675 [==============================] - 2s 3ms/step - loss: 118331888.0000 - mae: 6605.7837 - mse: 118331888.0000 - val_loss: 122900512.0000 - val_mae: 6369.1318 - val_mse: 122900512.0000\n",
            "Epoch 25/50\n",
            "675/675 [==============================] - 2s 3ms/step - loss: 117214064.0000 - mae: 6577.9722 - mse: 117214064.0000 - val_loss: 111468176.0000 - val_mae: 6174.6582 - val_mse: 111468176.0000\n",
            "Epoch 26/50\n",
            "675/675 [==============================] - 2s 3ms/step - loss: 116372496.0000 - mae: 6567.1553 - mse: 116372496.0000 - val_loss: 109989960.0000 - val_mae: 6257.4761 - val_mse: 109989960.0000\n",
            "Epoch 27/50\n",
            "675/675 [==============================] - 2s 3ms/step - loss: 115702016.0000 - mae: 6567.2124 - mse: 115702016.0000 - val_loss: 118975208.0000 - val_mae: 7261.2104 - val_mse: 118975208.0000\n",
            "Epoch 28/50\n",
            "675/675 [==============================] - 2s 3ms/step - loss: 115107176.0000 - mae: 6554.0996 - mse: 115107176.0000 - val_loss: 119225640.0000 - val_mae: 6330.0166 - val_mse: 119225640.0000\n",
            "Epoch 29/50\n",
            "675/675 [==============================] - 2s 3ms/step - loss: 114326880.0000 - mae: 6556.0137 - mse: 114326880.0000 - val_loss: 112288480.0000 - val_mae: 6796.7358 - val_mse: 112288480.0000\n",
            "Epoch 30/50\n",
            "675/675 [==============================] - 2s 3ms/step - loss: 113629288.0000 - mae: 6533.8599 - mse: 113629288.0000 - val_loss: 115678656.0000 - val_mae: 7024.4429 - val_mse: 115678656.0000\n",
            "Epoch 31/50\n",
            "675/675 [==============================] - 2s 3ms/step - loss: 113314608.0000 - mae: 6544.8945 - mse: 113314608.0000 - val_loss: 106698600.0000 - val_mae: 6083.8926 - val_mse: 106698600.0000\n",
            "Epoch 32/50\n",
            "675/675 [==============================] - 2s 3ms/step - loss: 112089272.0000 - mae: 6523.6230 - mse: 112089272.0000 - val_loss: 105861528.0000 - val_mae: 6415.1812 - val_mse: 105861528.0000\n",
            "Epoch 33/50\n",
            "675/675 [==============================] - 2s 3ms/step - loss: 111828432.0000 - mae: 6530.9810 - mse: 111828432.0000 - val_loss: 107705672.0000 - val_mae: 6517.0781 - val_mse: 107705672.0000\n",
            "Epoch 34/50\n",
            "675/675 [==============================] - 2s 3ms/step - loss: 111506168.0000 - mae: 6531.4185 - mse: 111506168.0000 - val_loss: 104903320.0000 - val_mae: 6332.9951 - val_mse: 104903320.0000\n",
            "Epoch 35/50\n",
            "675/675 [==============================] - 2s 3ms/step - loss: 110994264.0000 - mae: 6515.7622 - mse: 110994264.0000 - val_loss: 105656976.0000 - val_mae: 6122.5977 - val_mse: 105656976.0000\n",
            "Epoch 36/50\n",
            "675/675 [==============================] - 2s 3ms/step - loss: 110820464.0000 - mae: 6522.2969 - mse: 110820464.0000 - val_loss: 130181328.0000 - val_mae: 6709.7534 - val_mse: 130181328.0000\n",
            "Epoch 37/50\n",
            "675/675 [==============================] - 2s 3ms/step - loss: 110994056.0000 - mae: 6541.1069 - mse: 110994056.0000 - val_loss: 238949024.0000 - val_mae: 12673.9980 - val_mse: 238949024.0000\n",
            "Epoch 38/50\n",
            "675/675 [==============================] - 2s 3ms/step - loss: 114513160.0000 - mae: 6686.1792 - mse: 114513160.0000 - val_loss: 104270792.0000 - val_mae: 6209.3491 - val_mse: 104270792.0000\n",
            "Epoch 39/50\n",
            "675/675 [==============================] - 2s 3ms/step - loss: 110665736.0000 - mae: 6548.2446 - mse: 110665736.0000 - val_loss: 115579488.0000 - val_mae: 6341.5552 - val_mse: 115579488.0000\n",
            "Epoch 40/50\n",
            "675/675 [==============================] - 2s 3ms/step - loss: 109709464.0000 - mae: 6531.6211 - mse: 109709464.0000 - val_loss: 152412048.0000 - val_mae: 9018.7520 - val_mse: 152412048.0000\n",
            "Epoch 41/50\n",
            "675/675 [==============================] - 2s 3ms/step - loss: 112858616.0000 - mae: 6628.3037 - mse: 112858616.0000 - val_loss: 119443800.0000 - val_mae: 6451.5859 - val_mse: 119443800.0000\n",
            "Epoch 42/50\n",
            "675/675 [==============================] - 2s 3ms/step - loss: 108831608.0000 - mae: 6472.6230 - mse: 108831608.0000 - val_loss: 101937016.0000 - val_mae: 6044.8052 - val_mse: 101937016.0000\n",
            "Epoch 43/50\n",
            "675/675 [==============================] - 2s 3ms/step - loss: 108489720.0000 - mae: 6508.0557 - mse: 108489720.0000 - val_loss: 123902656.0000 - val_mae: 6712.0381 - val_mse: 123902656.0000\n",
            "Epoch 44/50\n",
            "675/675 [==============================] - 2s 3ms/step - loss: 107882272.0000 - mae: 6482.5654 - mse: 107882272.0000 - val_loss: 115381080.0000 - val_mae: 6346.3628 - val_mse: 115381080.0000\n",
            "Epoch 45/50\n",
            "675/675 [==============================] - 2s 3ms/step - loss: 108442200.0000 - mae: 6506.5723 - mse: 108442200.0000 - val_loss: 101856536.0000 - val_mae: 6192.8750 - val_mse: 101856536.0000\n",
            "Epoch 46/50\n",
            "675/675 [==============================] - 2s 3ms/step - loss: 109885760.0000 - mae: 6555.1611 - mse: 109885760.0000 - val_loss: 107525376.0000 - val_mae: 6168.4580 - val_mse: 107525376.0000\n",
            "Epoch 47/50\n",
            "675/675 [==============================] - 2s 3ms/step - loss: 108416272.0000 - mae: 6503.7803 - mse: 108416272.0000 - val_loss: 99314456.0000 - val_mae: 6245.8623 - val_mse: 99314456.0000\n",
            "Epoch 48/50\n",
            "675/675 [==============================] - 2s 3ms/step - loss: 108172360.0000 - mae: 6498.3457 - mse: 108172360.0000 - val_loss: 102721792.0000 - val_mae: 6533.4346 - val_mse: 102721792.0000\n",
            "Epoch 49/50\n",
            "675/675 [==============================] - 2s 3ms/step - loss: 107243200.0000 - mae: 6475.2964 - mse: 107243200.0000 - val_loss: 99585368.0000 - val_mae: 6245.5098 - val_mse: 99585368.0000\n",
            "Epoch 50/50\n",
            "675/675 [==============================] - 2s 3ms/step - loss: 106626912.0000 - mae: 6461.3599 - mse: 106626912.0000 - val_loss: 98163784.0000 - val_mae: 6051.0327 - val_mse: 98163784.0000\n"
          ],
          "name": "stdout"
        }
      ]
    },
    {
      "cell_type": "markdown",
      "metadata": {
        "id": "oLF7UcW4d2FK",
        "colab_type": "text"
      },
      "source": [
        "## Test"
      ]
    },
    {
      "cell_type": "code",
      "metadata": {
        "id": "frViXeegd3Hv",
        "colab_type": "code",
        "colab": {
          "base_uri": "https://localhost:8080/",
          "height": 51
        },
        "outputId": "b4dfd622-167a-4d60-ae27-ad195181b8c8"
      },
      "source": [
        "pred = model.predict(X_test)\n",
        "mae  = mean_absolute_error(y_test, pred)\n",
        "mse  = mean_squared_error(y_test, pred)\n",
        "rmse = math.sqrt(mse)\n",
        "\n",
        "print(f'MAE  : {mae:,.2f}')\n",
        "print(f'RMSE : {rmse:,.2f}')\n",
        "\n",
        "results_df.loc['Deep'] = [mae, rmse]"
      ],
      "execution_count": 277,
      "outputs": [
        {
          "output_type": "stream",
          "text": [
            "MAE  : 6,012.63\n",
            "RMSE : 9,750.62\n"
          ],
          "name": "stdout"
        }
      ]
    },
    {
      "cell_type": "markdown",
      "metadata": {
        "id": "fPXJ8CiQd4JF",
        "colab_type": "text"
      },
      "source": [
        "## Plots"
      ]
    },
    {
      "cell_type": "code",
      "metadata": {
        "id": "xSlxzN-Hd5Sk",
        "colab_type": "code",
        "colab": {
          "base_uri": "https://localhost:8080/",
          "height": 621
        },
        "outputId": "4cc575b8-19ed-473d-cb99-76e4f0aa7d2d"
      },
      "source": [
        "plot_performance(history_baseline)"
      ],
      "execution_count": 278,
      "outputs": [
        {
          "output_type": "display_data",
          "data": {
            "image/png": "[encoded data removed]",
            "text/plain": [
              "<Figure size 864x720 with 2 Axes>"
            ]
          },
          "metadata": {
            "tags": [],
            "needs_background": "light"
          }
        }
      ]
    },
    {
      "cell_type": "markdown",
      "metadata": {
        "id": "ZpP-4JOapS7p",
        "colab_type": "text"
      },
      "source": [
        "# VIN Model\n",
        "![VIN](https://static.wixstatic.com/media/c859a6_1a14ee4056084072b103984bea14b7bf~mv2.jpg/v1/fill/w_626,h_418/c859a6_1a14ee4056084072b103984bea14b7bf~mv2.jpg)"
      ]
    },
    {
      "cell_type": "markdown",
      "metadata": {
        "id": "IKLAY-3FydX-",
        "colab_type": "text"
      },
      "source": [
        "## Features"
      ]
    },
    {
      "cell_type": "code",
      "metadata": {
        "colab_type": "code",
        "id": "9QZAe9-DvQWy",
        "colab": {}
      },
      "source": [
        "X = df.copy()\n",
        "y = X['Price']\n",
        "X['Age'] = 2017 - X.Year\n",
        "X['State'] = X.State.str.upper()"
      ],
      "execution_count": 0,
      "outputs": []
    },
    {
      "cell_type": "code",
      "metadata": {
        "id": "NgSSufbEvUPZ",
        "colab_type": "code",
        "colab": {
          "base_uri": "https://localhost:8080/",
          "height": 258
        },
        "outputId": "97ae6d08-5552-4e7f-a0fc-b0b8f170ef48"
      },
      "source": [
        "X['Serial'] = X.Vin.str[-6:]\n",
        "X['Location'] = X.Vin.str[0:1]\n",
        "X['Manufacturer'] = X.Vin.str[1:2]\n",
        "X['VehicleType'] = X.Vin.str[2:3]\n",
        "X['Description'] = X.Vin.str[4:9]\n",
        "X.head()"
      ],
      "execution_count": 280,
      "outputs": [
        {
          "output_type": "execute_result",
          "data": {
            "text/html": [
              "<div>\n",
              "<style scoped>\n",
              "    .dataframe tbody tr th:only-of-type {\n",
              "        vertical-align: middle;\n",
              "    }\n",
              "\n",
              "    .dataframe tbody tr th {\n",
              "        vertical-align: top;\n",
              "    }\n",
              "\n",
              "    .dataframe thead th {\n",
              "        text-align: right;\n",
              "    }\n",
              "</style>\n",
              "<table border=\"1\" class=\"dataframe\">\n",
              "  <thead>\n",
              "    <tr style=\"text-align: right;\">\n",
              "      <th></th>\n",
              "      <th>Price</th>\n",
              "      <th>Year</th>\n",
              "      <th>Mileage</th>\n",
              "      <th>City</th>\n",
              "      <th>State</th>\n",
              "      <th>Vin</th>\n",
              "      <th>Make</th>\n",
              "      <th>Model</th>\n",
              "      <th>Age</th>\n",
              "      <th>Serial</th>\n",
              "      <th>Location</th>\n",
              "      <th>Manufacturer</th>\n",
              "      <th>VehicleType</th>\n",
              "      <th>Description</th>\n",
              "    </tr>\n",
              "  </thead>\n",
              "  <tbody>\n",
              "    <tr>\n",
              "      <th>0</th>\n",
              "      <td>8995</td>\n",
              "      <td>2014</td>\n",
              "      <td>35725</td>\n",
              "      <td>El Paso</td>\n",
              "      <td>TX</td>\n",
              "      <td>19VDE2E53EE000083</td>\n",
              "      <td>Acura</td>\n",
              "      <td>ILX6-Speed</td>\n",
              "      <td>3</td>\n",
              "      <td>000083</td>\n",
              "      <td>1</td>\n",
              "      <td>9</td>\n",
              "      <td>V</td>\n",
              "      <td>E2E53</td>\n",
              "    </tr>\n",
              "    <tr>\n",
              "      <th>1</th>\n",
              "      <td>10888</td>\n",
              "      <td>2013</td>\n",
              "      <td>19606</td>\n",
              "      <td>Long Island City</td>\n",
              "      <td>NY</td>\n",
              "      <td>19VDE1F52DE012636</td>\n",
              "      <td>Acura</td>\n",
              "      <td>ILX5-Speed</td>\n",
              "      <td>4</td>\n",
              "      <td>012636</td>\n",
              "      <td>1</td>\n",
              "      <td>9</td>\n",
              "      <td>V</td>\n",
              "      <td>E1F52</td>\n",
              "    </tr>\n",
              "    <tr>\n",
              "      <th>2</th>\n",
              "      <td>8995</td>\n",
              "      <td>2013</td>\n",
              "      <td>48851</td>\n",
              "      <td>El Paso</td>\n",
              "      <td>TX</td>\n",
              "      <td>19VDE2E52DE000025</td>\n",
              "      <td>Acura</td>\n",
              "      <td>ILX6-Speed</td>\n",
              "      <td>4</td>\n",
              "      <td>000025</td>\n",
              "      <td>1</td>\n",
              "      <td>9</td>\n",
              "      <td>V</td>\n",
              "      <td>E2E52</td>\n",
              "    </tr>\n",
              "    <tr>\n",
              "      <th>3</th>\n",
              "      <td>10999</td>\n",
              "      <td>2014</td>\n",
              "      <td>39922</td>\n",
              "      <td>Windsor</td>\n",
              "      <td>CO</td>\n",
              "      <td>19VDE1F71EE003817</td>\n",
              "      <td>Acura</td>\n",
              "      <td>ILX5-Speed</td>\n",
              "      <td>3</td>\n",
              "      <td>003817</td>\n",
              "      <td>1</td>\n",
              "      <td>9</td>\n",
              "      <td>V</td>\n",
              "      <td>E1F71</td>\n",
              "    </tr>\n",
              "    <tr>\n",
              "      <th>4</th>\n",
              "      <td>14799</td>\n",
              "      <td>2016</td>\n",
              "      <td>22142</td>\n",
              "      <td>Lindon</td>\n",
              "      <td>UT</td>\n",
              "      <td>19UDE2F32GA001284</td>\n",
              "      <td>Acura</td>\n",
              "      <td>ILXAutomatic</td>\n",
              "      <td>1</td>\n",
              "      <td>001284</td>\n",
              "      <td>1</td>\n",
              "      <td>9</td>\n",
              "      <td>U</td>\n",
              "      <td>E2F32</td>\n",
              "    </tr>\n",
              "  </tbody>\n",
              "</table>\n",
              "</div>"
            ],
            "text/plain": [
              "   Price  Year  Mileage  ... Manufacturer VehicleType Description\n",
              "0   8995  2014    35725  ...            9           V       E2E53\n",
              "1  10888  2013    19606  ...            9           V       E1F52\n",
              "2   8995  2013    48851  ...            9           V       E2E52\n",
              "3  10999  2014    39922  ...            9           V       E1F71\n",
              "4  14799  2016    22142  ...            9           U       E2F32\n",
              "\n",
              "[5 rows x 14 columns]"
            ]
          },
          "metadata": {
            "tags": []
          },
          "execution_count": 280
        }
      ]
    },
    {
      "cell_type": "code",
      "metadata": {
        "colab_type": "code",
        "id": "Xlc6i0davQW5",
        "colab": {}
      },
      "source": [
        "X = pd.concat([X, pd.get_dummies(X.Make, prefix='Make')], axis=1)\n",
        "X = pd.concat([X, pd.get_dummies(X.State, prefix='State')], axis=1)\n",
        "X = pd.concat([X, pd.get_dummies(X.Location, prefix='Location')], axis=1)\n",
        "X = pd.concat([X, pd.get_dummies(X.Manufacturer, prefix='Manufacturer')], axis=1)\n",
        "X = pd.concat([X, pd.get_dummies(X.VehicleType, prefix='VehicleType')], axis=1)"
      ],
      "execution_count": 0,
      "outputs": []
    },
    {
      "cell_type": "code",
      "metadata": {
        "colab_type": "code",
        "id": "AuUsk1wvvQW9",
        "colab": {}
      },
      "source": [
        "X = X.drop('Price', axis=1)\n",
        "X = X.drop('Vin', axis=1)\n",
        "X = X.drop('Serial', axis=1)\n",
        "X = X.drop('Location', axis=1)\n",
        "X = X.drop('Manufacturer', axis=1)\n",
        "X = X.drop('VehicleType', axis=1)\n",
        "X = X.drop('Description', axis=1)\n",
        "X = X.drop('Make', axis=1)\n",
        "X = X.drop('Model', axis=1)\n",
        "X = X.drop('State', axis=1)\n",
        "X = X.drop('City', axis=1)"
      ],
      "execution_count": 0,
      "outputs": []
    },
    {
      "cell_type": "code",
      "metadata": {
        "id": "J9QXI6G9FJ79",
        "colab_type": "code",
        "colab": {
          "base_uri": "https://localhost:8080/",
          "height": 253
        },
        "outputId": "cc672f1b-912a-4c7b-aed8-ae889a970f85"
      },
      "source": [
        "X.head()"
      ],
      "execution_count": 283,
      "outputs": [
        {
          "output_type": "execute_result",
          "data": {
            "text/html": [
              "<div>\n",
              "<style scoped>\n",
              "    .dataframe tbody tr th:only-of-type {\n",
              "        vertical-align: middle;\n",
              "    }\n",
              "\n",
              "    .dataframe tbody tr th {\n",
              "        vertical-align: top;\n",
              "    }\n",
              "\n",
              "    .dataframe thead th {\n",
              "        text-align: right;\n",
              "    }\n",
              "</style>\n",
              "<table border=\"1\" class=\"dataframe\">\n",
              "  <thead>\n",
              "    <tr style=\"text-align: right;\">\n",
              "      <th></th>\n",
              "      <th>Year</th>\n",
              "      <th>Mileage</th>\n",
              "      <th>Age</th>\n",
              "      <th>Make_AM</th>\n",
              "      <th>Make_Acura</th>\n",
              "      <th>Make_Alfa</th>\n",
              "      <th>Make_Aston</th>\n",
              "      <th>Make_Audi</th>\n",
              "      <th>Make_BMW</th>\n",
              "      <th>Make_Bentley</th>\n",
              "      <th>Make_Buick</th>\n",
              "      <th>Make_Cadillac</th>\n",
              "      <th>Make_Chevrolet</th>\n",
              "      <th>Make_Chrysler</th>\n",
              "      <th>Make_Dodge</th>\n",
              "      <th>Make_FIAT</th>\n",
              "      <th>Make_Ferrari</th>\n",
              "      <th>Make_Fisker</th>\n",
              "      <th>Make_Ford</th>\n",
              "      <th>Make_Freightliner</th>\n",
              "      <th>Make_GMC</th>\n",
              "      <th>Make_Genesis</th>\n",
              "      <th>Make_Geo</th>\n",
              "      <th>Make_HUMMER</th>\n",
              "      <th>Make_Honda</th>\n",
              "      <th>Make_Hyundai</th>\n",
              "      <th>Make_INFINITI</th>\n",
              "      <th>Make_Isuzu</th>\n",
              "      <th>Make_Jaguar</th>\n",
              "      <th>Make_Jeep</th>\n",
              "      <th>Make_Kia</th>\n",
              "      <th>Make_Lamborghini</th>\n",
              "      <th>Make_Land</th>\n",
              "      <th>Make_Lexus</th>\n",
              "      <th>Make_Lincoln</th>\n",
              "      <th>Make_Lotus</th>\n",
              "      <th>Make_MINI</th>\n",
              "      <th>Make_Maserati</th>\n",
              "      <th>Make_Maybach</th>\n",
              "      <th>Make_Mazda</th>\n",
              "      <th>...</th>\n",
              "      <th>Manufacturer_T</th>\n",
              "      <th>Manufacturer_U</th>\n",
              "      <th>Manufacturer_V</th>\n",
              "      <th>Manufacturer_X</th>\n",
              "      <th>Manufacturer_Y</th>\n",
              "      <th>Manufacturer_Z</th>\n",
              "      <th>VehicleType_</th>\n",
              "      <th>VehicleType_0</th>\n",
              "      <th>VehicleType_1</th>\n",
              "      <th>VehicleType_2</th>\n",
              "      <th>VehicleType_3</th>\n",
              "      <th>VehicleType_4</th>\n",
              "      <th>VehicleType_5</th>\n",
              "      <th>VehicleType_6</th>\n",
              "      <th>VehicleType_7</th>\n",
              "      <th>VehicleType_8</th>\n",
              "      <th>VehicleType_9</th>\n",
              "      <th>VehicleType_A</th>\n",
              "      <th>VehicleType_B</th>\n",
              "      <th>VehicleType_C</th>\n",
              "      <th>VehicleType_D</th>\n",
              "      <th>VehicleType_E</th>\n",
              "      <th>VehicleType_F</th>\n",
              "      <th>VehicleType_G</th>\n",
              "      <th>VehicleType_H</th>\n",
              "      <th>VehicleType_J</th>\n",
              "      <th>VehicleType_K</th>\n",
              "      <th>VehicleType_L</th>\n",
              "      <th>VehicleType_M</th>\n",
              "      <th>VehicleType_N</th>\n",
              "      <th>VehicleType_P</th>\n",
              "      <th>VehicleType_R</th>\n",
              "      <th>VehicleType_S</th>\n",
              "      <th>VehicleType_T</th>\n",
              "      <th>VehicleType_U</th>\n",
              "      <th>VehicleType_V</th>\n",
              "      <th>VehicleType_W</th>\n",
              "      <th>VehicleType_X</th>\n",
              "      <th>VehicleType_Y</th>\n",
              "      <th>VehicleType_Z</th>\n",
              "    </tr>\n",
              "  </thead>\n",
              "  <tbody>\n",
              "    <tr>\n",
              "      <th>0</th>\n",
              "      <td>2014</td>\n",
              "      <td>35725</td>\n",
              "      <td>3</td>\n",
              "      <td>0</td>\n",
              "      <td>1</td>\n",
              "      <td>0</td>\n",
              "      <td>0</td>\n",
              "      <td>0</td>\n",
              "      <td>0</td>\n",
              "      <td>0</td>\n",
              "      <td>0</td>\n",
              "      <td>0</td>\n",
              "      <td>0</td>\n",
              "      <td>0</td>\n",
              "      <td>0</td>\n",
              "      <td>0</td>\n",
              "      <td>0</td>\n",
              "      <td>0</td>\n",
              "      <td>0</td>\n",
              "      <td>0</td>\n",
              "      <td>0</td>\n",
              "      <td>0</td>\n",
              "      <td>0</td>\n",
              "      <td>0</td>\n",
              "      <td>0</td>\n",
              "      <td>0</td>\n",
              "      <td>0</td>\n",
              "      <td>0</td>\n",
              "      <td>0</td>\n",
              "      <td>0</td>\n",
              "      <td>0</td>\n",
              "      <td>0</td>\n",
              "      <td>0</td>\n",
              "      <td>0</td>\n",
              "      <td>0</td>\n",
              "      <td>0</td>\n",
              "      <td>0</td>\n",
              "      <td>0</td>\n",
              "      <td>0</td>\n",
              "      <td>0</td>\n",
              "      <td>...</td>\n",
              "      <td>0</td>\n",
              "      <td>0</td>\n",
              "      <td>0</td>\n",
              "      <td>0</td>\n",
              "      <td>0</td>\n",
              "      <td>0</td>\n",
              "      <td>0</td>\n",
              "      <td>0</td>\n",
              "      <td>0</td>\n",
              "      <td>0</td>\n",
              "      <td>0</td>\n",
              "      <td>0</td>\n",
              "      <td>0</td>\n",
              "      <td>0</td>\n",
              "      <td>0</td>\n",
              "      <td>0</td>\n",
              "      <td>0</td>\n",
              "      <td>0</td>\n",
              "      <td>0</td>\n",
              "      <td>0</td>\n",
              "      <td>0</td>\n",
              "      <td>0</td>\n",
              "      <td>0</td>\n",
              "      <td>0</td>\n",
              "      <td>0</td>\n",
              "      <td>0</td>\n",
              "      <td>0</td>\n",
              "      <td>0</td>\n",
              "      <td>0</td>\n",
              "      <td>0</td>\n",
              "      <td>0</td>\n",
              "      <td>0</td>\n",
              "      <td>0</td>\n",
              "      <td>0</td>\n",
              "      <td>0</td>\n",
              "      <td>1</td>\n",
              "      <td>0</td>\n",
              "      <td>0</td>\n",
              "      <td>0</td>\n",
              "      <td>0</td>\n",
              "    </tr>\n",
              "    <tr>\n",
              "      <th>1</th>\n",
              "      <td>2013</td>\n",
              "      <td>19606</td>\n",
              "      <td>4</td>\n",
              "      <td>0</td>\n",
              "      <td>1</td>\n",
              "      <td>0</td>\n",
              "      <td>0</td>\n",
              "      <td>0</td>\n",
              "      <td>0</td>\n",
              "      <td>0</td>\n",
              "      <td>0</td>\n",
              "      <td>0</td>\n",
              "      <td>0</td>\n",
              "      <td>0</td>\n",
              "      <td>0</td>\n",
              "      <td>0</td>\n",
              "      <td>0</td>\n",
              "      <td>0</td>\n",
              "      <td>0</td>\n",
              "      <td>0</td>\n",
              "      <td>0</td>\n",
              "      <td>0</td>\n",
              "      <td>0</td>\n",
              "      <td>0</td>\n",
              "      <td>0</td>\n",
              "      <td>0</td>\n",
              "      <td>0</td>\n",
              "      <td>0</td>\n",
              "      <td>0</td>\n",
              "      <td>0</td>\n",
              "      <td>0</td>\n",
              "      <td>0</td>\n",
              "      <td>0</td>\n",
              "      <td>0</td>\n",
              "      <td>0</td>\n",
              "      <td>0</td>\n",
              "      <td>0</td>\n",
              "      <td>0</td>\n",
              "      <td>0</td>\n",
              "      <td>0</td>\n",
              "      <td>...</td>\n",
              "      <td>0</td>\n",
              "      <td>0</td>\n",
              "      <td>0</td>\n",
              "      <td>0</td>\n",
              "      <td>0</td>\n",
              "      <td>0</td>\n",
              "      <td>0</td>\n",
              "      <td>0</td>\n",
              "      <td>0</td>\n",
              "      <td>0</td>\n",
              "      <td>0</td>\n",
              "      <td>0</td>\n",
              "      <td>0</td>\n",
              "      <td>0</td>\n",
              "      <td>0</td>\n",
              "      <td>0</td>\n",
              "      <td>0</td>\n",
              "      <td>0</td>\n",
              "      <td>0</td>\n",
              "      <td>0</td>\n",
              "      <td>0</td>\n",
              "      <td>0</td>\n",
              "      <td>0</td>\n",
              "      <td>0</td>\n",
              "      <td>0</td>\n",
              "      <td>0</td>\n",
              "      <td>0</td>\n",
              "      <td>0</td>\n",
              "      <td>0</td>\n",
              "      <td>0</td>\n",
              "      <td>0</td>\n",
              "      <td>0</td>\n",
              "      <td>0</td>\n",
              "      <td>0</td>\n",
              "      <td>0</td>\n",
              "      <td>1</td>\n",
              "      <td>0</td>\n",
              "      <td>0</td>\n",
              "      <td>0</td>\n",
              "      <td>0</td>\n",
              "    </tr>\n",
              "    <tr>\n",
              "      <th>2</th>\n",
              "      <td>2013</td>\n",
              "      <td>48851</td>\n",
              "      <td>4</td>\n",
              "      <td>0</td>\n",
              "      <td>1</td>\n",
              "      <td>0</td>\n",
              "      <td>0</td>\n",
              "      <td>0</td>\n",
              "      <td>0</td>\n",
              "      <td>0</td>\n",
              "      <td>0</td>\n",
              "      <td>0</td>\n",
              "      <td>0</td>\n",
              "      <td>0</td>\n",
              "      <td>0</td>\n",
              "      <td>0</td>\n",
              "      <td>0</td>\n",
              "      <td>0</td>\n",
              "      <td>0</td>\n",
              "      <td>0</td>\n",
              "      <td>0</td>\n",
              "      <td>0</td>\n",
              "      <td>0</td>\n",
              "      <td>0</td>\n",
              "      <td>0</td>\n",
              "      <td>0</td>\n",
              "      <td>0</td>\n",
              "      <td>0</td>\n",
              "      <td>0</td>\n",
              "      <td>0</td>\n",
              "      <td>0</td>\n",
              "      <td>0</td>\n",
              "      <td>0</td>\n",
              "      <td>0</td>\n",
              "      <td>0</td>\n",
              "      <td>0</td>\n",
              "      <td>0</td>\n",
              "      <td>0</td>\n",
              "      <td>0</td>\n",
              "      <td>0</td>\n",
              "      <td>...</td>\n",
              "      <td>0</td>\n",
              "      <td>0</td>\n",
              "      <td>0</td>\n",
              "      <td>0</td>\n",
              "      <td>0</td>\n",
              "      <td>0</td>\n",
              "      <td>0</td>\n",
              "      <td>0</td>\n",
              "      <td>0</td>\n",
              "      <td>0</td>\n",
              "      <td>0</td>\n",
              "      <td>0</td>\n",
              "      <td>0</td>\n",
              "      <td>0</td>\n",
              "      <td>0</td>\n",
              "      <td>0</td>\n",
              "      <td>0</td>\n",
              "      <td>0</td>\n",
              "      <td>0</td>\n",
              "      <td>0</td>\n",
              "      <td>0</td>\n",
              "      <td>0</td>\n",
              "      <td>0</td>\n",
              "      <td>0</td>\n",
              "      <td>0</td>\n",
              "      <td>0</td>\n",
              "      <td>0</td>\n",
              "      <td>0</td>\n",
              "      <td>0</td>\n",
              "      <td>0</td>\n",
              "      <td>0</td>\n",
              "      <td>0</td>\n",
              "      <td>0</td>\n",
              "      <td>0</td>\n",
              "      <td>0</td>\n",
              "      <td>1</td>\n",
              "      <td>0</td>\n",
              "      <td>0</td>\n",
              "      <td>0</td>\n",
              "      <td>0</td>\n",
              "    </tr>\n",
              "    <tr>\n",
              "      <th>3</th>\n",
              "      <td>2014</td>\n",
              "      <td>39922</td>\n",
              "      <td>3</td>\n",
              "      <td>0</td>\n",
              "      <td>1</td>\n",
              "      <td>0</td>\n",
              "      <td>0</td>\n",
              "      <td>0</td>\n",
              "      <td>0</td>\n",
              "      <td>0</td>\n",
              "      <td>0</td>\n",
              "      <td>0</td>\n",
              "      <td>0</td>\n",
              "      <td>0</td>\n",
              "      <td>0</td>\n",
              "      <td>0</td>\n",
              "      <td>0</td>\n",
              "      <td>0</td>\n",
              "      <td>0</td>\n",
              "      <td>0</td>\n",
              "      <td>0</td>\n",
              "      <td>0</td>\n",
              "      <td>0</td>\n",
              "      <td>0</td>\n",
              "      <td>0</td>\n",
              "      <td>0</td>\n",
              "      <td>0</td>\n",
              "      <td>0</td>\n",
              "      <td>0</td>\n",
              "      <td>0</td>\n",
              "      <td>0</td>\n",
              "      <td>0</td>\n",
              "      <td>0</td>\n",
              "      <td>0</td>\n",
              "      <td>0</td>\n",
              "      <td>0</td>\n",
              "      <td>0</td>\n",
              "      <td>0</td>\n",
              "      <td>0</td>\n",
              "      <td>0</td>\n",
              "      <td>...</td>\n",
              "      <td>0</td>\n",
              "      <td>0</td>\n",
              "      <td>0</td>\n",
              "      <td>0</td>\n",
              "      <td>0</td>\n",
              "      <td>0</td>\n",
              "      <td>0</td>\n",
              "      <td>0</td>\n",
              "      <td>0</td>\n",
              "      <td>0</td>\n",
              "      <td>0</td>\n",
              "      <td>0</td>\n",
              "      <td>0</td>\n",
              "      <td>0</td>\n",
              "      <td>0</td>\n",
              "      <td>0</td>\n",
              "      <td>0</td>\n",
              "      <td>0</td>\n",
              "      <td>0</td>\n",
              "      <td>0</td>\n",
              "      <td>0</td>\n",
              "      <td>0</td>\n",
              "      <td>0</td>\n",
              "      <td>0</td>\n",
              "      <td>0</td>\n",
              "      <td>0</td>\n",
              "      <td>0</td>\n",
              "      <td>0</td>\n",
              "      <td>0</td>\n",
              "      <td>0</td>\n",
              "      <td>0</td>\n",
              "      <td>0</td>\n",
              "      <td>0</td>\n",
              "      <td>0</td>\n",
              "      <td>0</td>\n",
              "      <td>1</td>\n",
              "      <td>0</td>\n",
              "      <td>0</td>\n",
              "      <td>0</td>\n",
              "      <td>0</td>\n",
              "    </tr>\n",
              "    <tr>\n",
              "      <th>4</th>\n",
              "      <td>2016</td>\n",
              "      <td>22142</td>\n",
              "      <td>1</td>\n",
              "      <td>0</td>\n",
              "      <td>1</td>\n",
              "      <td>0</td>\n",
              "      <td>0</td>\n",
              "      <td>0</td>\n",
              "      <td>0</td>\n",
              "      <td>0</td>\n",
              "      <td>0</td>\n",
              "      <td>0</td>\n",
              "      <td>0</td>\n",
              "      <td>0</td>\n",
              "      <td>0</td>\n",
              "      <td>0</td>\n",
              "      <td>0</td>\n",
              "      <td>0</td>\n",
              "      <td>0</td>\n",
              "      <td>0</td>\n",
              "      <td>0</td>\n",
              "      <td>0</td>\n",
              "      <td>0</td>\n",
              "      <td>0</td>\n",
              "      <td>0</td>\n",
              "      <td>0</td>\n",
              "      <td>0</td>\n",
              "      <td>0</td>\n",
              "      <td>0</td>\n",
              "      <td>0</td>\n",
              "      <td>0</td>\n",
              "      <td>0</td>\n",
              "      <td>0</td>\n",
              "      <td>0</td>\n",
              "      <td>0</td>\n",
              "      <td>0</td>\n",
              "      <td>0</td>\n",
              "      <td>0</td>\n",
              "      <td>0</td>\n",
              "      <td>0</td>\n",
              "      <td>...</td>\n",
              "      <td>0</td>\n",
              "      <td>0</td>\n",
              "      <td>0</td>\n",
              "      <td>0</td>\n",
              "      <td>0</td>\n",
              "      <td>0</td>\n",
              "      <td>0</td>\n",
              "      <td>0</td>\n",
              "      <td>0</td>\n",
              "      <td>0</td>\n",
              "      <td>0</td>\n",
              "      <td>0</td>\n",
              "      <td>0</td>\n",
              "      <td>0</td>\n",
              "      <td>0</td>\n",
              "      <td>0</td>\n",
              "      <td>0</td>\n",
              "      <td>0</td>\n",
              "      <td>0</td>\n",
              "      <td>0</td>\n",
              "      <td>0</td>\n",
              "      <td>0</td>\n",
              "      <td>0</td>\n",
              "      <td>0</td>\n",
              "      <td>0</td>\n",
              "      <td>0</td>\n",
              "      <td>0</td>\n",
              "      <td>0</td>\n",
              "      <td>0</td>\n",
              "      <td>0</td>\n",
              "      <td>0</td>\n",
              "      <td>0</td>\n",
              "      <td>0</td>\n",
              "      <td>0</td>\n",
              "      <td>1</td>\n",
              "      <td>0</td>\n",
              "      <td>0</td>\n",
              "      <td>0</td>\n",
              "      <td>0</td>\n",
              "      <td>0</td>\n",
              "    </tr>\n",
              "  </tbody>\n",
              "</table>\n",
              "<p>5 rows × 198 columns</p>\n",
              "</div>"
            ],
            "text/plain": [
              "   Year  Mileage  Age  ...  VehicleType_X  VehicleType_Y  VehicleType_Z\n",
              "0  2014    35725    3  ...              0              0              0\n",
              "1  2013    19606    4  ...              0              0              0\n",
              "2  2013    48851    4  ...              0              0              0\n",
              "3  2014    39922    3  ...              0              0              0\n",
              "4  2016    22142    1  ...              0              0              0\n",
              "\n",
              "[5 rows x 198 columns]"
            ]
          },
          "metadata": {
            "tags": []
          },
          "execution_count": 283
        }
      ]
    },
    {
      "cell_type": "code",
      "metadata": {
        "id": "1AcsxKeexnGj",
        "colab_type": "code",
        "colab": {
          "base_uri": "https://localhost:8080/",
          "height": 34
        },
        "outputId": "8830e1f9-01f4-43f1-ce81-8ac87d006ade"
      },
      "source": [
        "X.shape"
      ],
      "execution_count": 284,
      "outputs": [
        {
          "output_type": "execute_result",
          "data": {
            "text/plain": [
              "(852122, 198)"
            ]
          },
          "metadata": {
            "tags": []
          },
          "execution_count": 284
        }
      ]
    },
    {
      "cell_type": "markdown",
      "metadata": {
        "id": "K25Tjdi8yf2v",
        "colab_type": "text"
      },
      "source": [
        "## Train / Test"
      ]
    },
    {
      "cell_type": "code",
      "metadata": {
        "id": "0mFr1Abryhxe",
        "colab_type": "code",
        "colab": {}
      },
      "source": [
        "X_train, X_test, y_train, y_test = train_test_split(X, y, train_size=0.9, random_state=8877)\n",
        "input_shape = (X.shape[1], )"
      ],
      "execution_count": 0,
      "outputs": []
    },
    {
      "cell_type": "markdown",
      "metadata": {
        "id": "qRAyI5W0xpqh",
        "colab_type": "text"
      },
      "source": [
        "## Model"
      ]
    },
    {
      "cell_type": "code",
      "metadata": {
        "id": "3h9MSP5Exp9s",
        "colab_type": "code",
        "colab": {}
      },
      "source": [
        "model = Sequential()\n",
        "model.add(Dense(256, activation='relu', input_shape=input_shape))\n",
        "model.add(Dropout(0.2))\n",
        "model.add(Dense(128, activation='relu'))\n",
        "model.add(Dropout(0.2))\n",
        "model.add(Dense(64, activation='relu'))\n",
        "model.add(Dropout(0.2))\n",
        "model.add(Dense(1, activation='linear'))"
      ],
      "execution_count": 0,
      "outputs": []
    },
    {
      "cell_type": "code",
      "metadata": {
        "colab_type": "code",
        "outputId": "352ffc4b-a302-4418-be48-1fc8f250997d",
        "id": "UdL1yDkgyMaT",
        "colab": {
          "base_uri": "https://localhost:8080/",
          "height": 391
        }
      },
      "source": [
        "model.summary()"
      ],
      "execution_count": 287,
      "outputs": [
        {
          "output_type": "stream",
          "text": [
            "Model: \"sequential_8\"\n",
            "_________________________________________________________________\n",
            "Layer (type)                 Output Shape              Param #   \n",
            "=================================================================\n",
            "dense_69 (Dense)             (None, 256)               50944     \n",
            "_________________________________________________________________\n",
            "dropout_50 (Dropout)         (None, 256)               0         \n",
            "_________________________________________________________________\n",
            "dense_70 (Dense)             (None, 128)               32896     \n",
            "_________________________________________________________________\n",
            "dropout_51 (Dropout)         (None, 128)               0         \n",
            "_________________________________________________________________\n",
            "dense_71 (Dense)             (None, 64)                8256      \n",
            "_________________________________________________________________\n",
            "dropout_52 (Dropout)         (None, 64)                0         \n",
            "_________________________________________________________________\n",
            "dense_72 (Dense)             (None, 1)                 65        \n",
            "=================================================================\n",
            "Total params: 92,161\n",
            "Trainable params: 92,161\n",
            "Non-trainable params: 0\n",
            "_________________________________________________________________\n"
          ],
          "name": "stdout"
        }
      ]
    },
    {
      "cell_type": "code",
      "metadata": {
        "colab_type": "code",
        "id": "DY5HS4OMyMaa",
        "colab": {}
      },
      "source": [
        "model.compile(loss='mean_squared_error',\n",
        "              optimizer=Adam(lr=3e-4),\n",
        "              metrics=['mae', 'mse'])"
      ],
      "execution_count": 0,
      "outputs": []
    },
    {
      "cell_type": "markdown",
      "metadata": {
        "id": "GCSS41J-xqkj",
        "colab_type": "text"
      },
      "source": [
        "## Train"
      ]
    },
    {
      "cell_type": "code",
      "metadata": {
        "id": "69q-uh30xq8y",
        "colab_type": "code",
        "colab": {
          "base_uri": "https://localhost:8080/",
          "height": 1000
        },
        "outputId": "ff653c23-d00f-4d92-beed-3eb2bccb5b35"
      },
      "source": [
        "history_vin = model.fit(X_train, y_train,\n",
        "                             batch_size=batch_size,\n",
        "                             epochs=epochs,\n",
        "                             validation_split=0.1)"
      ],
      "execution_count": 289,
      "outputs": [
        {
          "output_type": "stream",
          "text": [
            "Epoch 1/50\n",
            "675/675 [==============================] - 3s 4ms/step - loss: 228417344.0000 - mae: 10030.2314 - mse: 228417344.0000 - val_loss: 154910096.0000 - val_mae: 7905.2905 - val_mse: 154910096.0000\n",
            "Epoch 2/50\n",
            "675/675 [==============================] - 3s 4ms/step - loss: 155428752.0000 - mae: 8042.2295 - mse: 155428752.0000 - val_loss: 147938464.0000 - val_mae: 7692.1816 - val_mse: 147938464.0000\n",
            "Epoch 3/50\n",
            "675/675 [==============================] - 2s 4ms/step - loss: 153350944.0000 - mae: 7956.3867 - mse: 153350944.0000 - val_loss: 147059376.0000 - val_mae: 7633.5117 - val_mse: 147059376.0000\n",
            "Epoch 4/50\n",
            "675/675 [==============================] - 2s 4ms/step - loss: 152015760.0000 - mae: 7907.4839 - mse: 152015760.0000 - val_loss: 145986448.0000 - val_mae: 7670.1846 - val_mse: 145986448.0000\n",
            "Epoch 5/50\n",
            "675/675 [==============================] - 2s 4ms/step - loss: 150752176.0000 - mae: 7866.2749 - mse: 150752176.0000 - val_loss: 145025152.0000 - val_mae: 7561.0205 - val_mse: 145025152.0000\n",
            "Epoch 6/50\n",
            "675/675 [==============================] - 2s 4ms/step - loss: 149774320.0000 - mae: 7822.4292 - mse: 149774320.0000 - val_loss: 144672368.0000 - val_mae: 7446.1030 - val_mse: 144672368.0000\n",
            "Epoch 7/50\n",
            "675/675 [==============================] - 2s 4ms/step - loss: 147769104.0000 - mae: 7745.2749 - mse: 147769104.0000 - val_loss: 141373600.0000 - val_mae: 7431.9004 - val_mse: 141373600.0000\n",
            "Epoch 8/50\n",
            "675/675 [==============================] - 2s 4ms/step - loss: 143760432.0000 - mae: 7575.9365 - mse: 143760432.0000 - val_loss: 137313280.0000 - val_mae: 6953.2876 - val_mse: 137313280.0000\n",
            "Epoch 9/50\n",
            "675/675 [==============================] - 2s 4ms/step - loss: 132893488.0000 - mae: 7075.9976 - mse: 132893488.0000 - val_loss: 127041280.0000 - val_mae: 6522.3350 - val_mse: 127041280.0000\n",
            "Epoch 10/50\n",
            "675/675 [==============================] - 2s 4ms/step - loss: 119302728.0000 - mae: 6485.5986 - mse: 119302728.0000 - val_loss: 112708752.0000 - val_mae: 5941.9878 - val_mse: 112708752.0000\n",
            "Epoch 11/50\n",
            "675/675 [==============================] - 2s 4ms/step - loss: 113266672.0000 - mae: 6247.3750 - mse: 113266672.0000 - val_loss: 104830728.0000 - val_mae: 5697.7573 - val_mse: 104830728.0000\n",
            "Epoch 12/50\n",
            "675/675 [==============================] - 2s 4ms/step - loss: 110116400.0000 - mae: 6131.7085 - mse: 110116400.0000 - val_loss: 105592752.0000 - val_mae: 5667.2456 - val_mse: 105592752.0000\n",
            "Epoch 13/50\n",
            "675/675 [==============================] - 2s 4ms/step - loss: 107470384.0000 - mae: 6035.8721 - mse: 107470384.0000 - val_loss: 100124560.0000 - val_mae: 5708.1484 - val_mse: 100124560.0000\n",
            "Epoch 14/50\n",
            "675/675 [==============================] - 2s 4ms/step - loss: 105912872.0000 - mae: 5984.5010 - mse: 105912872.0000 - val_loss: 108962808.0000 - val_mae: 5871.6299 - val_mse: 108962808.0000\n",
            "Epoch 15/50\n",
            "675/675 [==============================] - 2s 4ms/step - loss: 104261896.0000 - mae: 5935.2017 - mse: 104261896.0000 - val_loss: 109026368.0000 - val_mae: 5849.4492 - val_mse: 109026368.0000\n",
            "Epoch 16/50\n",
            "675/675 [==============================] - 2s 4ms/step - loss: 102404808.0000 - mae: 5864.6201 - mse: 102404808.0000 - val_loss: 95248480.0000 - val_mae: 5510.1401 - val_mse: 95248480.0000\n",
            "Epoch 17/50\n",
            "675/675 [==============================] - 3s 4ms/step - loss: 101055880.0000 - mae: 5830.0278 - mse: 101055880.0000 - val_loss: 128668208.0000 - val_mae: 6940.7451 - val_mse: 128668208.0000\n",
            "Epoch 18/50\n",
            "675/675 [==============================] - 2s 4ms/step - loss: 100063424.0000 - mae: 5823.4893 - mse: 100063424.0000 - val_loss: 116962896.0000 - val_mae: 6455.9404 - val_mse: 116962896.0000\n",
            "Epoch 19/50\n",
            "675/675 [==============================] - 2s 4ms/step - loss: 98725832.0000 - mae: 5778.3604 - mse: 98725832.0000 - val_loss: 95785288.0000 - val_mae: 5464.1699 - val_mse: 95785288.0000\n",
            "Epoch 20/50\n",
            "675/675 [==============================] - 2s 4ms/step - loss: 98154864.0000 - mae: 5789.2163 - mse: 98154864.0000 - val_loss: 97821400.0000 - val_mae: 5555.4912 - val_mse: 97821400.0000\n",
            "Epoch 21/50\n",
            "675/675 [==============================] - 2s 4ms/step - loss: 96062744.0000 - mae: 5705.6826 - mse: 96062744.0000 - val_loss: 92109128.0000 - val_mae: 5736.2534 - val_mse: 92109128.0000\n",
            "Epoch 22/50\n",
            "675/675 [==============================] - 2s 4ms/step - loss: 95246544.0000 - mae: 5691.2080 - mse: 95246544.0000 - val_loss: 87883768.0000 - val_mae: 5409.7773 - val_mse: 87883768.0000\n",
            "Epoch 23/50\n",
            "675/675 [==============================] - 2s 4ms/step - loss: 95078872.0000 - mae: 5714.9536 - mse: 95078872.0000 - val_loss: 108295032.0000 - val_mae: 6160.5986 - val_mse: 108295032.0000\n",
            "Epoch 24/50\n",
            "675/675 [==============================] - 2s 4ms/step - loss: 93669344.0000 - mae: 5662.3491 - mse: 93669344.0000 - val_loss: 99162696.0000 - val_mae: 5603.8828 - val_mse: 99162696.0000\n",
            "Epoch 25/50\n",
            "675/675 [==============================] - 2s 4ms/step - loss: 93158280.0000 - mae: 5665.5635 - mse: 93158280.0000 - val_loss: 85063448.0000 - val_mae: 5076.5361 - val_mse: 85063448.0000\n",
            "Epoch 26/50\n",
            "675/675 [==============================] - 2s 4ms/step - loss: 92056328.0000 - mae: 5638.2305 - mse: 92056328.0000 - val_loss: 85012816.0000 - val_mae: 5467.7681 - val_mse: 85012816.0000\n",
            "Epoch 27/50\n",
            "675/675 [==============================] - 2s 4ms/step - loss: 91203664.0000 - mae: 5603.0376 - mse: 91203664.0000 - val_loss: 83378832.0000 - val_mae: 5133.8389 - val_mse: 83378832.0000\n",
            "Epoch 28/50\n",
            "675/675 [==============================] - 2s 4ms/step - loss: 90694176.0000 - mae: 5606.3540 - mse: 90694176.0000 - val_loss: 80997184.0000 - val_mae: 5053.2632 - val_mse: 80997184.0000\n",
            "Epoch 29/50\n",
            "675/675 [==============================] - 2s 4ms/step - loss: 90261800.0000 - mae: 5625.4038 - mse: 90261800.0000 - val_loss: 113838656.0000 - val_mae: 6506.0308 - val_mse: 113838656.0000\n",
            "Epoch 30/50\n",
            "675/675 [==============================] - 2s 4ms/step - loss: 91148624.0000 - mae: 5682.1279 - mse: 91148624.0000 - val_loss: 91736816.0000 - val_mae: 5559.2690 - val_mse: 91736816.0000\n",
            "Epoch 31/50\n",
            "675/675 [==============================] - 2s 4ms/step - loss: 90653328.0000 - mae: 5689.4341 - mse: 90653328.0000 - val_loss: 85593104.0000 - val_mae: 5732.8359 - val_mse: 85593104.0000\n",
            "Epoch 32/50\n",
            "675/675 [==============================] - 2s 4ms/step - loss: 88962608.0000 - mae: 5622.1836 - mse: 88962608.0000 - val_loss: 97275384.0000 - val_mae: 6561.9165 - val_mse: 97275384.0000\n",
            "Epoch 33/50\n",
            "675/675 [==============================] - 2s 4ms/step - loss: 87478560.0000 - mae: 5570.0713 - mse: 87478560.0000 - val_loss: 87964472.0000 - val_mae: 5338.5176 - val_mse: 87964472.0000\n",
            "Epoch 34/50\n",
            "675/675 [==============================] - 2s 4ms/step - loss: 88677360.0000 - mae: 5668.2168 - mse: 88677360.0000 - val_loss: 89620968.0000 - val_mae: 5513.5161 - val_mse: 89620968.0000\n",
            "Epoch 35/50\n",
            "675/675 [==============================] - 2s 4ms/step - loss: 87195024.0000 - mae: 5603.3262 - mse: 87195024.0000 - val_loss: 78526000.0000 - val_mae: 5204.0864 - val_mse: 78526000.0000\n",
            "Epoch 36/50\n",
            "675/675 [==============================] - 2s 4ms/step - loss: 85891256.0000 - mae: 5565.4800 - mse: 85891256.0000 - val_loss: 79900480.0000 - val_mae: 5019.0107 - val_mse: 79900480.0000\n",
            "Epoch 37/50\n",
            "675/675 [==============================] - 2s 4ms/step - loss: 91389752.0000 - mae: 5831.6646 - mse: 91389752.0000 - val_loss: 86245768.0000 - val_mae: 5387.7402 - val_mse: 86245768.0000\n",
            "Epoch 38/50\n",
            "675/675 [==============================] - 2s 4ms/step - loss: 89607360.0000 - mae: 5758.8188 - mse: 89607360.0000 - val_loss: 76129248.0000 - val_mae: 4982.9751 - val_mse: 76129248.0000\n",
            "Epoch 39/50\n",
            "675/675 [==============================] - 2s 4ms/step - loss: 84317712.0000 - mae: 5543.2129 - mse: 84317712.0000 - val_loss: 74903312.0000 - val_mae: 5135.3770 - val_mse: 74903312.0000\n",
            "Epoch 40/50\n",
            "675/675 [==============================] - 2s 4ms/step - loss: 86183656.0000 - mae: 5655.3857 - mse: 86183656.0000 - val_loss: 83369200.0000 - val_mae: 5310.5425 - val_mse: 83369200.0000\n",
            "Epoch 41/50\n",
            "675/675 [==============================] - 2s 4ms/step - loss: 84566304.0000 - mae: 5576.3564 - mse: 84566304.0000 - val_loss: 74060368.0000 - val_mae: 4898.6738 - val_mse: 74060368.0000\n",
            "Epoch 42/50\n",
            "675/675 [==============================] - 2s 4ms/step - loss: 85220824.0000 - mae: 5643.9014 - mse: 85220824.0000 - val_loss: 77497992.0000 - val_mae: 5060.9888 - val_mse: 77497992.0000\n",
            "Epoch 43/50\n",
            "675/675 [==============================] - 2s 4ms/step - loss: 84474424.0000 - mae: 5609.2368 - mse: 84474424.0000 - val_loss: 77132200.0000 - val_mae: 5021.2446 - val_mse: 77132200.0000\n",
            "Epoch 44/50\n",
            "675/675 [==============================] - 2s 4ms/step - loss: 82929384.0000 - mae: 5540.1416 - mse: 82929384.0000 - val_loss: 84751632.0000 - val_mae: 5382.0127 - val_mse: 84751632.0000\n",
            "Epoch 45/50\n",
            "675/675 [==============================] - 2s 4ms/step - loss: 81774024.0000 - mae: 5514.3110 - mse: 81774024.0000 - val_loss: 76126960.0000 - val_mae: 5411.2646 - val_mse: 76126960.0000\n",
            "Epoch 46/50\n",
            "675/675 [==============================] - 2s 4ms/step - loss: 82894432.0000 - mae: 5546.5684 - mse: 82894432.0000 - val_loss: 118537624.0000 - val_mae: 6926.8325 - val_mse: 118537624.0000\n",
            "Epoch 47/50\n",
            "675/675 [==============================] - 2s 4ms/step - loss: 89045112.0000 - mae: 5816.2744 - mse: 89045112.0000 - val_loss: 94412760.0000 - val_mae: 5901.6206 - val_mse: 94412760.0000\n",
            "Epoch 48/50\n",
            "675/675 [==============================] - 2s 4ms/step - loss: 86971368.0000 - mae: 5874.9976 - mse: 86971368.0000 - val_loss: 80164704.0000 - val_mae: 5849.7725 - val_mse: 80164704.0000\n",
            "Epoch 49/50\n",
            "675/675 [==============================] - 2s 4ms/step - loss: 84418000.0000 - mae: 5709.8037 - mse: 84418000.0000 - val_loss: 79318528.0000 - val_mae: 5903.2285 - val_mse: 79318528.0000\n",
            "Epoch 50/50\n",
            "675/675 [==============================] - 2s 4ms/step - loss: 82224472.0000 - mae: 5601.2500 - mse: 82224472.0000 - val_loss: 82767632.0000 - val_mae: 5353.4458 - val_mse: 82767632.0000\n"
          ],
          "name": "stdout"
        }
      ]
    },
    {
      "cell_type": "markdown",
      "metadata": {
        "id": "lx_aARKZxrcc",
        "colab_type": "text"
      },
      "source": [
        "## Test"
      ]
    },
    {
      "cell_type": "code",
      "metadata": {
        "id": "ccHLAGxRxrob",
        "colab_type": "code",
        "colab": {
          "base_uri": "https://localhost:8080/",
          "height": 51
        },
        "outputId": "ffc884d4-627c-40bf-9c55-d6c66c770605"
      },
      "source": [
        "pred = model.predict(X_test)\n",
        "mae  = mean_absolute_error(y_test, pred)\n",
        "mse  = mean_squared_error(y_test, pred)\n",
        "rmse = math.sqrt(mse)\n",
        "\n",
        "print(f'MAE  : {mae:,.2f}')\n",
        "print(f'RMSE : {rmse:,.2f}')\n",
        "\n",
        "results_df.loc['VIN'] = [mae, rmse]"
      ],
      "execution_count": 290,
      "outputs": [
        {
          "output_type": "stream",
          "text": [
            "MAE  : 5,300.68\n",
            "RMSE : 8,853.23\n"
          ],
          "name": "stdout"
        }
      ]
    },
    {
      "cell_type": "markdown",
      "metadata": {
        "id": "TbGvg2kAxryg",
        "colab_type": "text"
      },
      "source": [
        "## Plots"
      ]
    },
    {
      "cell_type": "code",
      "metadata": {
        "id": "9G9XwHOnxsGU",
        "colab_type": "code",
        "colab": {
          "base_uri": "https://localhost:8080/",
          "height": 621
        },
        "outputId": "ab0908a8-529b-4b0b-a61f-97b71c76c1a8"
      },
      "source": [
        "plot_performance(history_vin)"
      ],
      "execution_count": 291,
      "outputs": [
        {
          "output_type": "display_data",
          "data": {
            "image/png": "[encoded data removed]",
            "text/plain": [
              "<Figure size 864x720 with 2 Axes>"
            ]
          },
          "metadata": {
            "tags": [],
            "needs_background": "light"
          }
        }
      ]
    },
    {
      "cell_type": "markdown",
      "metadata": {
        "id": "o3tvFf7v9aQV",
        "colab_type": "text"
      },
      "source": [
        "# Target Encoding"
      ]
    },
    {
      "cell_type": "markdown",
      "metadata": {
        "id": "qkfNzBGX9eyb",
        "colab_type": "text"
      },
      "source": [
        "## Features"
      ]
    },
    {
      "cell_type": "code",
      "metadata": {
        "id": "a58Gi8499siP",
        "colab_type": "code",
        "colab": {}
      },
      "source": [
        "X = df.copy()\n",
        "y = X['Price']\n",
        "X['Age'] = 2017 - X.Year\n",
        "X['State'] = X.State.str.upper()"
      ],
      "execution_count": 0,
      "outputs": []
    },
    {
      "cell_type": "code",
      "metadata": {
        "id": "bfy_GRJh9ssl",
        "colab_type": "code",
        "colab": {}
      },
      "source": [
        "means_df = X.groupby('Model')['Price'].mean()\n",
        "means_df.reset_index()\n",
        "means_df.columns = ['Model', 'Price']\n",
        "X = pd.merge(X, means_df, left_on='Model', right_on='Model')\n",
        "X = df.rename(columns={'Price_x': 'Price', 'Price_y':'Model_Target'})"
      ],
      "execution_count": 0,
      "outputs": []
    },
    {
      "cell_type": "code",
      "metadata": {
        "id": "W8ulgH6151ag",
        "colab_type": "code",
        "colab": {
          "base_uri": "https://localhost:8080/",
          "height": 258
        },
        "outputId": "65fc8864-3d5e-43ff-89a7-0ea111fbcc48"
      },
      "source": [
        "X['Serial'] = X.Vin.str[-6:]\n",
        "X['Location'] = X.Vin.str[0:1]\n",
        "X['Manufacturer'] = X.Vin.str[1:2]\n",
        "X['VehicleType'] = X.Vin.str[2:3]\n",
        "X['Description'] = X.Vin.str[4:9]\n",
        "X.head()"
      ],
      "execution_count": 336,
      "outputs": [
        {
          "output_type": "execute_result",
          "data": {
            "text/html": [
              "<div>\n",
              "<style scoped>\n",
              "    .dataframe tbody tr th:only-of-type {\n",
              "        vertical-align: middle;\n",
              "    }\n",
              "\n",
              "    .dataframe tbody tr th {\n",
              "        vertical-align: top;\n",
              "    }\n",
              "\n",
              "    .dataframe thead th {\n",
              "        text-align: right;\n",
              "    }\n",
              "</style>\n",
              "<table border=\"1\" class=\"dataframe\">\n",
              "  <thead>\n",
              "    <tr style=\"text-align: right;\">\n",
              "      <th></th>\n",
              "      <th>Price</th>\n",
              "      <th>Year</th>\n",
              "      <th>Mileage</th>\n",
              "      <th>City</th>\n",
              "      <th>State</th>\n",
              "      <th>Vin</th>\n",
              "      <th>Make</th>\n",
              "      <th>Model</th>\n",
              "      <th>Serial</th>\n",
              "      <th>Location</th>\n",
              "      <th>Manufacturer</th>\n",
              "      <th>VehicleType</th>\n",
              "      <th>Description</th>\n",
              "    </tr>\n",
              "  </thead>\n",
              "  <tbody>\n",
              "    <tr>\n",
              "      <th>0</th>\n",
              "      <td>8995</td>\n",
              "      <td>2014</td>\n",
              "      <td>35725</td>\n",
              "      <td>El Paso</td>\n",
              "      <td>TX</td>\n",
              "      <td>19VDE2E53EE000083</td>\n",
              "      <td>Acura</td>\n",
              "      <td>ILX6-Speed</td>\n",
              "      <td>000083</td>\n",
              "      <td>1</td>\n",
              "      <td>9</td>\n",
              "      <td>V</td>\n",
              "      <td>E2E53</td>\n",
              "    </tr>\n",
              "    <tr>\n",
              "      <th>1</th>\n",
              "      <td>10888</td>\n",
              "      <td>2013</td>\n",
              "      <td>19606</td>\n",
              "      <td>Long Island City</td>\n",
              "      <td>NY</td>\n",
              "      <td>19VDE1F52DE012636</td>\n",
              "      <td>Acura</td>\n",
              "      <td>ILX5-Speed</td>\n",
              "      <td>012636</td>\n",
              "      <td>1</td>\n",
              "      <td>9</td>\n",
              "      <td>V</td>\n",
              "      <td>E1F52</td>\n",
              "    </tr>\n",
              "    <tr>\n",
              "      <th>2</th>\n",
              "      <td>8995</td>\n",
              "      <td>2013</td>\n",
              "      <td>48851</td>\n",
              "      <td>El Paso</td>\n",
              "      <td>TX</td>\n",
              "      <td>19VDE2E52DE000025</td>\n",
              "      <td>Acura</td>\n",
              "      <td>ILX6-Speed</td>\n",
              "      <td>000025</td>\n",
              "      <td>1</td>\n",
              "      <td>9</td>\n",
              "      <td>V</td>\n",
              "      <td>E2E52</td>\n",
              "    </tr>\n",
              "    <tr>\n",
              "      <th>3</th>\n",
              "      <td>10999</td>\n",
              "      <td>2014</td>\n",
              "      <td>39922</td>\n",
              "      <td>Windsor</td>\n",
              "      <td>CO</td>\n",
              "      <td>19VDE1F71EE003817</td>\n",
              "      <td>Acura</td>\n",
              "      <td>ILX5-Speed</td>\n",
              "      <td>003817</td>\n",
              "      <td>1</td>\n",
              "      <td>9</td>\n",
              "      <td>V</td>\n",
              "      <td>E1F71</td>\n",
              "    </tr>\n",
              "    <tr>\n",
              "      <th>4</th>\n",
              "      <td>14799</td>\n",
              "      <td>2016</td>\n",
              "      <td>22142</td>\n",
              "      <td>Lindon</td>\n",
              "      <td>UT</td>\n",
              "      <td>19UDE2F32GA001284</td>\n",
              "      <td>Acura</td>\n",
              "      <td>ILXAutomatic</td>\n",
              "      <td>001284</td>\n",
              "      <td>1</td>\n",
              "      <td>9</td>\n",
              "      <td>U</td>\n",
              "      <td>E2F32</td>\n",
              "    </tr>\n",
              "  </tbody>\n",
              "</table>\n",
              "</div>"
            ],
            "text/plain": [
              "   Price  Year  Mileage  ... Manufacturer VehicleType Description\n",
              "0   8995  2014    35725  ...            9           V       E2E53\n",
              "1  10888  2013    19606  ...            9           V       E1F52\n",
              "2   8995  2013    48851  ...            9           V       E2E52\n",
              "3  10999  2014    39922  ...            9           V       E1F71\n",
              "4  14799  2016    22142  ...            9           U       E2F32\n",
              "\n",
              "[5 rows x 13 columns]"
            ]
          },
          "metadata": {
            "tags": []
          },
          "execution_count": 336
        }
      ]
    },
    {
      "cell_type": "code",
      "metadata": {
        "colab_type": "code",
        "id": "YC5CZKkfE_-V",
        "colab": {}
      },
      "source": [
        "X = pd.concat([X, pd.get_dummies(X.Make, prefix='Make')], axis=1)\n",
        "X = pd.concat([X, pd.get_dummies(X.State, prefix='State')], axis=1)\n",
        "X = pd.concat([X, pd.get_dummies(X.Location, prefix='Location')], axis=1)\n",
        "X = pd.concat([X, pd.get_dummies(X.Manufacturer, prefix='Manufacturer')], axis=1)\n",
        "X = pd.concat([X, pd.get_dummies(X.VehicleType, prefix='VehicleType')], axis=1)"
      ],
      "execution_count": 0,
      "outputs": []
    },
    {
      "cell_type": "code",
      "metadata": {
        "colab_type": "code",
        "id": "Tv6n-mr1E_-1",
        "colab": {}
      },
      "source": [
        "X = X.drop('Price', axis=1)\n",
        "X = X.drop('Vin', axis=1)\n",
        "X = X.drop('Serial', axis=1)\n",
        "X = X.drop('Location', axis=1)\n",
        "X = X.drop('Manufacturer', axis=1)\n",
        "X = X.drop('VehicleType', axis=1)\n",
        "X = X.drop('Description', axis=1)\n",
        "X = X.drop('Make', axis=1)\n",
        "X = X.drop('Model', axis=1)\n",
        "X = X.drop('State', axis=1)\n",
        "X = X.drop('City', axis=1)"
      ],
      "execution_count": 0,
      "outputs": []
    },
    {
      "cell_type": "code",
      "metadata": {
        "id": "eMZQ-zhgIz8z",
        "colab_type": "code",
        "colab": {
          "base_uri": "https://localhost:8080/",
          "height": 34
        },
        "outputId": "9bc59466-10f9-4072-9f25-0fce1b0594b2"
      },
      "source": [
        "X.shape"
      ],
      "execution_count": 339,
      "outputs": [
        {
          "output_type": "execute_result",
          "data": {
            "text/plain": [
              "(852122, 205)"
            ]
          },
          "metadata": {
            "tags": []
          },
          "execution_count": 339
        }
      ]
    },
    {
      "cell_type": "markdown",
      "metadata": {
        "id": "xgBlRfHp9esx",
        "colab_type": "text"
      },
      "source": [
        "## Train / Test"
      ]
    },
    {
      "cell_type": "code",
      "metadata": {
        "id": "tLA817ll98zz",
        "colab_type": "code",
        "colab": {}
      },
      "source": [
        "X_train, X_test, y_train, y_test = train_test_split(X, y, train_size=0.9, random_state=8877)\n",
        "input_shape = (X.shape[1], )"
      ],
      "execution_count": 0,
      "outputs": []
    },
    {
      "cell_type": "markdown",
      "metadata": {
        "id": "11p4Rve_9em5",
        "colab_type": "text"
      },
      "source": [
        "## Model"
      ]
    },
    {
      "cell_type": "code",
      "metadata": {
        "id": "J4nKoVEE-BGR",
        "colab_type": "code",
        "colab": {}
      },
      "source": [
        "model = Sequential()\n",
        "model.add(Dense(256, activation='relu', input_shape=input_shape))\n",
        "model.add(Dropout(0.2))\n",
        "model.add(Dense(128, activation='relu'))\n",
        "model.add(Dropout(0.2))\n",
        "model.add(Dense(64, activation='relu'))\n",
        "model.add(Dropout(0.2))\n",
        "model.add(Dense(1, activation='linear'))"
      ],
      "execution_count": 0,
      "outputs": []
    },
    {
      "cell_type": "code",
      "metadata": {
        "id": "KNwMViDM-BDO",
        "colab_type": "code",
        "colab": {
          "base_uri": "https://localhost:8080/",
          "height": 391
        },
        "outputId": "9d8b35ba-8e9d-48d2-be6f-fcf216b38899"
      },
      "source": [
        "model.summary()"
      ],
      "execution_count": 342,
      "outputs": [
        {
          "output_type": "stream",
          "text": [
            "Model: \"sequential_10\"\n",
            "_________________________________________________________________\n",
            "Layer (type)                 Output Shape              Param #   \n",
            "=================================================================\n",
            "dense_89 (Dense)             (None, 256)               52736     \n",
            "_________________________________________________________________\n",
            "dropout_65 (Dropout)         (None, 256)               0         \n",
            "_________________________________________________________________\n",
            "dense_90 (Dense)             (None, 128)               32896     \n",
            "_________________________________________________________________\n",
            "dropout_66 (Dropout)         (None, 128)               0         \n",
            "_________________________________________________________________\n",
            "dense_91 (Dense)             (None, 64)                8256      \n",
            "_________________________________________________________________\n",
            "dropout_67 (Dropout)         (None, 64)                0         \n",
            "_________________________________________________________________\n",
            "dense_92 (Dense)             (None, 1)                 65        \n",
            "=================================================================\n",
            "Total params: 93,953\n",
            "Trainable params: 93,953\n",
            "Non-trainable params: 0\n",
            "_________________________________________________________________\n"
          ],
          "name": "stdout"
        }
      ]
    },
    {
      "cell_type": "code",
      "metadata": {
        "id": "F5dwMGvd-A_z",
        "colab_type": "code",
        "colab": {}
      },
      "source": [
        "model.compile(loss='mean_squared_error',\n",
        "              optimizer=Adam(lr=3e-4),\n",
        "              metrics=['mae', 'mse'])"
      ],
      "execution_count": 0,
      "outputs": []
    },
    {
      "cell_type": "markdown",
      "metadata": {
        "id": "-Ec7dNet9egS",
        "colab_type": "text"
      },
      "source": [
        "## Train"
      ]
    },
    {
      "cell_type": "code",
      "metadata": {
        "id": "qJg5Is_X-Kbu",
        "colab_type": "code",
        "colab": {
          "base_uri": "https://localhost:8080/",
          "height": 1000
        },
        "outputId": "2d2b4213-8121-466e-a807-117142ca31d3"
      },
      "source": [
        "history_target = model.fit(X_train, y_train,\n",
        "                             batch_size=batch_size,\n",
        "                             epochs=epochs,\n",
        "                             validation_split=0.1)"
      ],
      "execution_count": 344,
      "outputs": [
        {
          "output_type": "stream",
          "text": [
            "Epoch 1/50\n",
            "675/675 [==============================] - 3s 4ms/step - loss: 233125536.0000 - mae: 10142.7715 - mse: 233125536.0000 - val_loss: 151541648.0000 - val_mae: 7721.0718 - val_mse: 151541648.0000\n",
            "Epoch 2/50\n",
            "675/675 [==============================] - 2s 4ms/step - loss: 155403168.0000 - mae: 8038.9004 - mse: 155403168.0000 - val_loss: 151885328.0000 - val_mae: 7669.3872 - val_mse: 151885328.0000\n",
            "Epoch 3/50\n",
            "675/675 [==============================] - 3s 4ms/step - loss: 153381872.0000 - mae: 7964.0586 - mse: 153381872.0000 - val_loss: 147836272.0000 - val_mae: 7576.1167 - val_mse: 147836272.0000\n",
            "Epoch 4/50\n",
            "675/675 [==============================] - 3s 4ms/step - loss: 152559952.0000 - mae: 7929.1768 - mse: 152559952.0000 - val_loss: 147261040.0000 - val_mae: 7577.0298 - val_mse: 147261040.0000\n",
            "Epoch 5/50\n",
            "675/675 [==============================] - 3s 4ms/step - loss: 151828144.0000 - mae: 7895.3579 - mse: 151828144.0000 - val_loss: 149182560.0000 - val_mae: 7480.5679 - val_mse: 149182560.0000\n",
            "Epoch 6/50\n",
            "675/675 [==============================] - 3s 4ms/step - loss: 150766752.0000 - mae: 7858.5498 - mse: 150766752.0000 - val_loss: 144417536.0000 - val_mae: 7543.3667 - val_mse: 144417536.0000\n",
            "Epoch 7/50\n",
            "675/675 [==============================] - 2s 4ms/step - loss: 149318112.0000 - mae: 7804.4414 - mse: 149318112.0000 - val_loss: 142573328.0000 - val_mae: 7443.4502 - val_mse: 142573328.0000\n",
            "Epoch 8/50\n",
            "675/675 [==============================] - 2s 4ms/step - loss: 146750608.0000 - mae: 7693.1025 - mse: 146750608.0000 - val_loss: 142178384.0000 - val_mae: 7886.3203 - val_mse: 142178384.0000\n",
            "Epoch 9/50\n",
            "675/675 [==============================] - 2s 4ms/step - loss: 139654432.0000 - mae: 7399.8047 - mse: 139654432.0000 - val_loss: 131089584.0000 - val_mae: 6687.7847 - val_mse: 131089584.0000\n",
            "Epoch 10/50\n",
            "675/675 [==============================] - 2s 4ms/step - loss: 126171144.0000 - mae: 6851.5454 - mse: 126171144.0000 - val_loss: 116217952.0000 - val_mae: 6169.8623 - val_mse: 116217952.0000\n",
            "Epoch 11/50\n",
            "675/675 [==============================] - 2s 4ms/step - loss: 118161496.0000 - mae: 6550.3877 - mse: 118161496.0000 - val_loss: 112737208.0000 - val_mae: 6064.6182 - val_mse: 112737208.0000\n",
            "Epoch 12/50\n",
            "675/675 [==============================] - 2s 4ms/step - loss: 114091792.0000 - mae: 6410.8315 - mse: 114091792.0000 - val_loss: 112281376.0000 - val_mae: 5983.9482 - val_mse: 112281376.0000\n",
            "Epoch 13/50\n",
            "675/675 [==============================] - 2s 4ms/step - loss: 111511824.0000 - mae: 6319.4902 - mse: 111511824.0000 - val_loss: 108731696.0000 - val_mae: 6532.8838 - val_mse: 108731696.0000\n",
            "Epoch 14/50\n",
            "675/675 [==============================] - 2s 4ms/step - loss: 109743176.0000 - mae: 6274.1870 - mse: 109743176.0000 - val_loss: 103543712.0000 - val_mae: 6197.2627 - val_mse: 103543712.0000\n",
            "Epoch 15/50\n",
            "675/675 [==============================] - 2s 4ms/step - loss: 107787912.0000 - mae: 6197.7534 - mse: 107787912.0000 - val_loss: 99982080.0000 - val_mae: 5730.4043 - val_mse: 99982080.0000\n",
            "Epoch 16/50\n",
            "675/675 [==============================] - 2s 4ms/step - loss: 106312792.0000 - mae: 6150.4780 - mse: 106312792.0000 - val_loss: 98114416.0000 - val_mae: 5709.0420 - val_mse: 98114416.0000\n",
            "Epoch 17/50\n",
            "675/675 [==============================] - 2s 4ms/step - loss: 105129520.0000 - mae: 6114.8535 - mse: 105129520.0000 - val_loss: 110260744.0000 - val_mae: 6059.3813 - val_mse: 110260744.0000\n",
            "Epoch 18/50\n",
            "675/675 [==============================] - 2s 4ms/step - loss: 103827928.0000 - mae: 6086.0474 - mse: 103827928.0000 - val_loss: 96726808.0000 - val_mae: 5536.3340 - val_mse: 96726808.0000\n",
            "Epoch 19/50\n",
            "675/675 [==============================] - 2s 4ms/step - loss: 102518624.0000 - mae: 6053.4307 - mse: 102518624.0000 - val_loss: 98242848.0000 - val_mae: 6060.5376 - val_mse: 98242848.0000\n",
            "Epoch 20/50\n",
            "675/675 [==============================] - 2s 4ms/step - loss: 101546720.0000 - mae: 6031.3618 - mse: 101546720.0000 - val_loss: 93189216.0000 - val_mae: 5635.2373 - val_mse: 93189216.0000\n",
            "Epoch 21/50\n",
            "675/675 [==============================] - 2s 4ms/step - loss: 100205288.0000 - mae: 5988.9087 - mse: 100205288.0000 - val_loss: 96310096.0000 - val_mae: 6024.4150 - val_mse: 96310096.0000\n",
            "Epoch 22/50\n",
            "675/675 [==============================] - 2s 4ms/step - loss: 99632824.0000 - mae: 5981.1235 - mse: 99632824.0000 - val_loss: 92399616.0000 - val_mae: 5437.1758 - val_mse: 92399616.0000\n",
            "Epoch 23/50\n",
            "675/675 [==============================] - 2s 4ms/step - loss: 98756480.0000 - mae: 5956.7769 - mse: 98756480.0000 - val_loss: 95120808.0000 - val_mae: 5529.6704 - val_mse: 95120808.0000\n",
            "Epoch 24/50\n",
            "675/675 [==============================] - 3s 4ms/step - loss: 97987328.0000 - mae: 5961.6323 - mse: 97987328.0000 - val_loss: 94765872.0000 - val_mae: 5498.1318 - val_mse: 94765872.0000\n",
            "Epoch 25/50\n",
            "675/675 [==============================] - 3s 4ms/step - loss: 97192424.0000 - mae: 5915.0571 - mse: 97192424.0000 - val_loss: 112325984.0000 - val_mae: 6220.2314 - val_mse: 112325984.0000\n",
            "Epoch 26/50\n",
            "675/675 [==============================] - 2s 4ms/step - loss: 97182456.0000 - mae: 5946.7192 - mse: 97182456.0000 - val_loss: 89203000.0000 - val_mae: 5338.9224 - val_mse: 89203000.0000\n",
            "Epoch 27/50\n",
            "675/675 [==============================] - 2s 4ms/step - loss: 95354360.0000 - mae: 5873.5181 - mse: 95354360.0000 - val_loss: 86678736.0000 - val_mae: 5461.6826 - val_mse: 86678736.0000\n",
            "Epoch 28/50\n",
            "675/675 [==============================] - 2s 4ms/step - loss: 95111560.0000 - mae: 5885.7847 - mse: 95111560.0000 - val_loss: 99563320.0000 - val_mae: 5807.8916 - val_mse: 99563320.0000\n",
            "Epoch 29/50\n",
            "675/675 [==============================] - 3s 4ms/step - loss: 95545032.0000 - mae: 5921.4429 - mse: 95545032.0000 - val_loss: 92073032.0000 - val_mae: 6132.4316 - val_mse: 92073032.0000\n",
            "Epoch 30/50\n",
            "675/675 [==============================] - 3s 4ms/step - loss: 93769872.0000 - mae: 5868.8384 - mse: 93769872.0000 - val_loss: 88633296.0000 - val_mae: 5841.4302 - val_mse: 88633296.0000\n",
            "Epoch 31/50\n",
            "675/675 [==============================] - 3s 4ms/step - loss: 94034728.0000 - mae: 5894.5103 - mse: 94034728.0000 - val_loss: 103649608.0000 - val_mae: 6028.3345 - val_mse: 103649608.0000\n",
            "Epoch 32/50\n",
            "675/675 [==============================] - 3s 4ms/step - loss: 93918896.0000 - mae: 5900.0923 - mse: 93918896.0000 - val_loss: 85754856.0000 - val_mae: 5614.2900 - val_mse: 85754856.0000\n",
            "Epoch 33/50\n",
            "675/675 [==============================] - 2s 4ms/step - loss: 92116552.0000 - mae: 5832.4976 - mse: 92116552.0000 - val_loss: 82869632.0000 - val_mae: 5265.3452 - val_mse: 82869632.0000\n",
            "Epoch 34/50\n",
            "675/675 [==============================] - 3s 4ms/step - loss: 92123416.0000 - mae: 5857.2925 - mse: 92123416.0000 - val_loss: 101423352.0000 - val_mae: 6923.4980 - val_mse: 101423352.0000\n",
            "Epoch 35/50\n",
            "675/675 [==============================] - 2s 4ms/step - loss: 92353744.0000 - mae: 5875.9497 - mse: 92353744.0000 - val_loss: 95872136.0000 - val_mae: 5816.0728 - val_mse: 95872136.0000\n",
            "Epoch 36/50\n",
            "675/675 [==============================] - 2s 4ms/step - loss: 92216728.0000 - mae: 5898.5854 - mse: 92216728.0000 - val_loss: 102085128.0000 - val_mae: 5927.4170 - val_mse: 102085128.0000\n",
            "Epoch 37/50\n",
            "675/675 [==============================] - 2s 4ms/step - loss: 92493176.0000 - mae: 5927.1982 - mse: 92493176.0000 - val_loss: 81159120.0000 - val_mae: 5266.2554 - val_mse: 81159120.0000\n",
            "Epoch 38/50\n",
            "675/675 [==============================] - 2s 4ms/step - loss: 89475680.0000 - mae: 5805.9268 - mse: 89475680.0000 - val_loss: 85736696.0000 - val_mae: 5378.9604 - val_mse: 85736696.0000\n",
            "Epoch 39/50\n",
            "675/675 [==============================] - 2s 4ms/step - loss: 90209768.0000 - mae: 5852.2349 - mse: 90209768.0000 - val_loss: 79269016.0000 - val_mae: 5280.3062 - val_mse: 79269016.0000\n",
            "Epoch 40/50\n",
            "675/675 [==============================] - 2s 4ms/step - loss: 88993680.0000 - mae: 5812.5562 - mse: 88993680.0000 - val_loss: 90242440.0000 - val_mae: 5751.3989 - val_mse: 90242440.0000\n",
            "Epoch 41/50\n",
            "675/675 [==============================] - 2s 4ms/step - loss: 89335928.0000 - mae: 5856.4297 - mse: 89335928.0000 - val_loss: 157064400.0000 - val_mae: 10014.5156 - val_mse: 157064400.0000\n",
            "Epoch 42/50\n",
            "675/675 [==============================] - 2s 4ms/step - loss: 88658952.0000 - mae: 5835.4180 - mse: 88658952.0000 - val_loss: 80177496.0000 - val_mae: 5458.8579 - val_mse: 80177496.0000\n",
            "Epoch 43/50\n",
            "675/675 [==============================] - 2s 4ms/step - loss: 87749160.0000 - mae: 5796.2500 - mse: 87749160.0000 - val_loss: 83329872.0000 - val_mae: 5315.3936 - val_mse: 83329872.0000\n",
            "Epoch 44/50\n",
            "675/675 [==============================] - 2s 4ms/step - loss: 87935704.0000 - mae: 5833.8647 - mse: 87935704.0000 - val_loss: 77761456.0000 - val_mae: 5264.4121 - val_mse: 77761456.0000\n",
            "Epoch 45/50\n",
            "675/675 [==============================] - 2s 4ms/step - loss: 86581192.0000 - mae: 5785.1045 - mse: 86581192.0000 - val_loss: 203612608.0000 - val_mae: 11636.3643 - val_mse: 203612608.0000\n",
            "Epoch 46/50\n",
            "675/675 [==============================] - 2s 4ms/step - loss: 93375440.0000 - mae: 6126.0288 - mse: 93375440.0000 - val_loss: 77249336.0000 - val_mae: 5348.6260 - val_mse: 77249336.0000\n",
            "Epoch 47/50\n",
            "675/675 [==============================] - 2s 4ms/step - loss: 91446144.0000 - mae: 6021.3496 - mse: 91446144.0000 - val_loss: 75921296.0000 - val_mae: 5254.5215 - val_mse: 75921296.0000\n",
            "Epoch 48/50\n",
            "675/675 [==============================] - 2s 4ms/step - loss: 91542344.0000 - mae: 6065.7642 - mse: 91542344.0000 - val_loss: 89681632.0000 - val_mae: 5705.8105 - val_mse: 89681632.0000\n",
            "Epoch 49/50\n",
            "675/675 [==============================] - 3s 4ms/step - loss: 85801448.0000 - mae: 5786.6313 - mse: 85801448.0000 - val_loss: 76770240.0000 - val_mae: 5376.8115 - val_mse: 76770240.0000\n",
            "Epoch 50/50\n",
            "675/675 [==============================] - 3s 4ms/step - loss: 87482608.0000 - mae: 5875.9658 - mse: 87482608.0000 - val_loss: 91997824.0000 - val_mae: 5827.0469 - val_mse: 91997824.0000\n"
          ],
          "name": "stdout"
        }
      ]
    },
    {
      "cell_type": "markdown",
      "metadata": {
        "id": "6nUmfgLO9eOP",
        "colab_type": "text"
      },
      "source": [
        "## Test"
      ]
    },
    {
      "cell_type": "code",
      "metadata": {
        "id": "HWL7jai8-R-V",
        "colab_type": "code",
        "colab": {
          "base_uri": "https://localhost:8080/",
          "height": 51
        },
        "outputId": "917f46db-8909-415c-ce00-147013403c78"
      },
      "source": [
        "pred = model.predict(X_test)\n",
        "mae  = mean_absolute_error(y_test, pred)\n",
        "mse  = mean_squared_error(y_test, pred)\n",
        "rmse = math.sqrt(mse)\n",
        "\n",
        "print(f'MAE  : {mae:,.2f}')\n",
        "print(f'RMSE : {rmse:,.2f}')\n",
        "\n",
        "results_df.loc['Target Encoding'] = [mae, rmse]"
      ],
      "execution_count": 345,
      "outputs": [
        {
          "output_type": "stream",
          "text": [
            "MAE  : 5,756.63\n",
            "RMSE : 9,217.41\n"
          ],
          "name": "stdout"
        }
      ]
    },
    {
      "cell_type": "markdown",
      "metadata": {
        "id": "2Wwc8RGJ9ntq",
        "colab_type": "text"
      },
      "source": [
        "## Plots"
      ]
    },
    {
      "cell_type": "code",
      "metadata": {
        "id": "pPtteO1B-WlS",
        "colab_type": "code",
        "colab": {
          "base_uri": "https://localhost:8080/",
          "height": 621
        },
        "outputId": "c24f52fc-5cda-426c-c2c7-2616f7086e36"
      },
      "source": [
        "plot_performance(history_target)"
      ],
      "execution_count": 346,
      "outputs": [
        {
          "output_type": "display_data",
          "data": {
            "image/png": "[encoded data removed]",
            "text/plain": [
              "<Figure size 864x720 with 2 Axes>"
            ]
          },
          "metadata": {
            "tags": [],
            "needs_background": "light"
          }
        }
      ]
    },
    {
      "cell_type": "markdown",
      "metadata": {
        "id": "6w3A_tlhpbUT",
        "colab_type": "text"
      },
      "source": [
        "# Sequential vs Functional"
      ]
    },
    {
      "cell_type": "markdown",
      "metadata": {
        "id": "BBaPxiXC2DTl",
        "colab_type": "text"
      },
      "source": [
        "## Model"
      ]
    },
    {
      "cell_type": "code",
      "metadata": {
        "id": "6m1YV-jFxoxP",
        "colab_type": "code",
        "colab": {}
      },
      "source": [
        "inputs = keras.Input(shape=input_shape, name=\"input\")\n",
        "x = Dense(256, activation=\"relu\")(inputs)\n",
        "x = Dropout(.2)(x)\n",
        "x = Dense(128, activation=\"relu\")(x)\n",
        "x = Dropout(.2)(x)\n",
        "x = Dense(64, activation=\"relu\")(x)\n",
        "x = Dropout(.2)(x)\n",
        "outputs = Dense(1, activation=\"linear\")(x)\n",
        "model = Model(inputs, outputs, name=\"auto_prices\")"
      ],
      "execution_count": 0,
      "outputs": []
    },
    {
      "cell_type": "markdown",
      "metadata": {
        "id": "qPVcHiA2Fpua",
        "colab_type": "text"
      },
      "source": [
        "# Embedding Model"
      ]
    },
    {
      "cell_type": "markdown",
      "metadata": {
        "id": "AjBKnQIaEFwm",
        "colab_type": "text"
      },
      "source": [
        "## Features"
      ]
    },
    {
      "cell_type": "code",
      "metadata": {
        "id": "wtxX_6pMEpwJ",
        "colab_type": "code",
        "colab": {}
      },
      "source": [
        "X = df.copy()\n",
        "y = X['Price']\n",
        "X['Age'] = 2017 - X.Year\n",
        "X['State'] = X.State.str.upper()"
      ],
      "execution_count": 0,
      "outputs": []
    },
    {
      "cell_type": "code",
      "metadata": {
        "id": "ujiwzC6GDx3V",
        "colab_type": "code",
        "colab": {}
      },
      "source": [
        "means_df = X.groupby('Model')['Price'].mean()\n",
        "means_df.reset_index()\n",
        "means_df.columns = ['Model', 'Price']\n",
        "X = pd.merge(X, means_df, left_on='Model', right_on='Model')\n",
        "X = X.rename(columns={'Price_x': 'Price', 'Price_y':'Model_Target'})"
      ],
      "execution_count": 0,
      "outputs": []
    },
    {
      "cell_type": "code",
      "metadata": {
        "id": "TR9RQkQAEtG4",
        "colab_type": "code",
        "colab": {}
      },
      "source": [
        "X['Serial'] = X.Vin.str[-6:]\n",
        "X['Location'] = X.Vin.str[0:1]\n",
        "X['Manufacturer'] = X.Vin.str[1:2]\n",
        "X['VehicleType'] = X.Vin.str[2:3]\n",
        "X['Description'] = X.Vin.str[4:9]"
      ],
      "execution_count": 0,
      "outputs": []
    },
    {
      "cell_type": "code",
      "metadata": {
        "id": "Yt4Sfgg4E-M0",
        "colab_type": "code",
        "colab": {}
      },
      "source": [
        "X = pd.concat([X, pd.get_dummies(X.Make, prefix='Make')], axis=1)\n",
        "X = pd.concat([X, pd.get_dummies(X.State, prefix='State')], axis=1)\n",
        "X = pd.concat([X, pd.get_dummies(X.Location, prefix='Location')], axis=1)\n",
        "X = pd.concat([X, pd.get_dummies(X.Manufacturer, prefix='Manufacturer')], axis=1)\n",
        "X = pd.concat([X, pd.get_dummies(X.VehicleType, prefix='VehicleType')], axis=1)"
      ],
      "execution_count": 0,
      "outputs": []
    },
    {
      "cell_type": "code",
      "metadata": {
        "id": "LkRbHymsaqlx",
        "colab_type": "code",
        "colab": {
          "base_uri": "https://localhost:8080/",
          "height": 34
        },
        "outputId": "2f774476-5b9c-48bd-dda2-59b1be9f12c6"
      },
      "source": [
        "len(X.Description.unique())"
      ],
      "execution_count": 314,
      "outputs": [
        {
          "output_type": "execute_result",
          "data": {
            "text/plain": [
              "68509"
            ]
          },
          "metadata": {
            "tags": []
          },
          "execution_count": 314
        }
      ]
    },
    {
      "cell_type": "code",
      "metadata": {
        "colab_type": "code",
        "id": "GsU2dN8xE4Xc",
        "colab": {}
      },
      "source": [
        "X = X.drop('Price', axis=1)\n",
        "X = X.drop('Vin', axis=1)\n",
        "X = X.drop('Serial', axis=1)\n",
        "X = X.drop('Location', axis=1)\n",
        "X = X.drop('Manufacturer', axis=1)\n",
        "X = X.drop('VehicleType', axis=1)\n",
        "X = X.drop('Description', axis=1)\n",
        "X = X.drop('Make', axis=1)\n",
        "X = X.drop('Model', axis=1)\n",
        "X = X.drop('State', axis=1)\n",
        "X = X.drop('City', axis=1)"
      ],
      "execution_count": 0,
      "outputs": []
    },
    {
      "cell_type": "code",
      "metadata": {
        "colab_type": "code",
        "outputId": "7233a5cf-2b9e-4367-ed8d-b54090f8bcfe",
        "id": "JOapyBO5E4Xi",
        "colab": {
          "base_uri": "https://localhost:8080/",
          "height": 34
        }
      },
      "source": [
        "X.shape"
      ],
      "execution_count": 316,
      "outputs": [
        {
          "output_type": "execute_result",
          "data": {
            "text/plain": [
              "(852122, 199)"
            ]
          },
          "metadata": {
            "tags": []
          },
          "execution_count": 316
        }
      ]
    },
    {
      "cell_type": "markdown",
      "metadata": {
        "id": "DSLN7WO8EIEE",
        "colab_type": "text"
      },
      "source": [
        "## Train / Test"
      ]
    },
    {
      "cell_type": "code",
      "metadata": {
        "id": "VAzM7-2LExtz",
        "colab_type": "code",
        "colab": {}
      },
      "source": [
        "X_train, X_test, y_train, y_test = train_test_split(X, y, train_size=0.9, random_state=8877)"
      ],
      "execution_count": 0,
      "outputs": []
    },
    {
      "cell_type": "code",
      "metadata": {
        "id": "QeYdVrUbJUVb",
        "colab_type": "code",
        "colab": {}
      },
      "source": [
        "def col_split(col_prefix, X_train, X_test):\n",
        "  cols = X_train.columns[X_train.columns.str.startswith(col_prefix)]\n",
        "  X_train_split = X_train[cols]\n",
        "  X_test_split  = X_test[cols]\n",
        "  X_train = X_train.drop(cols, axis=1)\n",
        "  X_test  = X_test.drop(cols, axis=1)\n",
        "  return X_train_split, X_test_split, X_train, X_test\n",
        "\n",
        "X_train_make,         X_test_make,         X_train, X_test = col_split('Make_', X_train, X_test)\n",
        "X_train_state,        X_test_state,        X_train, X_test = col_split('State_', X_train, X_test)\n",
        "X_train_location,     X_test_location,     X_train, X_test = col_split('Location_', X_train, X_test)\n",
        "X_train_manufacturer, X_test_manufacturer, X_train, X_test = col_split('Manufacturer_', X_train, X_test)\n",
        "X_train_vehicletype,  X_test_vehicletype,  X_train, X_test = col_split('VehicleType_', X_train, X_test)"
      ],
      "execution_count": 0,
      "outputs": []
    },
    {
      "cell_type": "code",
      "metadata": {
        "id": "WEFwRfqmZoBy",
        "colab_type": "code",
        "colab": {}
      },
      "source": [
        "def input_embedding_size(inputs):\n",
        "  input_size = inputs.shape[1]\n",
        "  embed_size = min(50, (inputs.shape[1] // 2) + 1)\n",
        "  return input_size, embed_size\n",
        "\n",
        "input_size                                     = X_train.shape[1]\n",
        "input_size_make,         emb_size_make         = input_embedding_size(X_train_make)\n",
        "input_size_state,        emb_size_state        = input_embedding_size(X_train_state)\n",
        "input_size_location,     emb_size_location     = input_embedding_size(X_train_location)\n",
        "input_size_manufacturer, emb_size_manufacturer = input_embedding_size(X_train_manufacturer)\n",
        "input_size_vehicletype,  emb_size_vehicletype  = input_embedding_size(X_train_vehicletype)"
      ],
      "execution_count": 0,
      "outputs": []
    },
    {
      "cell_type": "code",
      "metadata": {
        "id": "OGh9t3rVLNla",
        "colab_type": "code",
        "colab": {
          "base_uri": "https://localhost:8080/",
          "height": 119
        },
        "outputId": "71c67fa1-6353-45ed-babc-2c081a3ccb9a"
      },
      "source": [
        "print('Input',        X_train.shape)\n",
        "print('Make',         X_train_make.shape)\n",
        "print('State',        X_train_state.shape)\n",
        "print('Location',     X_train_location.shape)\n",
        "print('Manufacturer', X_train_manufacturer.shape)\n",
        "print('VehicleType',  X_train_vehicletype.shape)"
      ],
      "execution_count": 320,
      "outputs": [
        {
          "output_type": "stream",
          "text": [
            "Input (766909, 4)\n",
            "Make (766909, 58)\n",
            "State (766909, 51)\n",
            "Location (766909, 23)\n",
            "Manufacturer (766909, 29)\n",
            "VehicleType (766909, 34)\n"
          ],
          "name": "stdout"
        }
      ]
    },
    {
      "cell_type": "code",
      "metadata": {
        "id": "I4JIXX7FOWY2",
        "colab_type": "code",
        "colab": {
          "base_uri": "https://localhost:8080/",
          "height": 204
        },
        "outputId": "52169b2f-99ab-47a7-ccc2-13af28783ce9"
      },
      "source": [
        "X_train.head()\n"
      ],
      "execution_count": 321,
      "outputs": [
        {
          "output_type": "execute_result",
          "data": {
            "text/html": [
              "<div>\n",
              "<style scoped>\n",
              "    .dataframe tbody tr th:only-of-type {\n",
              "        vertical-align: middle;\n",
              "    }\n",
              "\n",
              "    .dataframe tbody tr th {\n",
              "        vertical-align: top;\n",
              "    }\n",
              "\n",
              "    .dataframe thead th {\n",
              "        text-align: right;\n",
              "    }\n",
              "</style>\n",
              "<table border=\"1\" class=\"dataframe\">\n",
              "  <thead>\n",
              "    <tr style=\"text-align: right;\">\n",
              "      <th></th>\n",
              "      <th>Year</th>\n",
              "      <th>Mileage</th>\n",
              "      <th>Age</th>\n",
              "      <th>Model_Target</th>\n",
              "    </tr>\n",
              "  </thead>\n",
              "  <tbody>\n",
              "    <tr>\n",
              "      <th>720142</th>\n",
              "      <td>2016</td>\n",
              "      <td>32984</td>\n",
              "      <td>1</td>\n",
              "      <td>42470.486655</td>\n",
              "    </tr>\n",
              "    <tr>\n",
              "      <th>457667</th>\n",
              "      <td>2011</td>\n",
              "      <td>82225</td>\n",
              "      <td>6</td>\n",
              "      <td>10173.097996</td>\n",
              "    </tr>\n",
              "    <tr>\n",
              "      <th>629890</th>\n",
              "      <td>2016</td>\n",
              "      <td>32415</td>\n",
              "      <td>1</td>\n",
              "      <td>11734.747433</td>\n",
              "    </tr>\n",
              "    <tr>\n",
              "      <th>163757</th>\n",
              "      <td>2010</td>\n",
              "      <td>102004</td>\n",
              "      <td>7</td>\n",
              "      <td>22869.067609</td>\n",
              "    </tr>\n",
              "    <tr>\n",
              "      <th>289751</th>\n",
              "      <td>2011</td>\n",
              "      <td>74108</td>\n",
              "      <td>6</td>\n",
              "      <td>18038.827107</td>\n",
              "    </tr>\n",
              "  </tbody>\n",
              "</table>\n",
              "</div>"
            ],
            "text/plain": [
              "        Year  Mileage  Age  Model_Target\n",
              "720142  2016    32984    1  42470.486655\n",
              "457667  2011    82225    6  10173.097996\n",
              "629890  2016    32415    1  11734.747433\n",
              "163757  2010   102004    7  22869.067609\n",
              "289751  2011    74108    6  18038.827107"
            ]
          },
          "metadata": {
            "tags": []
          },
          "execution_count": 321
        }
      ]
    },
    {
      "cell_type": "markdown",
      "metadata": {
        "id": "T6eurpfFECuF",
        "colab_type": "text"
      },
      "source": [
        "## Model"
      ]
    },
    {
      "cell_type": "code",
      "metadata": {
        "id": "LDsEHbU7Jwas",
        "colab_type": "code",
        "colab": {}
      },
      "source": [
        "inputs = keras.Input(shape=(input_size,), name='inputs')\n",
        "\n",
        "inputs_make = keras.Input(shape=(input_size_make,), name='inputs_make')\n",
        "x_make = Embedding(input_dim=input_size_make, output_dim = emb_size_make)(inputs_make)\n",
        "x_make = Flatten()(x_make)\n",
        "\n",
        "inputs_state = keras.Input(shape=(input_size_state,), name='inputs_state')\n",
        "x_state = Embedding(input_dim=input_size_state, output_dim = emb_size_state)(inputs_state)\n",
        "x_state = Flatten()(x_state)\n",
        "\n",
        "inputs_location = keras.Input(shape=(input_size_location,), name='inputs_location')\n",
        "x_location = Embedding(input_dim=input_size_location, output_dim = emb_size_location)(inputs_location)\n",
        "x_location = Flatten()(x_location)\n",
        "\n",
        "inputs_manufacturer = keras.Input(shape=(input_size_manufacturer,), name='inputs_manufacturer')\n",
        "x_manufacturer = Embedding(input_dim=input_size_manufacturer, output_dim = emb_size_manufacturer)(inputs_manufacturer)\n",
        "x_manufacturer = Flatten()(x_manufacturer)\n",
        "\n",
        "inputs_vehicletype = keras.Input(shape=(input_size_vehicletype,), name='inputs_vehicletype')\n",
        "x_vehicletype = Embedding(input_dim=input_size_vehicletype, output_dim = emb_size_vehicletype)(inputs_vehicletype)\n",
        "x_vehicletype = Flatten()(x_vehicletype)\n",
        "\n",
        "x = Concatenate(axis=1)([inputs, x_make, x_state, x_location, x_manufacturer, x_vehicletype])\n",
        "x = Dense(256, activation='relu')(x)\n",
        "x = Dropout(.2)(x)\n",
        "x = Dense(128, activation='relu')(x)\n",
        "x = Dropout(.2)(x)\n",
        "x = Dense(64, activation='relu')(x)\n",
        "x = Dropout(.2)(x)\n",
        "outputs = Dense(1, activation='linear')(x)\n",
        "\n",
        "model = keras.Model(\n",
        "    inputs=[inputs, inputs_make, inputs_state, inputs_location, inputs_manufacturer, inputs_vehicletype],\n",
        "    outputs=[outputs],\n",
        "    name='auto_prices'\n",
        ")"
      ],
      "execution_count": 0,
      "outputs": []
    },
    {
      "cell_type": "code",
      "metadata": {
        "id": "jelt10A5OV9o",
        "colab_type": "code",
        "colab": {
          "base_uri": "https://localhost:8080/",
          "height": 1000
        },
        "outputId": "3d2625b7-f620-4085-9bfc-d72bec10badf"
      },
      "source": [
        "model.summary()"
      ],
      "execution_count": 323,
      "outputs": [
        {
          "output_type": "stream",
          "text": [
            "Model: \"auto_prices\"\n",
            "__________________________________________________________________________________________________\n",
            "Layer (type)                    Output Shape         Param #     Connected to                     \n",
            "==================================================================================================\n",
            "inputs_make (InputLayer)        [(None, 58)]         0                                            \n",
            "__________________________________________________________________________________________________\n",
            "inputs_state (InputLayer)       [(None, 51)]         0                                            \n",
            "__________________________________________________________________________________________________\n",
            "inputs_location (InputLayer)    [(None, 23)]         0                                            \n",
            "__________________________________________________________________________________________________\n",
            "inputs_manufacturer (InputLayer [(None, 29)]         0                                            \n",
            "__________________________________________________________________________________________________\n",
            "inputs_vehicletype (InputLayer) [(None, 34)]         0                                            \n",
            "__________________________________________________________________________________________________\n",
            "embedding_57 (Embedding)        (None, 58, 30)       1740        inputs_make[0][0]                \n",
            "__________________________________________________________________________________________________\n",
            "embedding_58 (Embedding)        (None, 51, 26)       1326        inputs_state[0][0]               \n",
            "__________________________________________________________________________________________________\n",
            "embedding_59 (Embedding)        (None, 23, 12)       276         inputs_location[0][0]            \n",
            "__________________________________________________________________________________________________\n",
            "embedding_60 (Embedding)        (None, 29, 15)       435         inputs_manufacturer[0][0]        \n",
            "__________________________________________________________________________________________________\n",
            "embedding_61 (Embedding)        (None, 34, 18)       612         inputs_vehicletype[0][0]         \n",
            "__________________________________________________________________________________________________\n",
            "inputs (InputLayer)             [(None, 4)]          0                                            \n",
            "__________________________________________________________________________________________________\n",
            "flatten_57 (Flatten)            (None, 1740)         0           embedding_57[0][0]               \n",
            "__________________________________________________________________________________________________\n",
            "flatten_58 (Flatten)            (None, 1326)         0           embedding_58[0][0]               \n",
            "__________________________________________________________________________________________________\n",
            "flatten_59 (Flatten)            (None, 276)          0           embedding_59[0][0]               \n",
            "__________________________________________________________________________________________________\n",
            "flatten_60 (Flatten)            (None, 435)          0           embedding_60[0][0]               \n",
            "__________________________________________________________________________________________________\n",
            "flatten_61 (Flatten)            (None, 612)          0           embedding_61[0][0]               \n",
            "__________________________________________________________________________________________________\n",
            "concatenate_10 (Concatenate)    (None, 4393)         0           inputs[0][0]                     \n",
            "                                                                 flatten_57[0][0]                 \n",
            "                                                                 flatten_58[0][0]                 \n",
            "                                                                 flatten_59[0][0]                 \n",
            "                                                                 flatten_60[0][0]                 \n",
            "                                                                 flatten_61[0][0]                 \n",
            "__________________________________________________________________________________________________\n",
            "dense_81 (Dense)                (None, 256)          1124864     concatenate_10[0][0]             \n",
            "__________________________________________________________________________________________________\n",
            "dropout_59 (Dropout)            (None, 256)          0           dense_81[0][0]                   \n",
            "__________________________________________________________________________________________________\n",
            "dense_82 (Dense)                (None, 128)          32896       dropout_59[0][0]                 \n",
            "__________________________________________________________________________________________________\n",
            "dropout_60 (Dropout)            (None, 128)          0           dense_82[0][0]                   \n",
            "__________________________________________________________________________________________________\n",
            "dense_83 (Dense)                (None, 64)           8256        dropout_60[0][0]                 \n",
            "__________________________________________________________________________________________________\n",
            "dropout_61 (Dropout)            (None, 64)           0           dense_83[0][0]                   \n",
            "__________________________________________________________________________________________________\n",
            "dense_84 (Dense)                (None, 1)            65          dropout_61[0][0]                 \n",
            "==================================================================================================\n",
            "Total params: 1,170,470\n",
            "Trainable params: 1,170,470\n",
            "Non-trainable params: 0\n",
            "__________________________________________________________________________________________________\n"
          ],
          "name": "stdout"
        }
      ]
    },
    {
      "cell_type": "code",
      "metadata": {
        "id": "Zg5AyMOZbdnC",
        "colab_type": "code",
        "colab": {
          "base_uri": "https://localhost:8080/",
          "height": 505
        },
        "outputId": "0c14ea61-bd38-491a-a10b-91db2625d49b"
      },
      "source": [
        "tf.keras.utils.plot_model(model, show_shapes=True)"
      ],
      "execution_count": 324,
      "outputs": [
        {
          "output_type": "execute_result",
          "data": {
            "image/png": "[encoded data removed]",
            "text/plain": [
              "<IPython.core.display.Image object>"
            ]
          },
          "metadata": {
            "tags": []
          },
          "execution_count": 324
        }
      ]
    },
    {
      "cell_type": "code",
      "metadata": {
        "id": "WZ7qidjfPjDO",
        "colab_type": "code",
        "colab": {}
      },
      "source": [
        "model.compile(loss='mean_squared_error',\n",
        "              optimizer=Adam(lr=3e-4),\n",
        "              metrics=['mae', 'mse'])"
      ],
      "execution_count": 0,
      "outputs": []
    },
    {
      "cell_type": "markdown",
      "metadata": {
        "id": "EdzX1INLEJ8i",
        "colab_type": "text"
      },
      "source": [
        "## Train"
      ]
    },
    {
      "cell_type": "code",
      "metadata": {
        "id": "IOxjB1pOOxap",
        "colab_type": "code",
        "colab": {
          "base_uri": "https://localhost:8080/",
          "height": 1000
        },
        "outputId": "a4cd1f16-f9dd-42a6-f20c-426e60d5d7d1"
      },
      "source": [
        "history_embedding = model.fit({'inputs':X_train, \n",
        "                                'inputs_make':X_train_make,\n",
        "                                'inputs_state':X_train_state,\n",
        "                                'inputs_location':X_train_location,\n",
        "                                'inputs_manufacturer':X_train_manufacturer,\n",
        "                                'inputs_vehicletype':X_train_vehicletype}, y_train,\n",
        "                             batch_size=batch_size,\n",
        "                             epochs=epochs,\n",
        "                             validation_split=0.1)"
      ],
      "execution_count": 326,
      "outputs": [
        {
          "output_type": "stream",
          "text": [
            "Epoch 1/50\n",
            "675/675 [==============================] - 11s 16ms/step - loss: 191198688.0000 - mae: 8985.7119 - mse: 191198688.0000 - val_loss: 159044544.0000 - val_mae: 8059.5947 - val_mse: 159044544.0000\n",
            "Epoch 2/50\n",
            "675/675 [==============================] - 10s 15ms/step - loss: 163291424.0000 - mae: 8281.1240 - mse: 163291424.0000 - val_loss: 156746320.0000 - val_mae: 7999.6577 - val_mse: 156746320.0000\n",
            "Epoch 3/50\n",
            "675/675 [==============================] - 10s 15ms/step - loss: 161190096.0000 - mae: 8227.9209 - mse: 161190096.0000 - val_loss: 156809024.0000 - val_mae: 8092.7949 - val_mse: 156809024.0000\n",
            "Epoch 4/50\n",
            "675/675 [==============================] - 11s 16ms/step - loss: 159404208.0000 - mae: 8176.5625 - mse: 159404208.0000 - val_loss: 154549264.0000 - val_mae: 7936.8696 - val_mse: 154549264.0000\n",
            "Epoch 5/50\n",
            "675/675 [==============================] - 10s 15ms/step - loss: 158725456.0000 - mae: 8155.9497 - mse: 158725456.0000 - val_loss: 153462784.0000 - val_mae: 7937.7114 - val_mse: 153462784.0000\n",
            "Epoch 6/50\n",
            "675/675 [==============================] - 10s 15ms/step - loss: 157845280.0000 - mae: 8126.3877 - mse: 157845280.0000 - val_loss: 152768224.0000 - val_mae: 7867.6353 - val_mse: 152768224.0000\n",
            "Epoch 7/50\n",
            "675/675 [==============================] - 10s 15ms/step - loss: 156566816.0000 - mae: 8087.7446 - mse: 156566816.0000 - val_loss: 154025040.0000 - val_mae: 8024.8145 - val_mse: 154025040.0000\n",
            "Epoch 8/50\n",
            "675/675 [==============================] - 10s 15ms/step - loss: 154633856.0000 - mae: 8021.9346 - mse: 154633856.0000 - val_loss: 149339984.0000 - val_mae: 7740.4106 - val_mse: 149339984.0000\n",
            "Epoch 9/50\n",
            "675/675 [==============================] - 10s 15ms/step - loss: 152287680.0000 - mae: 7930.9434 - mse: 152287680.0000 - val_loss: 146652784.0000 - val_mae: 7642.3208 - val_mse: 146652784.0000\n",
            "Epoch 10/50\n",
            "675/675 [==============================] - 10s 15ms/step - loss: 149217120.0000 - mae: 7834.4570 - mse: 149217120.0000 - val_loss: 144160688.0000 - val_mae: 7529.1812 - val_mse: 144160688.0000\n",
            "Epoch 11/50\n",
            "675/675 [==============================] - 10s 15ms/step - loss: 147088128.0000 - mae: 7757.7021 - mse: 147088128.0000 - val_loss: 144463584.0000 - val_mae: 7470.4048 - val_mse: 144463584.0000\n",
            "Epoch 12/50\n",
            "675/675 [==============================] - 10s 15ms/step - loss: 144919504.0000 - mae: 7688.9810 - mse: 144919504.0000 - val_loss: 139379232.0000 - val_mae: 7392.4775 - val_mse: 139379232.0000\n",
            "Epoch 13/50\n",
            "675/675 [==============================] - 10s 15ms/step - loss: 143103920.0000 - mae: 7629.5674 - mse: 143103920.0000 - val_loss: 137584832.0000 - val_mae: 7313.5615 - val_mse: 137584832.0000\n",
            "Epoch 14/50\n",
            "675/675 [==============================] - 10s 15ms/step - loss: 141143248.0000 - mae: 7560.7031 - mse: 141143248.0000 - val_loss: 136156480.0000 - val_mae: 7354.5991 - val_mse: 136156480.0000\n",
            "Epoch 15/50\n",
            "675/675 [==============================] - 10s 15ms/step - loss: 139945712.0000 - mae: 7520.3081 - mse: 139945712.0000 - val_loss: 134847280.0000 - val_mae: 7290.5830 - val_mse: 134847280.0000\n",
            "Epoch 16/50\n",
            "675/675 [==============================] - 10s 15ms/step - loss: 139145088.0000 - mae: 7491.7310 - mse: 139145088.0000 - val_loss: 133692624.0000 - val_mae: 7170.2798 - val_mse: 133692624.0000\n",
            "Epoch 17/50\n",
            "675/675 [==============================] - 10s 15ms/step - loss: 137326816.0000 - mae: 7431.9565 - mse: 137326816.0000 - val_loss: 133437264.0000 - val_mae: 7129.3115 - val_mse: 133437264.0000\n",
            "Epoch 18/50\n",
            "675/675 [==============================] - 10s 15ms/step - loss: 136371392.0000 - mae: 7409.2939 - mse: 136371392.0000 - val_loss: 128920760.0000 - val_mae: 7044.2910 - val_mse: 128920760.0000\n",
            "Epoch 19/50\n",
            "675/675 [==============================] - 10s 15ms/step - loss: 135207696.0000 - mae: 7368.4380 - mse: 135207696.0000 - val_loss: 133606800.0000 - val_mae: 7302.4668 - val_mse: 133606800.0000\n",
            "Epoch 20/50\n",
            "675/675 [==============================] - 10s 15ms/step - loss: 134199960.0000 - mae: 7343.1206 - mse: 134199960.0000 - val_loss: 126323744.0000 - val_mae: 6968.2578 - val_mse: 126323744.0000\n",
            "Epoch 21/50\n",
            "675/675 [==============================] - 10s 15ms/step - loss: 133211024.0000 - mae: 7316.8130 - mse: 133211024.0000 - val_loss: 127091248.0000 - val_mae: 6984.0537 - val_mse: 127091248.0000\n",
            "Epoch 22/50\n",
            "675/675 [==============================] - 10s 15ms/step - loss: 132300416.0000 - mae: 7294.5552 - mse: 132300416.0000 - val_loss: 126850680.0000 - val_mae: 7024.7168 - val_mse: 126850680.0000\n",
            "Epoch 23/50\n",
            "675/675 [==============================] - 10s 15ms/step - loss: 131574920.0000 - mae: 7278.0811 - mse: 131574920.0000 - val_loss: 126377600.0000 - val_mae: 6984.6147 - val_mse: 126377600.0000\n",
            "Epoch 24/50\n",
            "675/675 [==============================] - 10s 15ms/step - loss: 130586960.0000 - mae: 7249.9229 - mse: 130586960.0000 - val_loss: 123619616.0000 - val_mae: 6899.3096 - val_mse: 123619616.0000\n",
            "Epoch 25/50\n",
            "675/675 [==============================] - 10s 15ms/step - loss: 130174264.0000 - mae: 7238.8057 - mse: 130174264.0000 - val_loss: 125467432.0000 - val_mae: 6950.8691 - val_mse: 125467432.0000\n",
            "Epoch 26/50\n",
            "675/675 [==============================] - 10s 15ms/step - loss: 129585336.0000 - mae: 7216.9858 - mse: 129585336.0000 - val_loss: 121631112.0000 - val_mae: 6864.4678 - val_mse: 121631112.0000\n",
            "Epoch 27/50\n",
            "675/675 [==============================] - 10s 15ms/step - loss: 128768080.0000 - mae: 7202.5527 - mse: 128768080.0000 - val_loss: 120457224.0000 - val_mae: 6831.1128 - val_mse: 120457224.0000\n",
            "Epoch 28/50\n",
            "675/675 [==============================] - 10s 15ms/step - loss: 128114248.0000 - mae: 7180.5259 - mse: 128114248.0000 - val_loss: 123590824.0000 - val_mae: 6929.7349 - val_mse: 123590824.0000\n",
            "Epoch 29/50\n",
            "675/675 [==============================] - 10s 15ms/step - loss: 127946224.0000 - mae: 7177.3086 - mse: 127946224.0000 - val_loss: 120636376.0000 - val_mae: 6881.6357 - val_mse: 120636376.0000\n",
            "Epoch 30/50\n",
            "675/675 [==============================] - 10s 15ms/step - loss: 127393464.0000 - mae: 7160.1704 - mse: 127393464.0000 - val_loss: 120396096.0000 - val_mae: 6793.7178 - val_mse: 120396096.0000\n",
            "Epoch 31/50\n",
            "675/675 [==============================] - 10s 15ms/step - loss: 127245232.0000 - mae: 7155.9771 - mse: 127245232.0000 - val_loss: 118738776.0000 - val_mae: 6767.2114 - val_mse: 118738776.0000\n",
            "Epoch 32/50\n",
            "675/675 [==============================] - 10s 15ms/step - loss: 126871176.0000 - mae: 7143.7715 - mse: 126871176.0000 - val_loss: 117751240.0000 - val_mae: 6766.5737 - val_mse: 117751240.0000\n",
            "Epoch 33/50\n",
            "675/675 [==============================] - 10s 15ms/step - loss: 126340424.0000 - mae: 7132.6289 - mse: 126340424.0000 - val_loss: 123494680.0000 - val_mae: 6933.4756 - val_mse: 123494680.0000\n",
            "Epoch 34/50\n",
            "675/675 [==============================] - 10s 15ms/step - loss: 125625728.0000 - mae: 7118.4810 - mse: 125625728.0000 - val_loss: 123009448.0000 - val_mae: 6935.6299 - val_mse: 123009448.0000\n",
            "Epoch 35/50\n",
            "675/675 [==============================] - 10s 15ms/step - loss: 125429256.0000 - mae: 7103.2822 - mse: 125429256.0000 - val_loss: 116680160.0000 - val_mae: 6702.8467 - val_mse: 116680160.0000\n",
            "Epoch 36/50\n",
            "675/675 [==============================] - 10s 15ms/step - loss: 125132808.0000 - mae: 7098.1362 - mse: 125132808.0000 - val_loss: 118516608.0000 - val_mae: 6847.3721 - val_mse: 118516608.0000\n",
            "Epoch 37/50\n",
            "675/675 [==============================] - 10s 15ms/step - loss: 124510360.0000 - mae: 7083.5117 - mse: 124510360.0000 - val_loss: 118785784.0000 - val_mae: 6813.4268 - val_mse: 118785784.0000\n",
            "Epoch 38/50\n",
            "675/675 [==============================] - 10s 15ms/step - loss: 124739272.0000 - mae: 7093.5908 - mse: 124739272.0000 - val_loss: 116084640.0000 - val_mae: 6716.3896 - val_mse: 116084640.0000\n",
            "Epoch 39/50\n",
            "675/675 [==============================] - 10s 15ms/step - loss: 124191528.0000 - mae: 7073.7446 - mse: 124191528.0000 - val_loss: 116527600.0000 - val_mae: 6737.9004 - val_mse: 116527600.0000\n",
            "Epoch 40/50\n",
            "675/675 [==============================] - 10s 15ms/step - loss: 123590264.0000 - mae: 7066.7324 - mse: 123590264.0000 - val_loss: 118375656.0000 - val_mae: 6851.2388 - val_mse: 118375656.0000\n",
            "Epoch 41/50\n",
            "675/675 [==============================] - 10s 15ms/step - loss: 123708360.0000 - mae: 7058.5259 - mse: 123708360.0000 - val_loss: 114273816.0000 - val_mae: 6675.8467 - val_mse: 114273816.0000\n",
            "Epoch 42/50\n",
            "675/675 [==============================] - 10s 15ms/step - loss: 123025560.0000 - mae: 7046.7114 - mse: 123025560.0000 - val_loss: 113423752.0000 - val_mae: 6620.5146 - val_mse: 113423752.0000\n",
            "Epoch 43/50\n",
            "675/675 [==============================] - 10s 15ms/step - loss: 122744144.0000 - mae: 7046.2661 - mse: 122744144.0000 - val_loss: 115633280.0000 - val_mae: 6687.2412 - val_mse: 115633280.0000\n",
            "Epoch 44/50\n",
            "675/675 [==============================] - 10s 15ms/step - loss: 122403856.0000 - mae: 7027.8750 - mse: 122403856.0000 - val_loss: 113032648.0000 - val_mae: 6666.5581 - val_mse: 113032648.0000\n",
            "Epoch 45/50\n",
            "675/675 [==============================] - 10s 15ms/step - loss: 121950088.0000 - mae: 7022.9175 - mse: 121950088.0000 - val_loss: 115493080.0000 - val_mae: 6850.2559 - val_mse: 115493080.0000\n",
            "Epoch 46/50\n",
            "675/675 [==============================] - 10s 15ms/step - loss: 121966560.0000 - mae: 7017.6621 - mse: 121966560.0000 - val_loss: 111570888.0000 - val_mae: 6588.9238 - val_mse: 111570888.0000\n",
            "Epoch 47/50\n",
            "675/675 [==============================] - 10s 15ms/step - loss: 121539024.0000 - mae: 7003.9927 - mse: 121539024.0000 - val_loss: 114966528.0000 - val_mae: 6769.0459 - val_mse: 114966528.0000\n",
            "Epoch 48/50\n",
            "675/675 [==============================] - 10s 15ms/step - loss: 121310840.0000 - mae: 7000.3174 - mse: 121310840.0000 - val_loss: 120255744.0000 - val_mae: 7012.9814 - val_mse: 120255744.0000\n",
            "Epoch 49/50\n",
            "675/675 [==============================] - 10s 15ms/step - loss: 120932256.0000 - mae: 6999.3560 - mse: 120932256.0000 - val_loss: 111479064.0000 - val_mae: 6590.3892 - val_mse: 111479064.0000\n",
            "Epoch 50/50\n",
            "675/675 [==============================] - 10s 15ms/step - loss: 120729920.0000 - mae: 6990.4238 - mse: 120729920.0000 - val_loss: 113930040.0000 - val_mae: 6635.6001 - val_mse: 113930040.0000\n"
          ],
          "name": "stdout"
        }
      ]
    },
    {
      "cell_type": "markdown",
      "metadata": {
        "id": "t8W31QfKEMa-",
        "colab_type": "text"
      },
      "source": [
        "## Test"
      ]
    },
    {
      "cell_type": "code",
      "metadata": {
        "id": "ZtvbkxUfVy6f",
        "colab_type": "code",
        "colab": {
          "base_uri": "https://localhost:8080/",
          "height": 51
        },
        "outputId": "dc1f1f47-186f-477d-8259-e2e794867935"
      },
      "source": [
        "pred = model.predict({'inputs':X_test, \n",
        "                      'inputs_make':X_test_make,\n",
        "                      'inputs_state':X_test_state,\n",
        "                      'inputs_location':X_test_location,\n",
        "                      'inputs_manufacturer':X_test_manufacturer,\n",
        "                      'inputs_vehicletype':X_test_vehicletype})\n",
        "\n",
        "mae  = mean_absolute_error(y_test, pred)\n",
        "mse  = mean_squared_error(y_test, pred)\n",
        "rmse = math.sqrt(mse)\n",
        "\n",
        "print(f'MAE  : {mae:,.2f}')\n",
        "print(f'RMSE : {rmse:,.2f}')\n",
        "\n",
        "results_df.loc['Embedding'] = [mae, rmse]"
      ],
      "execution_count": 327,
      "outputs": [
        {
          "output_type": "stream",
          "text": [
            "MAE  : 6,608.34\n",
            "RMSE : 10,477.71\n"
          ],
          "name": "stdout"
        }
      ]
    },
    {
      "cell_type": "markdown",
      "metadata": {
        "id": "Ak6YJ64IERGi",
        "colab_type": "text"
      },
      "source": [
        "## Plots"
      ]
    },
    {
      "cell_type": "code",
      "metadata": {
        "id": "Y-7FNLG7-cFi",
        "colab_type": "code",
        "colab": {
          "base_uri": "https://localhost:8080/",
          "height": 621
        },
        "outputId": "0f5d2e4a-ad15-469a-a81b-12e16f71c23d"
      },
      "source": [
        "plot_performance(history_embedding)"
      ],
      "execution_count": 328,
      "outputs": [
        {
          "output_type": "display_data",
          "data": {
            "image/png": "[encoded data removed]",
            "text/plain": [
              "<Figure size 864x720 with 2 Axes>"
            ]
          },
          "metadata": {
            "tags": [],
            "needs_background": "light"
          }
        }
      ]
    },
    {
      "cell_type": "markdown",
      "metadata": {
        "id": "by--edyMrNUl",
        "colab_type": "text"
      },
      "source": [
        "# Results"
      ]
    },
    {
      "cell_type": "code",
      "metadata": {
        "id": "PXD8sXjJ-qPg",
        "colab_type": "code",
        "colab": {
          "base_uri": "https://localhost:8080/",
          "height": 204
        },
        "outputId": "4971e79f-4d22-4235-b3b4-a8c2b9678486"
      },
      "source": [
        "results_df"
      ],
      "execution_count": 329,
      "outputs": [
        {
          "output_type": "execute_result",
          "data": {
            "text/html": [
              "<div>\n",
              "<style scoped>\n",
              "    .dataframe tbody tr th:only-of-type {\n",
              "        vertical-align: middle;\n",
              "    }\n",
              "\n",
              "    .dataframe tbody tr th {\n",
              "        vertical-align: top;\n",
              "    }\n",
              "\n",
              "    .dataframe thead th {\n",
              "        text-align: right;\n",
              "    }\n",
              "</style>\n",
              "<table border=\"1\" class=\"dataframe\">\n",
              "  <thead>\n",
              "    <tr style=\"text-align: right;\">\n",
              "      <th></th>\n",
              "      <th>MAE</th>\n",
              "      <th>RMSE</th>\n",
              "    </tr>\n",
              "  </thead>\n",
              "  <tbody>\n",
              "    <tr>\n",
              "      <th>Shallow</th>\n",
              "      <td>7099.885389</td>\n",
              "      <td>11343.465522</td>\n",
              "    </tr>\n",
              "    <tr>\n",
              "      <th>Deep</th>\n",
              "      <td>6012.633080</td>\n",
              "      <td>9750.624218</td>\n",
              "    </tr>\n",
              "    <tr>\n",
              "      <th>VIN</th>\n",
              "      <td>5300.682613</td>\n",
              "      <td>8853.229538</td>\n",
              "    </tr>\n",
              "    <tr>\n",
              "      <th>Target Encoding</th>\n",
              "      <td>5254.847035</td>\n",
              "      <td>8715.380848</td>\n",
              "    </tr>\n",
              "    <tr>\n",
              "      <th>Embedding</th>\n",
              "      <td>6608.343565</td>\n",
              "      <td>10477.711398</td>\n",
              "    </tr>\n",
              "  </tbody>\n",
              "</table>\n",
              "</div>"
            ],
            "text/plain": [
              "                         MAE          RMSE\n",
              "Shallow          7099.885389  11343.465522\n",
              "Deep             6012.633080   9750.624218\n",
              "VIN              5300.682613   8853.229538\n",
              "Target Encoding  5254.847035   8715.380848\n",
              "Embedding        6608.343565  10477.711398"
            ]
          },
          "metadata": {
            "tags": []
          },
          "execution_count": 329
        }
      ]
    },
    {
      "cell_type": "code",
      "metadata": {
        "id": "q8axqrUV-rfN",
        "colab_type": "code",
        "colab": {}
      },
      "source": [
        ""
      ],
      "execution_count": 0,
      "outputs": []
    }
  ]
}